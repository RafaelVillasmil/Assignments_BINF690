{
  "nbformat": 4,
  "nbformat_minor": 0,
  "metadata": {
    "colab": {
      "name": "RafaelV_unit_3_notebook_3a.ipynb",
      "provenance": [],
      "collapsed_sections": [],
      "toc_visible": true,
      "include_colab_link": true
    },
    "kernelspec": {
      "name": "python3",
      "display_name": "Python 3"
    }
  },
  "cells": [
    {
      "cell_type": "markdown",
      "metadata": {
        "id": "view-in-github",
        "colab_type": "text"
      },
      "source": [
        "<a href=\"https://colab.research.google.com/github/RafaelVillasmil/BIOF309_Introduction_to_Python/blob/main/RafaelV_unit_3_notebook_3a.ipynb\" target=\"_parent\"><img src=\"https://colab.research.google.com/assets/colab-badge.svg\" alt=\"Open In Colab\"/></a>"
      ]
    },
    {
      "cell_type": "markdown",
      "metadata": {
        "id": "lwuTCUVlJeY6"
      },
      "source": [
        "# Unit 3 - Instructional DEMO 3a: Data structures.\n",
        " - **Focus:** Data structures. \n",
        " - **Author(s):** Sara B-C.\n",
        " - **Date Notebook Last Modified:** 08.16.2020\n",
        " - **Quick Description:** Use this notebook to learn the basics of python data structures. We'll cover lists and list manipulation as these are the most useful in biomedical data science. We'll also discuss tuples and dictionaries. In the beginning, just hit play at each cell and watch how things work. Once you are done, you can download the finished results. **There are some exercises to complete at the end!**\n",
        "\n",
        "---\n",
        "## Code outline\n",
        "  0. Set up file stream (yep, this is in every notebook).\n",
        "  1. Making a list with some adding and subtracting content.\n",
        "  2. Combine two lists and print a slice, then make a nested list.\n",
        "  3. Create and extract from a tuple.   \n",
        "  4. Make a dictionary.\n",
        "  5. Explore the dictionary.\n",
        "\n",
        "---\n",
        "## Additional notes\n",
        "*   As a scientist, for most of your career, your will mainly focus on lists and some aspects of dictionaries."
      ]
    },
    {
      "cell_type": "markdown",
      "metadata": {
        "id": "XuUnubnFH9xZ"
      },
      "source": [
        "## 0. Lets set up filestream access\n",
        "Follow the directions on screen as you run the code cell below and then you can access the data stored on your 'My Drive'. For many of you, this is the first python code you will ever execute knowingly, as most google infrastructure is python based (another reason why the language is growing)... You did this before, let's go!"
      ]
    },
    {
      "cell_type": "code",
      "metadata": {
        "id": "D2qRSmw3GUNA",
        "colab": {
          "base_uri": "https://localhost:8080/"
        },
        "outputId": "1d469380-b94e-4046-a0c1-988ed4345ed8"
      },
      "source": [
        "import os\n",
        "from google.colab import drive\n",
        "drive.mount('/content/drive/')\n",
        "os.chdir(\"/content/drive/My Drive/BINF309_Introduction_to_Python/example_data/\")"
      ],
      "execution_count": 1,
      "outputs": [
        {
          "output_type": "stream",
          "name": "stdout",
          "text": [
            "Mounted at /content/drive/\n"
          ]
        }
      ]
    },
    {
      "cell_type": "markdown",
      "metadata": {
        "id": "mITVzECaO2j6"
      },
      "source": [
        "Above you should now see the output \"Mounted at /content/drive/\". This means your storage is now connected to your notebook and its runtime. A runtime is the computer it will use to execute code and other computations. We'll cover what the above code means once you have learned some more python."
      ]
    },
    {
      "cell_type": "markdown",
      "metadata": {
        "id": "GD8TX9ZoUxd5"
      },
      "source": [
        "## 1. Making a list with some adding and subtracting content.\n"
      ]
    },
    {
      "cell_type": "code",
      "metadata": {
        "id": "RHliNCrvVAkc",
        "colab": {
          "base_uri": "https://localhost:8080/"
        },
        "outputId": "3d0c25d6-473d-44b7-dc93-f2dc3115160c"
      },
      "source": [
        "# A sample list\n",
        "this_list = [1,2,3]\n",
        "\n",
        "# Numbers are boring today, let's overwrite it with a set of colors as strings\n",
        "this_list = ['red','green','yellow']\n",
        "\n",
        "this_list"
      ],
      "execution_count": 2,
      "outputs": [
        {
          "output_type": "execute_result",
          "data": {
            "text/plain": [
              "['red', 'green', 'yellow']"
            ]
          },
          "metadata": {},
          "execution_count": 2
        }
      ]
    },
    {
      "cell_type": "code",
      "metadata": {
        "id": "jnT8f_uefYCK",
        "colab": {
          "base_uri": "https://localhost:8080/"
        },
        "outputId": "70f6b192-8e6e-4ecf-b84a-158fd978ce0a"
      },
      "source": [
        "# Green isn't cool anymore let's delete it from the list\n",
        "this_list.remove('green')\n",
        "this_list"
      ],
      "execution_count": 3,
      "outputs": [
        {
          "output_type": "execute_result",
          "data": {
            "text/plain": [
              "['red', 'yellow']"
            ]
          },
          "metadata": {},
          "execution_count": 3
        }
      ]
    },
    {
      "cell_type": "code",
      "metadata": {
        "id": "aHXuBzbiU5uC",
        "colab": {
          "base_uri": "https://localhost:8080/"
        },
        "outputId": "c920a687-7682-40c2-fed2-d34b22fad9db"
      },
      "source": [
        "# Purple is much cooler, lets add that\n",
        "this_list.append('purple')\n",
        "this_list\n",
        "\n",
        "# This will be very helpful when dealing with huge lists later on in your research"
      ],
      "execution_count": 4,
      "outputs": [
        {
          "output_type": "execute_result",
          "data": {
            "text/plain": [
              "['red', 'yellow', 'purple']"
            ]
          },
          "metadata": {},
          "execution_count": 4
        }
      ]
    },
    {
      "cell_type": "code",
      "metadata": {
        "id": "U2xbH5d1Vesa",
        "colab": {
          "base_uri": "https://localhost:8080/",
          "height": 35
        },
        "outputId": "04eac820-7a20-4d41-b3e5-709598c4b974"
      },
      "source": [
        "# Print the second element of the list, remember we count from zero in py!!!!\n",
        "this_list[1]"
      ],
      "execution_count": 5,
      "outputs": [
        {
          "output_type": "execute_result",
          "data": {
            "application/vnd.google.colaboratory.intrinsic+json": {
              "type": "string"
            },
            "text/plain": [
              "'yellow'"
            ]
          },
          "metadata": {},
          "execution_count": 5
        }
      ]
    },
    {
      "cell_type": "markdown",
      "metadata": {
        "id": "cIO-6lW3aMhn"
      },
      "source": [
        "## 2. Combine two lists and print a slice, then make a nested list.\n",
        "\n"
      ]
    },
    {
      "cell_type": "code",
      "metadata": {
        "id": "dM_3own0Vpos",
        "colab": {
          "base_uri": "https://localhost:8080/"
        },
        "outputId": "baecc0d0-39e6-4f9a-a6f9-49d63ee2bf36"
      },
      "source": [
        "# List 1\n",
        "list_1 = this_list\n",
        "\n",
        "# List 2\n",
        "list_2 = ['x', 'y', 'z']\n",
        "\n",
        "# Combined list\n",
        "combined_list = list_1 + list_2\n",
        "\n",
        "combined_list"
      ],
      "execution_count": 6,
      "outputs": [
        {
          "output_type": "execute_result",
          "data": {
            "text/plain": [
              "['red', 'yellow', 'purple', 'x', 'y', 'z']"
            ]
          },
          "metadata": {},
          "execution_count": 6
        }
      ]
    },
    {
      "cell_type": "code",
      "metadata": {
        "id": "y5KtOIjYWQyZ",
        "colab": {
          "base_uri": "https://localhost:8080/"
        },
        "outputId": "6ae42237-4ba3-4fd3-b5c5-6b97289fe648"
      },
      "source": [
        "# Combined  list is too easy, let's make a nested list\n",
        "nested_list = [[list_1],[list_2]]\n",
        "nested_list"
      ],
      "execution_count": 7,
      "outputs": [
        {
          "output_type": "execute_result",
          "data": {
            "text/plain": [
              "[[['red', 'yellow', 'purple']], [['x', 'y', 'z']]]"
            ]
          },
          "metadata": {},
          "execution_count": 7
        }
      ]
    },
    {
      "cell_type": "code",
      "metadata": {
        "id": "UBewR_w2WuRB",
        "colab": {
          "base_uri": "https://localhost:8080/"
        },
        "outputId": "ec16b632-25f3-46af-9ebb-af437d57d36b"
      },
      "source": [
        "# How long is the combined list\n",
        "len(combined_list)"
      ],
      "execution_count": 8,
      "outputs": [
        {
          "output_type": "execute_result",
          "data": {
            "text/plain": [
              "6"
            ]
          },
          "metadata": {},
          "execution_count": 8
        }
      ]
    },
    {
      "cell_type": "code",
      "metadata": {
        "id": "p_nqff2DW0Za",
        "colab": {
          "base_uri": "https://localhost:8080/"
        },
        "outputId": "8814a19d-87fd-4c0d-e251-252a18535c7b"
      },
      "source": [
        "# How long is the nested list\n",
        "len(nested_list)"
      ],
      "execution_count": 9,
      "outputs": [
        {
          "output_type": "execute_result",
          "data": {
            "text/plain": [
              "2"
            ]
          },
          "metadata": {},
          "execution_count": 9
        }
      ]
    },
    {
      "cell_type": "code",
      "metadata": {
        "id": "cI_qSjiNW70T",
        "colab": {
          "base_uri": "https://localhost:8080/",
          "height": 35
        },
        "outputId": "c79e0aad-d88f-4749-a1c5-227e109bd150"
      },
      "source": [
        "# What is the second element of the combined list\n",
        "combined_list[1]"
      ],
      "execution_count": 10,
      "outputs": [
        {
          "output_type": "execute_result",
          "data": {
            "application/vnd.google.colaboratory.intrinsic+json": {
              "type": "string"
            },
            "text/plain": [
              "'yellow'"
            ]
          },
          "metadata": {},
          "execution_count": 10
        }
      ]
    },
    {
      "cell_type": "code",
      "metadata": {
        "id": "4a4-xrsLXC_z",
        "colab": {
          "base_uri": "https://localhost:8080/"
        },
        "outputId": "bb0dfde8-5e17-4d8f-b121-9eeb742938c6"
      },
      "source": [
        "# What is the second element of the nested list\n",
        "nested_list[1]"
      ],
      "execution_count": 11,
      "outputs": [
        {
          "output_type": "execute_result",
          "data": {
            "text/plain": [
              "[['x', 'y', 'z']]"
            ]
          },
          "metadata": {},
          "execution_count": 11
        }
      ]
    },
    {
      "cell_type": "markdown",
      "metadata": {
        "id": "POhPV15zi9ZO"
      },
      "source": [
        "## 3. Create and extract from a tuple.\n"
      ]
    },
    {
      "cell_type": "code",
      "metadata": {
        "id": "S87iYItTjMeS",
        "colab": {
          "base_uri": "https://localhost:8080/"
        },
        "outputId": "3f1ea8f2-79b4-48cb-ec2b-bc3f6cd84cdc"
      },
      "source": [
        "# Let's make a tuple about Michael Jordan, it is immutable\n",
        "basic_info_tuple = (\"Michael Jordan\", \"GOAT\", 6, 23)\n",
        "basic_info_tuple"
      ],
      "execution_count": 12,
      "outputs": [
        {
          "output_type": "execute_result",
          "data": {
            "text/plain": [
              "('Michael Jordan', 'GOAT', 6, 23)"
            ]
          },
          "metadata": {},
          "execution_count": 12
        }
      ]
    },
    {
      "cell_type": "code",
      "metadata": {
        "id": "IdAtFoPGDN0h",
        "colab": {
          "base_uri": "https://localhost:8080/"
        },
        "outputId": "0221668a-5a7e-499e-89da-084064dc1c59"
      },
      "source": [
        "# What are the last three positions of the tuple?\n",
        "basic_info_tuple[1:]"
      ],
      "execution_count": 13,
      "outputs": [
        {
          "output_type": "execute_result",
          "data": {
            "text/plain": [
              "('GOAT', 6, 23)"
            ]
          },
          "metadata": {},
          "execution_count": 13
        }
      ]
    },
    {
      "cell_type": "code",
      "metadata": {
        "id": "G-Zofr7WD8th",
        "colab": {
          "base_uri": "https://localhost:8080/"
        },
        "outputId": "2511dc2f-90f8-4cd3-8762-4a648dc603ba"
      },
      "source": [
        "# What is the second position of the tuple?\n",
        "basic_info_tuple[1:2]"
      ],
      "execution_count": 14,
      "outputs": [
        {
          "output_type": "execute_result",
          "data": {
            "text/plain": [
              "('GOAT',)"
            ]
          },
          "metadata": {},
          "execution_count": 14
        }
      ]
    },
    {
      "cell_type": "markdown",
      "metadata": {
        "id": "JCZ1RMiWkW_3"
      },
      "source": [
        "## 4. Make a dictionary.\n"
      ]
    },
    {
      "cell_type": "code",
      "metadata": {
        "id": "mwGA2Gbekj-D",
        "colab": {
          "base_uri": "https://localhost:8080/"
        },
        "outputId": "f9b82bac-92b2-4850-c545-453106ad62cf"
      },
      "source": [
        "# A basic dictionary about Michael Jordan\n",
        "basic_dict = {\n",
        "    \"Name\": \"Michael Jordan\",\n",
        "    \"Status\": \"GOAT\",\n",
        "    \"Championships\": 6,\n",
        "    \"Number\": 23,\n",
        "}\n",
        "basic_dict # Note the order change to alphabetical"
      ],
      "execution_count": 15,
      "outputs": [
        {
          "output_type": "execute_result",
          "data": {
            "text/plain": [
              "{'Championships': 6, 'Name': 'Michael Jordan', 'Number': 23, 'Status': 'GOAT'}"
            ]
          },
          "metadata": {},
          "execution_count": 15
        }
      ]
    },
    {
      "cell_type": "markdown",
      "metadata": {
        "id": "dk_AdyrqnhO8"
      },
      "source": [
        "## 5. Explore the dictionary.\n"
      ]
    },
    {
      "cell_type": "code",
      "metadata": {
        "id": "LDXWIAylnvJz",
        "colab": {
          "base_uri": "https://localhost:8080/",
          "height": 35
        },
        "outputId": "9ae766cd-8df7-4b3b-b4a6-f52601361652"
      },
      "source": [
        "# Use the key name for find out who we are discussing\n",
        "basic_dict['Name']"
      ],
      "execution_count": 16,
      "outputs": [
        {
          "output_type": "execute_result",
          "data": {
            "application/vnd.google.colaboratory.intrinsic+json": {
              "type": "string"
            },
            "text/plain": [
              "'Michael Jordan'"
            ]
          },
          "metadata": {},
          "execution_count": 16
        }
      ]
    },
    {
      "cell_type": "code",
      "metadata": {
        "id": "wFnpTUm9X5ia",
        "colab": {
          "base_uri": "https://localhost:8080/"
        },
        "outputId": "81c99947-8bb9-47e0-ab2b-fa60e8b6f6ac"
      },
      "source": [
        "# Extract the keys \n",
        "basic_dict.keys()"
      ],
      "execution_count": 17,
      "outputs": [
        {
          "output_type": "execute_result",
          "data": {
            "text/plain": [
              "dict_keys(['Name', 'Status', 'Championships', 'Number'])"
            ]
          },
          "metadata": {},
          "execution_count": 17
        }
      ]
    },
    {
      "cell_type": "code",
      "metadata": {
        "id": "7I8h6M00ZLAn",
        "colab": {
          "base_uri": "https://localhost:8080/"
        },
        "outputId": "06c9978b-5944-4863-fecb-6c33557b073f"
      },
      "source": [
        "# Extract the values\n",
        "basic_dict.values()"
      ],
      "execution_count": 18,
      "outputs": [
        {
          "output_type": "execute_result",
          "data": {
            "text/plain": [
              "dict_values(['Michael Jordan', 'GOAT', 6, 23])"
            ]
          },
          "metadata": {},
          "execution_count": 18
        }
      ]
    },
    {
      "cell_type": "code",
      "metadata": {
        "id": "3L95DG5MdCdF",
        "colab": {
          "base_uri": "https://localhost:8080/"
        },
        "outputId": "36dcfbce-8e8b-409e-9082-0664d684eea3"
      },
      "source": [
        "# Let them know what \"GOAT\" stands for\n",
        "basic_dict['Status'] = \"Greatest of all time\"\n",
        "basic_dict"
      ],
      "execution_count": 19,
      "outputs": [
        {
          "output_type": "execute_result",
          "data": {
            "text/plain": [
              "{'Championships': 6,\n",
              " 'Name': 'Michael Jordan',\n",
              " 'Number': 23,\n",
              " 'Status': 'Greatest of all time'}"
            ]
          },
          "metadata": {},
          "execution_count": 19
        }
      ]
    },
    {
      "cell_type": "markdown",
      "metadata": {
        "id": "p_oU-yokpSTX"
      },
      "source": [
        "**Makes sense, now on to some exercises ...**"
      ]
    },
    {
      "cell_type": "markdown",
      "metadata": {
        "id": "GvJ8ZwG7pn0K"
      },
      "source": [
        "# Unit 3 - Assignment # 3a\n",
        "***Come here to prove your knowledge.***\n",
        "\n",
        "Text cells will indicate a task.  \n",
        "Write your commands in the empty code cells below them."
      ]
    },
    {
      "cell_type": "markdown",
      "metadata": {
        "id": "wxbBn9dRqUzJ"
      },
      "source": [
        "## 1. Make a list and then add in an element to the list."
      ]
    },
    {
      "cell_type": "code",
      "metadata": {
        "id": "ELzciBM8qVKJ",
        "colab": {
          "base_uri": "https://localhost:8080/"
        },
        "outputId": "6a0a34c2-c3e2-4ded-ef5b-05c0d2d775a9"
      },
      "source": [
        "# Create list with album name to store song titles\n",
        "The_Slow_Rush  = []\n",
        "The_Slow_Rush\n",
        "\n",
        "# add name of songs to albun & check\n",
        "The_Slow_Rush  = [\"One More Year\", \"Instant Destiny\", \"Borderline\", \n",
        "                  \"Posthumous Forgiveness\", \"Breathe Deeper\", \"Tomorrow’s Dust\", \n",
        "                  \"On Track\", \"Lost in Yesterday\", \"Is It True\", \n",
        "                  \"It Might Be Time\", \"Glimmer\", \"One More Hour\"]\n",
        "The_Slow_Rush\n"
      ],
      "execution_count": 37,
      "outputs": [
        {
          "output_type": "execute_result",
          "data": {
            "text/plain": [
              "['One More Year',\n",
              " 'Instant Destiny',\n",
              " 'Borderline',\n",
              " 'Posthumous Forgiveness',\n",
              " 'Breathe Deeper',\n",
              " 'Tomorrow’s Dust',\n",
              " 'On Track',\n",
              " 'Lost in Yesterday',\n",
              " 'Is It True',\n",
              " 'It Might Be Time',\n",
              " 'Glimmer',\n",
              " 'One More Hour']"
            ]
          },
          "metadata": {},
          "execution_count": 37
        }
      ]
    },
    {
      "cell_type": "markdown",
      "metadata": {
        "id": "2aYrQJ3sqeyY"
      },
      "source": [
        "## 2. Using the list you made above, remove an element."
      ]
    },
    {
      "cell_type": "code",
      "metadata": {
        "id": "9IqnLYX9q1_f",
        "colab": {
          "base_uri": "https://localhost:8080/"
        },
        "outputId": "94335f6e-d99d-4a35-f9c8-4bed4b9bea94"
      },
      "source": [
        "# check list, removed song, check list for removal\n",
        "The_Slow_Rush\n",
        "The_Slow_Rush.remove('Tomorrow’s Dust')\n",
        "The_Slow_Rush"
      ],
      "execution_count": 38,
      "outputs": [
        {
          "output_type": "execute_result",
          "data": {
            "text/plain": [
              "['One More Year',\n",
              " 'Instant Destiny',\n",
              " 'Borderline',\n",
              " 'Posthumous Forgiveness',\n",
              " 'Breathe Deeper',\n",
              " 'On Track',\n",
              " 'Lost in Yesterday',\n",
              " 'Is It True',\n",
              " 'It Might Be Time',\n",
              " 'Glimmer',\n",
              " 'One More Hour']"
            ]
          },
          "metadata": {},
          "execution_count": 38
        }
      ]
    },
    {
      "cell_type": "markdown",
      "metadata": {
        "id": "8jmiJDlcq2wa"
      },
      "source": [
        "## 3. What is the first element of the list you made above, could you extract it below?"
      ]
    },
    {
      "cell_type": "code",
      "metadata": {
        "id": "FOBJ2pQdrJu-",
        "colab": {
          "base_uri": "https://localhost:8080/",
          "height": 35
        },
        "outputId": "a7bf091f-52e2-44ea-ea95-2730d1538f38"
      },
      "source": [
        "# identify first song in albun\n",
        "The_Slow_Rush[0]"
      ],
      "execution_count": 39,
      "outputs": [
        {
          "output_type": "execute_result",
          "data": {
            "application/vnd.google.colaboratory.intrinsic+json": {
              "type": "string"
            },
            "text/plain": [
              "'One More Year'"
            ]
          },
          "metadata": {},
          "execution_count": 39
        }
      ]
    },
    {
      "cell_type": "markdown",
      "metadata": {
        "id": "Z1Ma26-wrLhL"
      },
      "source": [
        "## 4. Make a dictionary, reflecting some thoughts on python so far."
      ]
    },
    {
      "cell_type": "code",
      "metadata": {
        "id": "rNgJSh9PsAp0",
        "colab": {
          "base_uri": "https://localhost:8080/"
        },
        "outputId": "016bf736-466a-4543-891d-8488e23c4ade"
      },
      "source": [
        "# A review dictionary about Python\n",
        "python_dict = {\n",
        "    \"Easyto_code\": 5,                 # in a scale of 1 to 10, 10 being the most difficult\n",
        "    \"Cost\": 0,                        # Free and Open Source\n",
        "    \"Object-Oriented Language\": True,  \n",
        "    \"Graphical User interfaces\": 3,\n",
        "    \"High-Level Language\": True,\n",
        "    \"Extensible\": True,               # with C or C++\n",
        "    \"Portable\": True,                 # Windows, Linux, Unix, Mac portable\n",
        "    \"Integrated\": True,               # with C or C++\n",
        "    \"Interpreted\": True,              # executed line by line,l no need to compile\n",
        "    \"Libraries\": 137000,              # as on Feb 22, 2022\n",
        "    \"Dynamically Typed\": True        # variables do not need speficification before run time\n",
        "}\n",
        "python_dict "
      ],
      "execution_count": 40,
      "outputs": [
        {
          "output_type": "execute_result",
          "data": {
            "text/plain": [
              "{'Cost': 0,\n",
              " 'Dynamically Typed': True,\n",
              " 'Easyto_code': 5,\n",
              " 'Extensible': True,\n",
              " 'Graphical User interfaces': 3,\n",
              " 'High-Level Language': True,\n",
              " 'Integrated': True,\n",
              " 'Interpreted': True,\n",
              " 'Libraries': 137000,\n",
              " 'Object-Oriented Language': True,\n",
              " 'Portable': True}"
            ]
          },
          "metadata": {},
          "execution_count": 40
        }
      ]
    },
    {
      "cell_type": "markdown",
      "metadata": {
        "id": "HK1bZqF5sBSC"
      },
      "source": [
        "## 5. Edit the content of one key in the list."
      ]
    },
    {
      "cell_type": "code",
      "metadata": {
        "id": "r8u8qObJsoc1",
        "colab": {
          "base_uri": "https://localhost:8080/"
        },
        "outputId": "80c198ee-921b-449b-8d09-fe53ea3087d1"
      },
      "source": [
        "# correct number of GUIs available\n",
        "python_dict['Graphical User interfaces'] = 51\n",
        "python_dict"
      ],
      "execution_count": 41,
      "outputs": [
        {
          "output_type": "execute_result",
          "data": {
            "text/plain": [
              "{'Cost': 0,\n",
              " 'Dynamically Typed': True,\n",
              " 'Easyto_code': 5,\n",
              " 'Extensible': True,\n",
              " 'Graphical User interfaces': 51,\n",
              " 'High-Level Language': True,\n",
              " 'Integrated': True,\n",
              " 'Interpreted': True,\n",
              " 'Libraries': 137000,\n",
              " 'Object-Oriented Language': True,\n",
              " 'Portable': True}"
            ]
          },
          "metadata": {},
          "execution_count": 41
        }
      ]
    },
    {
      "cell_type": "markdown",
      "metadata": {
        "id": "IXN9yr_LtSYT"
      },
      "source": [
        "# Thanks, see you in the next unit!"
      ]
    }
  ]
}