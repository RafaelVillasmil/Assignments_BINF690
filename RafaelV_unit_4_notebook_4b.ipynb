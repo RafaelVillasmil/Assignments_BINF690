{
  "nbformat": 4,
  "nbformat_minor": 0,
  "metadata": {
    "colab": {
      "name": "RafaelV_unit_4_notebook_4b.ipynb",
      "provenance": [],
      "collapsed_sections": [
        "v0NnDxMoMUr0",
        "NT_iFkB-MWan"
      ],
      "toc_visible": true,
      "include_colab_link": true
    },
    "kernelspec": {
      "name": "python3",
      "display_name": "Python 3"
    }
  },
  "cells": [
    {
      "cell_type": "markdown",
      "metadata": {
        "id": "view-in-github",
        "colab_type": "text"
      },
      "source": [
        "<a href=\"https://colab.research.google.com/github/RafaelVillasmil/BIOF309_Introduction_to_Python/blob/main/RafaelV_unit_4_notebook_4b.ipynb\" target=\"_parent\"><img src=\"https://colab.research.google.com/assets/colab-badge.svg\" alt=\"Open In Colab\"/></a>"
      ]
    },
    {
      "cell_type": "markdown",
      "metadata": {
        "id": "lwuTCUVlJeY6"
      },
      "source": [
        "# Unit 4 - Instructional DEMO 4b: String manipulation and regular expressions.\n",
        " - **Focus:** Manipulate string type data and utilize regular expressions. \n",
        " - **Author(s):** Sara B-C.\n",
        " - **Date Notebook Last Modified:** 08.22.2020\n",
        " - **Quick Description:** In the beginning, just hit play at each cell and watch things work. Once you are done, you can download the finished results. **There are some exercises to complete at the end!**\n",
        "\n",
        "---\n",
        "## Code outline\n",
        "  0. Set up file stream (yep, this is in every notebook).\n",
        "  1. `in` and `not in`.\n",
        "  2. `+` and `*`.\n",
        "  3. Indexing.   \n",
        "  4. Split strings.\n",
        "  5. Joining.\n",
        "  6. `is...`.\n",
        "  7. `count`.\n",
        "  8. Miscellaneous useful string commands.\n",
        "  9. Matching.\n",
        "  10. Search and replace.\n",
        "\n",
        "---\n",
        "## Additional notes\n",
        "*   You will be surprised how much string manipulation you will have to do in biomedical data science. These will also be foundational for more advanced studies in natural language processing (NLP)"
      ]
    },
    {
      "cell_type": "markdown",
      "metadata": {
        "id": "XuUnubnFH9xZ"
      },
      "source": [
        "## 0. Lets set up filestream access\n",
        "Follow the directions on screen as you run the code cell below and then you can access the data stored on your 'My Drive'. For many of you, this is the first python code you will ever execute knowingly, as most google infrastructure is python based (another reason why the language is growing)... You did this before, let's go!"
      ]
    },
    {
      "cell_type": "code",
      "metadata": {
        "id": "D2qRSmw3GUNA"
      },
      "source": [
        "import os\n",
        "from google.colab import drive\n",
        "drive.mount('/content/drive/')\n",
        "os.chdir(\"/content/drive/My Drive/FAES_BIOF309/\")"
      ],
      "execution_count": null,
      "outputs": []
    },
    {
      "cell_type": "markdown",
      "metadata": {
        "id": "mITVzECaO2j6"
      },
      "source": [
        "Above you should now see the output \"Mounted at /content/drive/\". This means your storage is now connected to your notebook and its runtime. A runtime is the computer it will use to execute code and other computations. We'll cover what the above code means once you have learned some more python."
      ]
    },
    {
      "cell_type": "markdown",
      "metadata": {
        "id": "GD8TX9ZoUxd5"
      },
      "source": [
        "## 1. `in` and `not in`.\n"
      ]
    },
    {
      "cell_type": "code",
      "metadata": {
        "id": "RHliNCrvVAkc",
        "colab": {
          "base_uri": "https://localhost:8080/"
        },
        "outputId": "37a46479-9486-4d81-d3a7-b9905b58ae5e"
      },
      "source": [
        "# \"In\" will as the question, \"is string X in string Y?\".\n",
        "little_string = 'genes'\n",
        "big_string = 'Do these genes look decent?'\n",
        "little_string in big_string"
      ],
      "execution_count": null,
      "outputs": [
        {
          "output_type": "execute_result",
          "data": {
            "text/plain": [
              "True"
            ]
          },
          "metadata": {},
          "execution_count": 1
        }
      ]
    },
    {
      "cell_type": "code",
      "metadata": {
        "id": "7pLFW2FRpTTc",
        "colab": {
          "base_uri": "https://localhost:8080/"
        },
        "outputId": "581e1ea2-8b67-4df5-a236-cf284eecb067"
      },
      "source": [
        "# Lets see about 'False'.\n",
        "little_string = 'genes'\n",
        "big_string = 'Do these jeans look decent?'\n",
        "little_string in big_string"
      ],
      "execution_count": null,
      "outputs": [
        {
          "output_type": "execute_result",
          "data": {
            "text/plain": [
              "False"
            ]
          },
          "metadata": {},
          "execution_count": 2
        }
      ]
    },
    {
      "cell_type": "code",
      "metadata": {
        "id": "j-NADS36pwwG",
        "colab": {
          "base_uri": "https://localhost:8080/"
        },
        "outputId": "94746f40-852f-4399-c4ca-1edc6f2e00ea"
      },
      "source": [
        "# 'Not in' is similar to in. Unsurprisingly `not in` is the opposite of `in`.\n",
        "little_string = 'genes'\n",
        "big_string = 'Do these genes look decent?'\n",
        "little_string not in big_string"
      ],
      "execution_count": null,
      "outputs": [
        {
          "output_type": "execute_result",
          "data": {
            "text/plain": [
              "False"
            ]
          },
          "metadata": {},
          "execution_count": 3
        }
      ]
    },
    {
      "cell_type": "code",
      "metadata": {
        "id": "LJcp9otcp8i5",
        "colab": {
          "base_uri": "https://localhost:8080/"
        },
        "outputId": "db820858-5210-40de-9d97-9ad35f74a919"
      },
      "source": [
        "# You can guess the outcome of this.\n",
        "little_string = 'genes'\n",
        "big_string = 'Do these jeans look decent?'\n",
        "little_string not in big_string"
      ],
      "execution_count": null,
      "outputs": [
        {
          "output_type": "execute_result",
          "data": {
            "text/plain": [
              "True"
            ]
          },
          "metadata": {},
          "execution_count": 4
        }
      ]
    },
    {
      "cell_type": "markdown",
      "metadata": {
        "id": "cIO-6lW3aMhn"
      },
      "source": [
        "## 2. `+` and `*`.\n",
        "\n"
      ]
    },
    {
      "cell_type": "code",
      "metadata": {
        "id": "jnT8f_uefYCK",
        "colab": {
          "base_uri": "https://localhost:8080/",
          "height": 36
        },
        "outputId": "fa20866f-ddc1-4adc-8186-a0bc8cd2e0e9"
      },
      "source": [
        "N = 'Next '\n",
        "L = 'lesson '\n",
        "P_and_M = 'Packages and Modules'\n",
        "\n",
        "N + L + 'is ' + P_and_M"
      ],
      "execution_count": null,
      "outputs": [
        {
          "output_type": "execute_result",
          "data": {
            "application/vnd.google.colaboratory.intrinsic+json": {
              "type": "string"
            },
            "text/plain": [
              "'Next lesson is Packages and Modules'"
            ]
          },
          "metadata": {},
          "execution_count": 5
        }
      ]
    },
    {
      "cell_type": "code",
      "metadata": {
        "id": "Ak5yIzSbrJDH",
        "colab": {
          "base_uri": "https://localhost:8080/",
          "height": 36
        },
        "outputId": "91675918-5d21-491c-9334-2fc57f5bf8c3"
      },
      "source": [
        "# Remember your delimiters.\n",
        "F = 'science'\n",
        "B = 'rocks'\n",
        "F + B"
      ],
      "execution_count": null,
      "outputs": [
        {
          "output_type": "execute_result",
          "data": {
            "application/vnd.google.colaboratory.intrinsic+json": {
              "type": "string"
            },
            "text/plain": [
              "'sciencerocks'"
            ]
          },
          "metadata": {},
          "execution_count": 6
        }
      ]
    },
    {
      "cell_type": "code",
      "metadata": {
        "id": "BBIu8F89rVF6",
        "colab": {
          "base_uri": "https://localhost:8080/",
          "height": 36
        },
        "outputId": "d4dca4a9-c186-4192-db21-f8ebf782bfa7"
      },
      "source": [
        "# Integers `*` with strings.\n",
        "'F'*10"
      ],
      "execution_count": null,
      "outputs": [
        {
          "output_type": "execute_result",
          "data": {
            "application/vnd.google.colaboratory.intrinsic+json": {
              "type": "string"
            },
            "text/plain": [
              "'FFFFFFFFFF'"
            ]
          },
          "metadata": {},
          "execution_count": 7
        }
      ]
    },
    {
      "cell_type": "code",
      "metadata": {
        "id": "5H42ASjIrcPa",
        "colab": {
          "base_uri": "https://localhost:8080/",
          "height": 36
        },
        "outputId": "e7afb9b7-b3a4-4ce8-8d2d-68fb1ca36c32"
      },
      "source": [
        "# Add a delimiter.\n",
        "10*(F + ' ')"
      ],
      "execution_count": null,
      "outputs": [
        {
          "output_type": "execute_result",
          "data": {
            "application/vnd.google.colaboratory.intrinsic+json": {
              "type": "string"
            },
            "text/plain": [
              "'science science science science science science science science science science '"
            ]
          },
          "metadata": {},
          "execution_count": 8
        }
      ]
    },
    {
      "cell_type": "markdown",
      "metadata": {
        "id": "POhPV15zi9ZO"
      },
      "source": [
        "## 3. Indexing.\n",
        "Remember, strings count in two directions.\n"
      ]
    },
    {
      "cell_type": "code",
      "metadata": {
        "id": "S87iYItTjMeS"
      },
      "source": [
        "goat = 'Michael Jordan 23'"
      ],
      "execution_count": null,
      "outputs": []
    },
    {
      "cell_type": "code",
      "metadata": {
        "id": "3Kd_IfG3r077",
        "colab": {
          "base_uri": "https://localhost:8080/",
          "height": 36
        },
        "outputId": "50b1d72a-93c6-4180-d2d2-3e5a9b4aa7d9"
      },
      "source": [
        "goat[0] + goat[8] + goat[15] + goat[16]"
      ],
      "execution_count": null,
      "outputs": [
        {
          "output_type": "execute_result",
          "data": {
            "application/vnd.google.colaboratory.intrinsic+json": {
              "type": "string"
            },
            "text/plain": [
              "'MJ23'"
            ]
          },
          "metadata": {},
          "execution_count": 10
        }
      ]
    },
    {
      "cell_type": "code",
      "metadata": {
        "id": "Q5KMbqPRsOQ5",
        "colab": {
          "base_uri": "https://localhost:8080/",
          "height": 36
        },
        "outputId": "3ddea411-1f2d-44f0-a281-b6c2cd31ead8"
      },
      "source": [
        "goat[-17] + goat[-9] + goat[-2] + goat[-1]"
      ],
      "execution_count": null,
      "outputs": [
        {
          "output_type": "execute_result",
          "data": {
            "application/vnd.google.colaboratory.intrinsic+json": {
              "type": "string"
            },
            "text/plain": [
              "'MJ23'"
            ]
          },
          "metadata": {},
          "execution_count": 11
        }
      ]
    },
    {
      "cell_type": "code",
      "metadata": {
        "id": "zYAqT6absrNp",
        "colab": {
          "base_uri": "https://localhost:8080/",
          "height": 36
        },
        "outputId": "bcd3db09-ef4b-4ec6-c414-2dc4998317c5"
      },
      "source": [
        "# Let's slice the string.\n",
        "goat[0:7]"
      ],
      "execution_count": null,
      "outputs": [
        {
          "output_type": "execute_result",
          "data": {
            "application/vnd.google.colaboratory.intrinsic+json": {
              "type": "string"
            },
            "text/plain": [
              "'Michael'"
            ]
          },
          "metadata": {},
          "execution_count": 12
        }
      ]
    },
    {
      "cell_type": "markdown",
      "metadata": {
        "id": "JCZ1RMiWkW_3"
      },
      "source": [
        "## 4. Split strings.\n"
      ]
    },
    {
      "cell_type": "code",
      "metadata": {
        "id": "mwGA2Gbekj-D",
        "colab": {
          "base_uri": "https://localhost:8080/"
        },
        "outputId": "5f1e82af-7c68-46ff-b214-3c058ecb21be"
      },
      "source": [
        "# `partition` splits on delimiters from the left. Useful in making lists.\n",
        "goat = 'Michael Jordan 23'\n",
        "goat.partition(' ')"
      ],
      "execution_count": null,
      "outputs": [
        {
          "output_type": "execute_result",
          "data": {
            "text/plain": [
              "('Michael', ' ', 'Jordan 23')"
            ]
          },
          "metadata": {},
          "execution_count": 14
        }
      ]
    },
    {
      "cell_type": "code",
      "metadata": {
        "id": "1tI4c1nhuRsl",
        "colab": {
          "base_uri": "https://localhost:8080/"
        },
        "outputId": "f60d52c5-4285-4a82-ded9-56cc425cefee"
      },
      "source": [
        "# `rpartition` splits from the right.\n",
        "goat.rpartition(' ')"
      ],
      "execution_count": null,
      "outputs": [
        {
          "output_type": "execute_result",
          "data": {
            "text/plain": [
              "('Michael Jordan', ' ', '23')"
            ]
          },
          "metadata": {},
          "execution_count": 15
        }
      ]
    },
    {
      "cell_type": "code",
      "metadata": {
        "id": "nRopPvtSufBr",
        "colab": {
          "base_uri": "https://localhost:8080/"
        },
        "outputId": "e6341354-ca4c-4801-e637-d27358788fd9"
      },
      "source": [
        "# 'split' can do even more than one split! And it has a similar counterpart from the right `rsplit`.\n",
        "goat.split(sep=' ',maxsplit=2)"
      ],
      "execution_count": null,
      "outputs": [
        {
          "output_type": "execute_result",
          "data": {
            "text/plain": [
              "['Michael', 'Jordan', '23']"
            ]
          },
          "metadata": {},
          "execution_count": 18
        }
      ]
    },
    {
      "cell_type": "markdown",
      "metadata": {
        "id": "dk_AdyrqnhO8"
      },
      "source": [
        "## 5. Joining.\n",
        "Add some strings together!\n"
      ]
    },
    {
      "cell_type": "code",
      "metadata": {
        "id": "LDXWIAylnvJz",
        "colab": {
          "base_uri": "https://localhost:8080/",
          "height": 36
        },
        "outputId": "cf52f0d7-cb28-4b95-f4d8-d3ece99181ec"
      },
      "source": [
        "' '.join(['Michael','Jordan','not','Lebron'])"
      ],
      "execution_count": null,
      "outputs": [
        {
          "output_type": "execute_result",
          "data": {
            "application/vnd.google.colaboratory.intrinsic+json": {
              "type": "string"
            },
            "text/plain": [
              "'Michael Jordan not Lebron'"
            ]
          },
          "metadata": {},
          "execution_count": 19
        }
      ]
    },
    {
      "cell_type": "markdown",
      "metadata": {
        "id": "k_CjE9ogKnD3"
      },
      "source": [
        "## 6. `is...`."
      ]
    },
    {
      "cell_type": "code",
      "metadata": {
        "id": "akMTAt0jLN2R",
        "colab": {
          "base_uri": "https://localhost:8080/"
        },
        "outputId": "13c51f56-89df-4f9a-a791-aaee50a0c6e1"
      },
      "source": [
        "# Is this alphanumeric?\n",
        "'abc123'.isalnum()"
      ],
      "execution_count": null,
      "outputs": [
        {
          "output_type": "execute_result",
          "data": {
            "text/plain": [
              "True"
            ]
          },
          "metadata": {},
          "execution_count": 20
        }
      ]
    },
    {
      "cell_type": "code",
      "metadata": {
        "id": "NCmOkBCrwV5f",
        "colab": {
          "base_uri": "https://localhost:8080/"
        },
        "outputId": "11b58e34-6242-46a8-cd72-fc1e130bc509"
      },
      "source": [
        "# How about this?\n",
        "'abc$123'.isalnum()"
      ],
      "execution_count": null,
      "outputs": [
        {
          "output_type": "execute_result",
          "data": {
            "text/plain": [
              "False"
            ]
          },
          "metadata": {},
          "execution_count": 21
        }
      ]
    },
    {
      "cell_type": "code",
      "metadata": {
        "id": "rzXVtxctwbet",
        "colab": {
          "base_uri": "https://localhost:8080/"
        },
        "outputId": "31e9d55f-eca1-435a-edf2-5ba78678e406"
      },
      "source": [
        "# Is it a digit?\n",
        "'0001'.isdigit()"
      ],
      "execution_count": null,
      "outputs": [
        {
          "output_type": "execute_result",
          "data": {
            "text/plain": [
              "True"
            ]
          },
          "metadata": {},
          "execution_count": 22
        }
      ]
    },
    {
      "cell_type": "code",
      "metadata": {
        "id": "Ueap-i6Dw17z",
        "colab": {
          "base_uri": "https://localhost:8080/"
        },
        "outputId": "5cc35824-2d3a-4d43-8143-cdbabddd65e9"
      },
      "source": [
        "# But what about this?\n",
        "'0.001'.isdigit()"
      ],
      "execution_count": null,
      "outputs": [
        {
          "output_type": "execute_result",
          "data": {
            "text/plain": [
              "False"
            ]
          },
          "metadata": {},
          "execution_count": 23
        }
      ]
    },
    {
      "cell_type": "code",
      "metadata": {
        "id": "pIoTKqi1xLoy",
        "colab": {
          "base_uri": "https://localhost:8080/"
        },
        "outputId": "7d9b8c3c-d8e1-4612-f6d3-2c5695841766"
      },
      "source": [
        "# Just letters.\n",
        "'ABCabc'.isalpha()"
      ],
      "execution_count": null,
      "outputs": [
        {
          "output_type": "execute_result",
          "data": {
            "text/plain": [
              "True"
            ]
          },
          "metadata": {},
          "execution_count": 24
        }
      ]
    },
    {
      "cell_type": "code",
      "metadata": {
        "id": "_QQw35N1xRgS",
        "colab": {
          "base_uri": "https://localhost:8080/"
        },
        "outputId": "5a88f352-eaba-4ca6-8bcc-6db907eecf40"
      },
      "source": [
        "# But this?\n",
        "'ABCabc123'.isalpha()"
      ],
      "execution_count": null,
      "outputs": [
        {
          "output_type": "execute_result",
          "data": {
            "text/plain": [
              "False"
            ]
          },
          "metadata": {},
          "execution_count": 25
        }
      ]
    },
    {
      "cell_type": "markdown",
      "metadata": {
        "id": "RvZ1wUpoNnZ-"
      },
      "source": [
        "## 7. `count`.\n"
      ]
    },
    {
      "cell_type": "code",
      "metadata": {
        "id": "i7smJIMsN0r_",
        "colab": {
          "base_uri": "https://localhost:8080/"
        },
        "outputId": "ebc11114-ecfd-4abf-a9e5-533e8d3a0c61"
      },
      "source": [
        "what_string = 'Michael Jordan not Lebron'\n",
        "what_string.count('a')"
      ],
      "execution_count": null,
      "outputs": [
        {
          "output_type": "execute_result",
          "data": {
            "text/plain": [
              "2"
            ]
          },
          "metadata": {},
          "execution_count": 26
        }
      ]
    },
    {
      "cell_type": "markdown",
      "metadata": {
        "id": "VpSIwc4eTaBb"
      },
      "source": [
        "## 8. Miscellaneous useful string commands."
      ]
    },
    {
      "cell_type": "code",
      "metadata": {
        "id": "J9JZWaN3TaYO",
        "colab": {
          "base_uri": "https://localhost:8080/"
        },
        "outputId": "a996295f-3ddc-44e4-81b4-a38424cd9b39"
      },
      "source": [
        "# How long?\n",
        "len('playoffs')"
      ],
      "execution_count": null,
      "outputs": [
        {
          "output_type": "execute_result",
          "data": {
            "text/plain": [
              "8"
            ]
          },
          "metadata": {},
          "execution_count": 27
        }
      ]
    },
    {
      "cell_type": "code",
      "metadata": {
        "id": "N0rDgOuW7XFm",
        "colab": {
          "base_uri": "https://localhost:8080/",
          "height": 36
        },
        "outputId": "1697bd39-17ac-4d2c-c046-bfffa55a1159"
      },
      "source": [
        "# Let's make it a string.\n",
        "str(23)"
      ],
      "execution_count": null,
      "outputs": [
        {
          "output_type": "execute_result",
          "data": {
            "application/vnd.google.colaboratory.intrinsic+json": {
              "type": "string"
            },
            "text/plain": [
              "'23'"
            ]
          },
          "metadata": {},
          "execution_count": 28
        }
      ]
    },
    {
      "cell_type": "code",
      "metadata": {
        "id": "W4Hu_7sw7s2C",
        "colab": {
          "base_uri": "https://localhost:8080/"
        },
        "outputId": "77440f0b-2266-4e64-84a0-fae8d2725e17"
      },
      "source": [
        "# F strings are useful. You can include variables into string builds easily.\n",
        "player = 'MJ'\n",
        "jersey = 23\n",
        "print(f'Not sure why {player} would have changed from number {jersey}, it was iconic.') "
      ],
      "execution_count": null,
      "outputs": [
        {
          "output_type": "stream",
          "name": "stdout",
          "text": [
            "Not sure why MJ would have changed from number 23, it was iconic.\n"
          ]
        }
      ]
    },
    {
      "cell_type": "markdown",
      "metadata": {
        "id": "G5cHXrPGTauC"
      },
      "source": [
        "## 9.  Matching.\n",
        "A quick illustration between `search` and `match`, remember, if the first characters don't match, fail! For day to day use, `search` is generally what you will use."
      ]
    },
    {
      "cell_type": "code",
      "metadata": {
        "id": "RRoKXtS7Ta7q",
        "colab": {
          "base_uri": "https://localhost:8080/"
        },
        "outputId": "fe907dd3-d9d3-41c9-b982-17d9952aa305"
      },
      "source": [
        "import re\n",
        "re.search(\"c\", \"abcdef\")   # Match"
      ],
      "execution_count": null,
      "outputs": [
        {
          "output_type": "execute_result",
          "data": {
            "text/plain": [
              "<re.Match object; span=(2, 3), match='c'>"
            ]
          },
          "metadata": {},
          "execution_count": 32
        }
      ]
    },
    {
      "cell_type": "code",
      "metadata": {
        "id": "cl9OsJ2IA-GT"
      },
      "source": [
        "re.match(\"c\", \"abcdef\")    # No match"
      ],
      "execution_count": null,
      "outputs": []
    },
    {
      "cell_type": "markdown",
      "metadata": {
        "id": "mGsBiskVT0Zu"
      },
      "source": [
        "## 10. Search and replace.\n",
        "Two classic examples, one substitute all, the other only the first two occurances."
      ]
    },
    {
      "cell_type": "code",
      "metadata": {
        "id": "fzGqV8LPT2mf",
        "colab": {
          "base_uri": "https://localhost:8080/",
          "height": 36
        },
        "outputId": "f3c29097-1073-45a1-afaf-97c1b249823d"
      },
      "source": [
        "'cool course cool course cool course'.replace('cool', 'boring')"
      ],
      "execution_count": null,
      "outputs": [
        {
          "output_type": "execute_result",
          "data": {
            "application/vnd.google.colaboratory.intrinsic+json": {
              "type": "string"
            },
            "text/plain": [
              "'boring course boring course boring course'"
            ]
          },
          "metadata": {},
          "execution_count": 35
        }
      ]
    },
    {
      "cell_type": "code",
      "metadata": {
        "id": "DDs1gT7KBxXZ",
        "colab": {
          "base_uri": "https://localhost:8080/",
          "height": 36
        },
        "outputId": "17cb45d3-8006-4b5a-a834-cc3b6074b241"
      },
      "source": [
        "'cool course cool course cool course'.replace('cool', 'boring', 2)"
      ],
      "execution_count": null,
      "outputs": [
        {
          "output_type": "execute_result",
          "data": {
            "application/vnd.google.colaboratory.intrinsic+json": {
              "type": "string"
            },
            "text/plain": [
              "'boring course boring course cool course'"
            ]
          },
          "metadata": {},
          "execution_count": 36
        }
      ]
    },
    {
      "cell_type": "markdown",
      "metadata": {
        "id": "p_oU-yokpSTX"
      },
      "source": [
        "**Makes sense, now on to some exercises ...**"
      ]
    },
    {
      "cell_type": "markdown",
      "metadata": {
        "id": "GvJ8ZwG7pn0K"
      },
      "source": [
        "# Unit 4 - Assignment #4b\n",
        "***Come here to prove your knowledge.***\n",
        "\n",
        "Text cells will indicate a task.  \n",
        "Write your commands in the empty code cells below them."
      ]
    },
    {
      "cell_type": "markdown",
      "metadata": {
        "id": "wxbBn9dRqUzJ"
      },
      "source": [
        "## 1. Demonstrate an `in` and its equivalent companion `not in` statement."
      ]
    },
    {
      "cell_type": "code",
      "metadata": {
        "id": "ELzciBM8qVKJ",
        "colab": {
          "base_uri": "https://localhost:8080/"
        },
        "outputId": "2454d106-34f8-4663-bd1a-b80629c1a3c1"
      },
      "source": [
        "popular_fruits = 'bananas apples strawberries grapes oranges watermelon blueberries lemons'\n",
        "'onios' in popular_fruits"
      ],
      "execution_count": 85,
      "outputs": [
        {
          "output_type": "execute_result",
          "data": {
            "text/plain": [
              "False"
            ]
          },
          "metadata": {},
          "execution_count": 85
        }
      ]
    },
    {
      "cell_type": "code",
      "source": [
        "popular_fruits = 'bananas apples strawberries grapes oranges watermelon blueberries lemons'\n",
        "'onios' not in popular_fruits"
      ],
      "metadata": {
        "colab": {
          "base_uri": "https://localhost:8080/"
        },
        "id": "sGEVXqgntmg1",
        "outputId": "6ead283c-4ee4-4a32-d20c-0bc47ee4ac21"
      },
      "execution_count": 84,
      "outputs": [
        {
          "output_type": "execute_result",
          "data": {
            "text/plain": [
              "True"
            ]
          },
          "metadata": {},
          "execution_count": 84
        }
      ]
    },
    {
      "cell_type": "markdown",
      "metadata": {
        "id": "2aYrQJ3sqeyY"
      },
      "source": [
        "## 2. Add two strings then multiply them."
      ]
    },
    {
      "cell_type": "code",
      "metadata": {
        "id": "9IqnLYX9q1_f",
        "colab": {
          "base_uri": "https://localhost:8080/",
          "height": 54
        },
        "outputId": "3e7daf64-6406-4310-8d66-daf65e327cbf"
      },
      "source": [
        "city = 'Cleveland '\n",
        "verb = 'rocks'\n",
        "(city + verb +'! ') * 8\n"
      ],
      "execution_count": 83,
      "outputs": [
        {
          "output_type": "execute_result",
          "data": {
            "application/vnd.google.colaboratory.intrinsic+json": {
              "type": "string"
            },
            "text/plain": [
              "'Cleveland rocks! Cleveland rocks! Cleveland rocks! Cleveland rocks! Cleveland rocks! Cleveland rocks! Cleveland rocks! Cleveland rocks! '"
            ]
          },
          "metadata": {},
          "execution_count": 83
        }
      ]
    },
    {
      "cell_type": "markdown",
      "metadata": {
        "id": "8jmiJDlcq2wa"
      },
      "source": [
        "## 3. Pull the middle character of a string using indexing from the left and from the right."
      ]
    },
    {
      "cell_type": "code",
      "metadata": {
        "id": "FOBJ2pQdrJu-",
        "colab": {
          "base_uri": "https://localhost:8080/",
          "height": 35
        },
        "outputId": "5eefb6d3-be6e-422e-f64c-8b25f540aae4"
      },
      "source": [
        "palindrom = 'saippuakivikauppias'\n",
        "(palindrom)[9]"
      ],
      "execution_count": 82,
      "outputs": [
        {
          "output_type": "execute_result",
          "data": {
            "application/vnd.google.colaboratory.intrinsic+json": {
              "type": "string"
            },
            "text/plain": [
              "'v'"
            ]
          },
          "metadata": {},
          "execution_count": 82
        }
      ]
    },
    {
      "cell_type": "code",
      "metadata": {
        "id": "c31vyNvZCff7",
        "colab": {
          "base_uri": "https://localhost:8080/",
          "height": 35
        },
        "outputId": "459a908f-6741-44f2-cb3b-ec43e017a70d"
      },
      "source": [
        "palindrom = 'saippuakivikauppias'\n",
        "(palindrom)[-10]"
      ],
      "execution_count": 81,
      "outputs": [
        {
          "output_type": "execute_result",
          "data": {
            "application/vnd.google.colaboratory.intrinsic+json": {
              "type": "string"
            },
            "text/plain": [
              "'v'"
            ]
          },
          "metadata": {},
          "execution_count": 81
        }
      ]
    },
    {
      "cell_type": "markdown",
      "metadata": {
        "id": "Z1Ma26-wrLhL"
      },
      "source": [
        "## 4. Split the string \"I am ready for a nap\" into 6 parts."
      ]
    },
    {
      "cell_type": "code",
      "metadata": {
        "id": "rNgJSh9PsAp0",
        "colab": {
          "base_uri": "https://localhost:8080/"
        },
        "outputId": "7661b31e-5947-42a1-a7a2-9ec26e0587cc"
      },
      "source": [
        "string1 = 'I am ready for a nap'\n",
        "string1.split(sep=' ',maxsplit=5)"
      ],
      "execution_count": 80,
      "outputs": [
        {
          "output_type": "execute_result",
          "data": {
            "text/plain": [
              "['I', 'am', 'ready', 'for', 'a', 'nap']"
            ]
          },
          "metadata": {},
          "execution_count": 80
        }
      ]
    },
    {
      "cell_type": "markdown",
      "metadata": {
        "id": "HK1bZqF5sBSC"
      },
      "source": [
        "## 5. Use `join` to write a sentence."
      ]
    },
    {
      "cell_type": "code",
      "metadata": {
        "id": "r8u8qObJsoc1",
        "colab": {
          "base_uri": "https://localhost:8080/",
          "height": 35
        },
        "outputId": "a8e2ff2d-3b6c-4437-b51f-e0f632b994e1"
      },
      "source": [
        "occasion = 'graduation.'\n",
        "' '.join(['Warmest', 'congratulations', 'on', 'your', occasion])"
      ],
      "execution_count": 79,
      "outputs": [
        {
          "output_type": "execute_result",
          "data": {
            "application/vnd.google.colaboratory.intrinsic+json": {
              "type": "string"
            },
            "text/plain": [
              "'Warmest congratulations on your graduation.'"
            ]
          },
          "metadata": {},
          "execution_count": 79
        }
      ]
    },
    {
      "cell_type": "markdown",
      "metadata": {
        "id": "5nUnT7QHsox6"
      },
      "source": [
        "## 6. \"So very ready for a nap at 6pm today\" ... is this string alphanumeric, alpha or neither?"
      ]
    },
    {
      "cell_type": "code",
      "metadata": {
        "id": "t3PMnYiEtRrk",
        "colab": {
          "base_uri": "https://localhost:8080/"
        },
        "outputId": "7eb41a3a-927a-48a8-9fd2-3416c4a9a6ef"
      },
      "source": [
        "string1 = 'So very ready for a nap at 6pm today'\n",
        "if string1.isalnum():\n",
        "  print(\"String is alphanumeric\")\n",
        "elif string1.isalpha():\n",
        "  print(\"String is alpha\")\n",
        "else:\n",
        "  print(\"String is neither alpha nor alphanumeric\")"
      ],
      "execution_count": 86,
      "outputs": [
        {
          "output_type": "stream",
          "name": "stdout",
          "text": [
            "String is neither alpha nor alphanumeric\n"
          ]
        }
      ]
    },
    {
      "cell_type": "markdown",
      "metadata": {
        "id": "v0NnDxMoMUr0"
      },
      "source": [
        "## 7. Count how many \"e\" are in the string above."
      ]
    },
    {
      "cell_type": "code",
      "metadata": {
        "id": "l_VTWdHVMT81",
        "colab": {
          "base_uri": "https://localhost:8080/"
        },
        "outputId": "4c169571-4c85-45a3-f76c-853f73eea3a3"
      },
      "source": [
        "string1 = 'So very ready for a nap at 6pm today'\n",
        "string1.count('e')"
      ],
      "execution_count": 87,
      "outputs": [
        {
          "output_type": "execute_result",
          "data": {
            "text/plain": [
              "2"
            ]
          },
          "metadata": {},
          "execution_count": 87
        }
      ]
    },
    {
      "cell_type": "markdown",
      "metadata": {
        "id": "NT_iFkB-MWan"
      },
      "source": [
        "## 8. What is the length of the string above?"
      ]
    },
    {
      "cell_type": "code",
      "metadata": {
        "id": "TThV3EfpMWvB",
        "colab": {
          "base_uri": "https://localhost:8080/"
        },
        "outputId": "8ac9bc38-5ae3-41d1-eeed-9dcabc79f6fa"
      },
      "source": [
        "string1 = 'So very ready for a nap at 6pm today'\n",
        "len(string1)"
      ],
      "execution_count": 88,
      "outputs": [
        {
          "output_type": "execute_result",
          "data": {
            "text/plain": [
              "36"
            ]
          },
          "metadata": {},
          "execution_count": 88
        }
      ]
    },
    {
      "cell_type": "markdown",
      "metadata": {
        "id": "m3N5THK1MXFG"
      },
      "source": [
        "## 9. Demonstrate a two variable f string."
      ]
    },
    {
      "cell_type": "code",
      "metadata": {
        "id": "n3m-RLXkMXQA",
        "colab": {
          "base_uri": "https://localhost:8080/",
          "height": 35
        },
        "outputId": "2d56c427-c2d5-451f-ba68-93437223dcc0"
      },
      "source": [
        "name = 'Smith'\n",
        "event = 'graduation'\n",
        "f\"Dear Dr. {name}, Warmest congratulations on your {event}.\""
      ],
      "execution_count": 89,
      "outputs": [
        {
          "output_type": "execute_result",
          "data": {
            "application/vnd.google.colaboratory.intrinsic+json": {
              "type": "string"
            },
            "text/plain": [
              "'Dear Dr. Smith, Warmest congratulations on your graduation.'"
            ]
          },
          "metadata": {},
          "execution_count": 89
        }
      ]
    },
    {
      "cell_type": "markdown",
      "metadata": {
        "id": "ffYKCCsiMXbc"
      },
      "source": [
        "## 10. Find and replace 2 words in a string."
      ]
    },
    {
      "cell_type": "code",
      "metadata": {
        "id": "HAx_qI5OMXru",
        "colab": {
          "base_uri": "https://localhost:8080/",
          "height": 54
        },
        "outputId": "06d24526-65f2-442d-dee2-7e7b3ef42f0e"
      },
      "source": [
        "import re\n",
        "city = 'Cleveland '\n",
        "verb = 'rocks'\n",
        "refrain = (city + verb +'! ') * 8\n",
        "refrain.replace('Cleveland', 'New York', 2)\n"
      ],
      "execution_count": 90,
      "outputs": [
        {
          "output_type": "execute_result",
          "data": {
            "application/vnd.google.colaboratory.intrinsic+json": {
              "type": "string"
            },
            "text/plain": [
              "'New York rocks! New York rocks! Cleveland rocks! Cleveland rocks! Cleveland rocks! Cleveland rocks! Cleveland rocks! Cleveland rocks! '"
            ]
          },
          "metadata": {},
          "execution_count": 90
        }
      ]
    },
    {
      "cell_type": "markdown",
      "metadata": {
        "id": "IXN9yr_LtSYT"
      },
      "source": [
        "# Thanks, see you in the next unit!"
      ]
    }
  ]
}