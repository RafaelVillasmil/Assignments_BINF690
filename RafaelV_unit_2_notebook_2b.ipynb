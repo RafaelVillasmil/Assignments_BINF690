{
  "nbformat": 4,
  "nbformat_minor": 0,
  "metadata": {
    "colab": {
      "name": "RafaelV_unit_2_notebook_2b.ipynb",
      "provenance": [],
      "collapsed_sections": [],
      "include_colab_link": true
    },
    "kernelspec": {
      "name": "python3",
      "display_name": "Python 3"
    }
  },
  "cells": [
    {
      "cell_type": "markdown",
      "metadata": {
        "id": "view-in-github",
        "colab_type": "text"
      },
      "source": [
        "<a href=\"https://colab.research.google.com/github/RafaelVillasmil/Assignments_BINF690/blob/main/RafaelV_unit_2_notebook_2b.ipynb\" target=\"_parent\"><img src=\"https://colab.research.google.com/assets/colab-badge.svg\" alt=\"Open In Colab\"/></a>"
      ]
    },
    {
      "cell_type": "markdown",
      "metadata": {
        "id": "lwuTCUVlJeY6"
      },
      "source": [
        "# Unit 2 - Instructional DEMO 2b: Python semantics.\n",
        " - **Focus:** Basic python semantics. \n",
        " - **Author(s):** Sara B-C.\n",
        " - **Date Notebook Last Modified:** 08.10.2020\n",
        " - **Quick Description:** Use this notebook to learn pyton semantics. We'll cover everything from assignments to operators in this. In the beginning, just hit play at each cell and watch things work. Once you are done, you can download the finished results. **There are some exercises to complete at the end!**\n",
        "\n",
        "---\n",
        "## Code outline\n",
        "  0. Set up file stream (yep, this is in every notebook).\n",
        "  1. Simple variable assignment.\n",
        "  2. Multiple variable assignment.\n",
        "  3. Basic math (arithmetic operations).   \n",
        "  4. Comparison operators.\n",
        "  5. Logical operators.\n",
        "  6. Identity operators.\n",
        "  7. Membership operators.\n",
        "  8. Combine strings and paste.\n",
        "  9. How to fail with data types.\n",
        "  10. Example of future useful code.\n",
        "\n",
        "---\n",
        "## Additional notes\n",
        "*   This semantics unit is foundationally key to future more complicated work in data manipulation and exploration as well as flow control and data analysis."
      ]
    },
    {
      "cell_type": "markdown",
      "metadata": {
        "id": "XuUnubnFH9xZ"
      },
      "source": [
        "## 0. Lets set up filestream access\n",
        "Follow the directions on screen as you run the code cell below and then you can access the data stored on your 'My Drive'. For many of you, this is the first python code you will ever execute knowingly, as most google infrastructure is python based (another reason why the language is growing)..You did this before, let's go!"
      ]
    },
    {
      "cell_type": "code",
      "metadata": {
        "id": "D2qRSmw3GUNA",
        "colab": {
          "base_uri": "https://localhost:8080/"
        },
        "outputId": "0710fb0d-d3d7-42f9-d8d4-ad590010bc8b"
      },
      "source": [
        "import os\n",
        "from google.colab import drive\n",
        "drive.mount('/content/drive/')\n",
        "os.chdir(\"/content/drive/My Drive/BINF309_Introduction_to_Python/example_data/\")"
      ],
      "execution_count": 1,
      "outputs": [
        {
          "output_type": "stream",
          "name": "stdout",
          "text": [
            "Mounted at /content/drive/\n"
          ]
        }
      ]
    },
    {
      "cell_type": "markdown",
      "metadata": {
        "id": "mITVzECaO2j6"
      },
      "source": [
        "Above you should now see the output \"Mounted at /content/drive/\". This means your storage is now connected to your notebook and its runtime. A runtime is the computer it will use to execute code and other computations. We'll cover what the above code means once you have learned some more python."
      ]
    },
    {
      "cell_type": "markdown",
      "metadata": {
        "id": "GD8TX9ZoUxd5"
      },
      "source": [
        "## 1. Simple variable assignment.\n"
      ]
    },
    {
      "cell_type": "code",
      "metadata": {
        "id": "RHliNCrvVAkc",
        "colab": {
          "base_uri": "https://localhost:8080/"
        },
        "outputId": "d0d2f1b7-35c0-4b96-880a-50449ebbe680"
      },
      "source": [
        "a = 2\n",
        "x = 3\n",
        "c = a*x\n",
        "\n",
        "print(a)\n",
        "print(x)\n",
        "print(c)"
      ],
      "execution_count": 2,
      "outputs": [
        {
          "output_type": "stream",
          "name": "stdout",
          "text": [
            "2\n",
            "3\n",
            "6\n"
          ]
        }
      ]
    },
    {
      "cell_type": "markdown",
      "metadata": {
        "id": "cIO-6lW3aMhn"
      },
      "source": [
        "## 2. Multiple variable assignment.\n",
        "An example of how efficient you can be with python.\n",
        "\n"
      ]
    },
    {
      "cell_type": "code",
      "metadata": {
        "id": "jnT8f_uefYCK",
        "colab": {
          "base_uri": "https://localhost:8080/"
        },
        "outputId": "6bda53a7-f0c6-4037-8c98-27542d996434"
      },
      "source": [
        "a = x = c = 3\n",
        "d = a*x*c\n",
        "print(a)\n",
        "print(x)\n",
        "print(c)\n",
        "print(d)"
      ],
      "execution_count": 3,
      "outputs": [
        {
          "output_type": "stream",
          "name": "stdout",
          "text": [
            "3\n",
            "3\n",
            "3\n",
            "27\n"
          ]
        }
      ]
    },
    {
      "cell_type": "markdown",
      "metadata": {
        "id": "POhPV15zi9ZO"
      },
      "source": [
        "## 3. Basic math (arithmetic operations).\n"
      ]
    },
    {
      "cell_type": "markdown",
      "metadata": {
        "id": "i31CTDpMOhu8"
      },
      "source": [
        "Let's make some basic variables."
      ]
    },
    {
      "cell_type": "code",
      "metadata": {
        "id": "S87iYItTjMeS"
      },
      "source": [
        "a = 5\n",
        "b = 2\n",
        "c = 3"
      ],
      "execution_count": 4,
      "outputs": []
    },
    {
      "cell_type": "markdown",
      "metadata": {
        "id": "Q7li_Ob8Ohh1"
      },
      "source": [
        "We assuming you know the basics of addition `+`, subtraction `-`, multiplication `*` and division `/`. Note, division `/` is not the same as what you would use to continue a statement to a new line `\\`, they go in different directions.  \n",
        "Lets cover a few arithmetic operations that are useful but not as common."
      ]
    },
    {
      "cell_type": "code",
      "metadata": {
        "id": "Ae-rjlKGPcVB",
        "colab": {
          "base_uri": "https://localhost:8080/"
        },
        "outputId": "c55b73c3-afa6-44db-b295-85f8d62e3b49"
      },
      "source": [
        "# Modulus returns the remainder\n",
        "c % b"
      ],
      "execution_count": 5,
      "outputs": [
        {
          "output_type": "execute_result",
          "data": {
            "text/plain": [
              "1"
            ]
          },
          "metadata": {},
          "execution_count": 5
        }
      ]
    },
    {
      "cell_type": "code",
      "metadata": {
        "id": "LiCt4DSYPzXP",
        "colab": {
          "base_uri": "https://localhost:8080/"
        },
        "outputId": "6a9ddd54-3e17-4b07-dc21-001784a086a8"
      },
      "source": [
        "# Exponents, not a ^ like in R\n",
        "c**b"
      ],
      "execution_count": 6,
      "outputs": [
        {
          "output_type": "execute_result",
          "data": {
            "text/plain": [
              "9"
            ]
          },
          "metadata": {},
          "execution_count": 6
        }
      ]
    },
    {
      "cell_type": "markdown",
      "metadata": {
        "id": "JCZ1RMiWkW_3"
      },
      "source": [
        "## 4. Comparison operators.\n"
      ]
    },
    {
      "cell_type": "code",
      "metadata": {
        "id": "mwGA2Gbekj-D"
      },
      "source": [
        "# Set some variables.\n",
        "x = 10\n",
        "y = 5\n",
        "z = 5"
      ],
      "execution_count": 7,
      "outputs": []
    },
    {
      "cell_type": "code",
      "metadata": {
        "id": "dqYqEZa0RJfZ",
        "colab": {
          "base_uri": "https://localhost:8080/"
        },
        "outputId": "2c5c0adf-6058-4f44-d3e4-f80449ca5f57"
      },
      "source": [
        "# Are x and y equal?\n",
        "x == y"
      ],
      "execution_count": 8,
      "outputs": [
        {
          "output_type": "execute_result",
          "data": {
            "text/plain": [
              "False"
            ]
          },
          "metadata": {},
          "execution_count": 8
        }
      ]
    },
    {
      "cell_type": "code",
      "metadata": {
        "id": "Pj7G6HZqRbrq",
        "colab": {
          "base_uri": "https://localhost:8080/"
        },
        "outputId": "88c01fbe-0cb4-4ebf-c3c0-06dbbe740522"
      },
      "source": [
        "# Is x greater than y?\n",
        "x > y"
      ],
      "execution_count": 9,
      "outputs": [
        {
          "output_type": "execute_result",
          "data": {
            "text/plain": [
              "True"
            ]
          },
          "metadata": {},
          "execution_count": 9
        }
      ]
    },
    {
      "cell_type": "code",
      "metadata": {
        "id": "a5MA6nMuRgXb",
        "colab": {
          "base_uri": "https://localhost:8080/"
        },
        "outputId": "9bbbbdd5-341c-4e27-f1ac-73dbb25e3d10"
      },
      "source": [
        "# Is x not equal to z?\n",
        "x != z"
      ],
      "execution_count": 10,
      "outputs": [
        {
          "output_type": "execute_result",
          "data": {
            "text/plain": [
              "True"
            ]
          },
          "metadata": {},
          "execution_count": 10
        }
      ]
    },
    {
      "cell_type": "code",
      "metadata": {
        "id": "DU5iYiLIRtKj",
        "colab": {
          "base_uri": "https://localhost:8080/"
        },
        "outputId": "acd9e36c-ef47-493b-d0f3-2c2295da7ce7"
      },
      "source": [
        "# Is y greater than or equal to z?\n",
        "y >= z"
      ],
      "execution_count": 11,
      "outputs": [
        {
          "output_type": "execute_result",
          "data": {
            "text/plain": [
              "True"
            ]
          },
          "metadata": {},
          "execution_count": 11
        }
      ]
    },
    {
      "cell_type": "markdown",
      "metadata": {
        "id": "dk_AdyrqnhO8"
      },
      "source": [
        "## 5. Logical operators.\n",
        "Great for compound criteria.\n"
      ]
    },
    {
      "cell_type": "code",
      "metadata": {
        "id": "LDXWIAylnvJz"
      },
      "source": [
        "# Lets use the same variables\n",
        "x = 10\n",
        "y = 5\n",
        "z = 5"
      ],
      "execution_count": 12,
      "outputs": []
    },
    {
      "cell_type": "code",
      "metadata": {
        "id": "bFasl4n2ScTL",
        "colab": {
          "base_uri": "https://localhost:8080/"
        },
        "outputId": "77cc4a47-3094-43b6-85f6-00b42ac9de8d"
      },
      "source": [
        "# Does x = 10 and y + z = 10?\n",
        "(x == 10) and (y + z == 10)"
      ],
      "execution_count": 14,
      "outputs": [
        {
          "output_type": "execute_result",
          "data": {
            "text/plain": [
              "True"
            ]
          },
          "metadata": {},
          "execution_count": 14
        }
      ]
    },
    {
      "cell_type": "code",
      "metadata": {
        "id": "yD_StY1GS7eu",
        "colab": {
          "base_uri": "https://localhost:8080/"
        },
        "outputId": "8bf7c8de-6855-4a6e-df5a-a28105a64e46"
      },
      "source": [
        "# But what about this?\n",
        "(x == 9) or (y + z == 10)"
      ],
      "execution_count": 15,
      "outputs": [
        {
          "output_type": "execute_result",
          "data": {
            "text/plain": [
              "True"
            ]
          },
          "metadata": {},
          "execution_count": 15
        }
      ]
    },
    {
      "cell_type": "markdown",
      "metadata": {
        "id": "coBc73IXTCPT"
      },
      "source": [
        "Remember, there are certain words that can't be set as objects for reasons like these."
      ]
    },
    {
      "cell_type": "markdown",
      "metadata": {
        "id": "k_CjE9ogKnD3"
      },
      "source": [
        "## 6. Identity operators."
      ]
    },
    {
      "cell_type": "code",
      "metadata": {
        "id": "akMTAt0jLN2R"
      },
      "source": [
        "# Make a list.\n",
        "colors = ['red', 'blue', 'green']"
      ],
      "execution_count": 16,
      "outputs": []
    },
    {
      "cell_type": "code",
      "metadata": {
        "id": "xr387UgSTlSx",
        "colab": {
          "base_uri": "https://localhost:8080/"
        },
        "outputId": "6e3acbc9-7d74-4241-8f77-921aedc16e53"
      },
      "source": [
        "# Is this a list data type?\n",
        "type(colors) is list"
      ],
      "execution_count": 17,
      "outputs": [
        {
          "output_type": "execute_result",
          "data": {
            "text/plain": [
              "True"
            ]
          },
          "metadata": {},
          "execution_count": 17
        }
      ]
    },
    {
      "cell_type": "code",
      "metadata": {
        "id": "d41jLO9cVdrE",
        "colab": {
          "base_uri": "https://localhost:8080/"
        },
        "outputId": "c5b00f08-de46-4985-eda1-d2b821265fc5"
      },
      "source": [
        "# Is this not a list?\n",
        "type(colors) is not list"
      ],
      "execution_count": 18,
      "outputs": [
        {
          "output_type": "execute_result",
          "data": {
            "text/plain": [
              "False"
            ]
          },
          "metadata": {},
          "execution_count": 18
        }
      ]
    },
    {
      "cell_type": "markdown",
      "metadata": {
        "id": "RvZ1wUpoNnZ-"
      },
      "source": [
        "## 7. Membership operators.\n"
      ]
    },
    {
      "cell_type": "code",
      "metadata": {
        "id": "i7smJIMsN0r_",
        "colab": {
          "base_uri": "https://localhost:8080/"
        },
        "outputId": "b9f5510b-e805-4661-9631-cb68ed109c99"
      },
      "source": [
        "# Using the colors list, check if 'red' is in the list.\n",
        "'red' in colors"
      ],
      "execution_count": 19,
      "outputs": [
        {
          "output_type": "execute_result",
          "data": {
            "text/plain": [
              "True"
            ]
          },
          "metadata": {},
          "execution_count": 19
        }
      ]
    },
    {
      "cell_type": "code",
      "metadata": {
        "id": "hgLxIB4vXGWF",
        "colab": {
          "base_uri": "https://localhost:8080/"
        },
        "outputId": "4995fcb4-91c3-40ec-9ae2-a1acd4d5cc35"
      },
      "source": [
        "# Maybe red is not in the colors list?\n",
        "'red' not in colors"
      ],
      "execution_count": 20,
      "outputs": [
        {
          "output_type": "execute_result",
          "data": {
            "text/plain": [
              "False"
            ]
          },
          "metadata": {},
          "execution_count": 20
        }
      ]
    },
    {
      "cell_type": "markdown",
      "metadata": {
        "id": "VpSIwc4eTaBb"
      },
      "source": [
        "## 8. Combine strings and paste."
      ]
    },
    {
      "cell_type": "code",
      "metadata": {
        "id": "J9JZWaN3TaYO"
      },
      "source": [
        "a = \"python\"\n",
        "b = \" \"\n",
        "c = \"is fun\""
      ],
      "execution_count": 21,
      "outputs": []
    },
    {
      "cell_type": "code",
      "metadata": {
        "id": "y3KCyNnqXc5L",
        "colab": {
          "base_uri": "https://localhost:8080/",
          "height": 35
        },
        "outputId": "f74e07d2-3526-46b0-800f-22f7fe0243f0"
      },
      "source": [
        "a + b + c"
      ],
      "execution_count": 22,
      "outputs": [
        {
          "output_type": "execute_result",
          "data": {
            "application/vnd.google.colaboratory.intrinsic+json": {
              "type": "string"
            },
            "text/plain": [
              "'python is fun'"
            ]
          },
          "metadata": {},
          "execution_count": 22
        }
      ]
    },
    {
      "cell_type": "code",
      "metadata": {
        "id": "JW0T-ZswX6wP",
        "colab": {
          "base_uri": "https://localhost:8080/",
          "height": 35
        },
        "outputId": "2cdcb0b6-0389-4e3e-b3ef-3f281f255163"
      },
      "source": [
        "# Some more advances examples you will get details on later.\n",
        "\"%s sometimes %s.\" % (a, c)"
      ],
      "execution_count": 24,
      "outputs": [
        {
          "output_type": "execute_result",
          "data": {
            "application/vnd.google.colaboratory.intrinsic+json": {
              "type": "string"
            },
            "text/plain": [
              "'python sometimes is fun.'"
            ]
          },
          "metadata": {},
          "execution_count": 24
        }
      ]
    },
    {
      "cell_type": "markdown",
      "metadata": {
        "id": "G5cHXrPGTauC"
      },
      "source": [
        "## 9.  How to fail with data types."
      ]
    },
    {
      "cell_type": "code",
      "metadata": {
        "id": "RRoKXtS7Ta7q",
        "colab": {
          "base_uri": "https://localhost:8080/"
        },
        "outputId": "69a3289e-3e73-48d7-ef95-634274d8ad28"
      },
      "source": [
        "# Combine and integer with a float is okay.\n",
        "1 + 4.5"
      ],
      "execution_count": 25,
      "outputs": [
        {
          "output_type": "execute_result",
          "data": {
            "text/plain": [
              "5.5"
            ]
          },
          "metadata": {},
          "execution_count": 25
        }
      ]
    },
    {
      "cell_type": "code",
      "metadata": {
        "id": "gvBZRJwaaXPz",
        "colab": {
          "base_uri": "https://localhost:8080/",
          "height": 200
        },
        "outputId": "d9e81879-99ed-4c94-d86d-bdb7f5f38a63"
      },
      "source": [
        "# Combine an integer or float with a string, you get an error.\n",
        "a = \"this_String\"\n",
        "a + 1"
      ],
      "execution_count": 26,
      "outputs": [
        {
          "output_type": "error",
          "ename": "TypeError",
          "evalue": "ignored",
          "traceback": [
            "\u001b[0;31m---------------------------------------------------------------------------\u001b[0m",
            "\u001b[0;31mTypeError\u001b[0m                                 Traceback (most recent call last)",
            "\u001b[0;32m<ipython-input-26-900b7e3b367a>\u001b[0m in \u001b[0;36m<module>\u001b[0;34m()\u001b[0m\n\u001b[1;32m      1\u001b[0m \u001b[0;31m# Combine an integer or float with a string, you get an error.\u001b[0m\u001b[0;34m\u001b[0m\u001b[0;34m\u001b[0m\u001b[0;34m\u001b[0m\u001b[0m\n\u001b[1;32m      2\u001b[0m \u001b[0ma\u001b[0m \u001b[0;34m=\u001b[0m \u001b[0;34m\"this_String\"\u001b[0m\u001b[0;34m\u001b[0m\u001b[0;34m\u001b[0m\u001b[0m\n\u001b[0;32m----> 3\u001b[0;31m \u001b[0ma\u001b[0m \u001b[0;34m+\u001b[0m \u001b[0;36m1\u001b[0m\u001b[0;34m\u001b[0m\u001b[0;34m\u001b[0m\u001b[0m\n\u001b[0m",
            "\u001b[0;31mTypeError\u001b[0m: can only concatenate str (not \"int\") to str"
          ]
        }
      ]
    },
    {
      "cell_type": "code",
      "metadata": {
        "id": "MQHkwkvNalpa",
        "colab": {
          "base_uri": "https://localhost:8080/"
        },
        "outputId": "05f25c1b-a3ce-4c3e-c708-6a9436836f73"
      },
      "source": [
        "# But if \"a\" actually represents a float or integer, you are okay!\n",
        "a = 9.5\n",
        "a + 1"
      ],
      "execution_count": 27,
      "outputs": [
        {
          "output_type": "execute_result",
          "data": {
            "text/plain": [
              "10.5"
            ]
          },
          "metadata": {},
          "execution_count": 27
        }
      ]
    },
    {
      "cell_type": "markdown",
      "metadata": {
        "id": "mGsBiskVT0Zu"
      },
      "source": [
        "## 10. Example of future useful code."
      ]
    },
    {
      "cell_type": "code",
      "metadata": {
        "id": "fzGqV8LPT2mf",
        "colab": {
          "base_uri": "https://localhost:8080/"
        },
        "outputId": "2f7423ed-5787-418d-f3fc-85609b060656"
      },
      "source": [
        "list1 = [1, 2, 3, 4, 5, 6, 7]\n",
        "list2 = [5, 6, 7, 8, 9, 10]\n",
        "\n",
        "def intersection(list1, list2): \n",
        "    list3 = [value for value in list1 if value in list2] \n",
        "    return list3 \n",
        "\n",
        "print(intersection(list1, list2)) # Printing the intersection of the two lists."
      ],
      "execution_count": 28,
      "outputs": [
        {
          "output_type": "stream",
          "name": "stdout",
          "text": [
            "[5, 6, 7]\n"
          ]
        }
      ]
    },
    {
      "cell_type": "markdown",
      "metadata": {
        "id": "p_oU-yokpSTX"
      },
      "source": [
        "**Makes sense, now on to some exercises ...**"
      ]
    },
    {
      "cell_type": "markdown",
      "metadata": {
        "id": "GvJ8ZwG7pn0K"
      },
      "source": [
        "# Unit 2 : Assignment # 2b\n",
        "***Come here to prove your knowledge.***\n",
        "\n",
        "Text cells will indicate a task.  \n",
        "Write your commands in the empty code cells below them."
      ]
    },
    {
      "cell_type": "markdown",
      "metadata": {
        "id": "wxbBn9dRqUzJ"
      },
      "source": [
        "## 1. Assign a variable."
      ]
    },
    {
      "cell_type": "code",
      "metadata": {
        "id": "ELzciBM8qVKJ",
        "colab": {
          "base_uri": "https://localhost:8080/"
        },
        "outputId": "596cb0b2-1fa9-4bb2-ae34-88ba0ec1e8e2"
      },
      "source": [
        "light_speed_mps = 299792458\n",
        "light_speed_mps"
      ],
      "execution_count": 30,
      "outputs": [
        {
          "output_type": "execute_result",
          "data": {
            "text/plain": [
              "299792458"
            ]
          },
          "metadata": {},
          "execution_count": 30
        }
      ]
    },
    {
      "cell_type": "markdown",
      "metadata": {
        "id": "2aYrQJ3sqeyY"
      },
      "source": [
        "## 2. Demonstrate simultaneous assignment of multiple variables in a single line."
      ]
    },
    {
      "cell_type": "code",
      "metadata": {
        "id": "9IqnLYX9q1_f",
        "colab": {
          "base_uri": "https://localhost:8080/"
        },
        "outputId": "ed024c7d-5f60-4ee9-8d89-c84836eb4138"
      },
      "source": [
        "apple, milk, eggs = \"lbs\", \"gallon\", \"dozen\"\n",
        "print(apple) ; print(milk) ; print(eggs) "
      ],
      "execution_count": 36,
      "outputs": [
        {
          "output_type": "stream",
          "name": "stdout",
          "text": [
            "lbs\n",
            "gallon\n",
            "dozen\n"
          ]
        }
      ]
    },
    {
      "cell_type": "markdown",
      "metadata": {
        "id": "8jmiJDlcq2wa"
      },
      "source": [
        "## 3. Use an exponent."
      ]
    },
    {
      "cell_type": "code",
      "metadata": {
        "id": "FOBJ2pQdrJu-",
        "colab": {
          "base_uri": "https://localhost:8080/"
        },
        "outputId": "367d18a8-13c9-4c5b-d262-84d42083876f"
      },
      "source": [
        "square_side = 4\n",
        "print(\"Area of square with size \", square_side, \" equals to \", square_side**2)"
      ],
      "execution_count": 38,
      "outputs": [
        {
          "output_type": "stream",
          "name": "stdout",
          "text": [
            "Area of square with size  4  equals to  16\n"
          ]
        }
      ]
    },
    {
      "cell_type": "markdown",
      "metadata": {
        "id": "Z1Ma26-wrLhL"
      },
      "source": [
        "## 4. Test if two variables are not equal to each other."
      ]
    },
    {
      "cell_type": "code",
      "metadata": {
        "id": "rNgJSh9PsAp0",
        "colab": {
          "base_uri": "https://localhost:8080/"
        },
        "outputId": "b2f93d97-93ab-491f-bcbb-ac694f99f14b"
      },
      "source": [
        "quadrilateral_height = 3\n",
        "quadrilateral_width  = 3\n",
        "\n",
        "print(\"Are the height and width lengths different? \",\n",
        "      quadrilateral_height != quadrilateral_width)"
      ],
      "execution_count": 41,
      "outputs": [
        {
          "output_type": "stream",
          "name": "stdout",
          "text": [
            "Are the height and width lengths different?  False\n"
          ]
        }
      ]
    },
    {
      "cell_type": "markdown",
      "metadata": {
        "id": "HK1bZqF5sBSC"
      },
      "source": [
        "## 5. Make an `and` statement."
      ]
    },
    {
      "cell_type": "code",
      "metadata": {
        "id": "r8u8qObJsoc1",
        "colab": {
          "base_uri": "https://localhost:8080/"
        },
        "outputId": "eb7b82e7-2430-46a8-fbb7-e8aefecf4b0c"
      },
      "source": [
        "number_sides = 4\n",
        "quadrilateral_height = 3\n",
        "quadrilateral_width  = 3\n",
        "print(\"is the object a square? \",\n",
        "      ((quadrilateral_height == quadrilateral_width) and (number_sides == 4)))"
      ],
      "execution_count": 44,
      "outputs": [
        {
          "output_type": "stream",
          "name": "stdout",
          "text": [
            "is the object a square?  True\n"
          ]
        }
      ]
    },
    {
      "cell_type": "markdown",
      "metadata": {
        "id": "5nUnT7QHsox6"
      },
      "source": [
        "## 6. Make an `or` statement."
      ]
    },
    {
      "cell_type": "code",
      "metadata": {
        "id": "t3PMnYiEtRrk",
        "colab": {
          "base_uri": "https://localhost:8080/"
        },
        "outputId": "3eabc5f6-e500-433a-f004-a3b8afdcfc41"
      },
      "source": [
        "number_sides = 4\n",
        "quadrilateral_height = 3\n",
        "quadrilateral_width  = 3\n",
        "print(\"is the object not a square? \",\n",
        "      ((quadrilateral_height != quadrilateral_width) or (number_sides != 4)))"
      ],
      "execution_count": 46,
      "outputs": [
        {
          "output_type": "stream",
          "name": "stdout",
          "text": [
            "is the object not a square?  False\n"
          ]
        }
      ]
    },
    {
      "cell_type": "markdown",
      "metadata": {
        "id": "v0NnDxMoMUr0"
      },
      "source": [
        "## 7. Make a list and confirm if a string is part of that list."
      ]
    },
    {
      "cell_type": "code",
      "metadata": {
        "id": "l_VTWdHVMT81",
        "colab": {
          "base_uri": "https://localhost:8080/"
        },
        "outputId": "c420105c-70b6-41f8-8254-d24441315236"
      },
      "source": [
        "blood_cancers = ['leukemia', 'lymphoma', 'myeloma']\n",
        "print(\"Is leukemia a type of blood cancer?\", 'leukemia'in blood_cancers)"
      ],
      "execution_count": 54,
      "outputs": [
        {
          "output_type": "stream",
          "name": "stdout",
          "text": [
            "Is leukemia a type of blood cancer? True\n"
          ]
        }
      ]
    },
    {
      "cell_type": "markdown",
      "metadata": {
        "id": "NT_iFkB-MWan"
      },
      "source": [
        "## 8. Did you like this unit? Combine two strings to give feedback on this unit."
      ]
    },
    {
      "cell_type": "code",
      "metadata": {
        "id": "TThV3EfpMWvB",
        "colab": {
          "base_uri": "https://localhost:8080/",
          "height": 53
        },
        "outputId": "26432711-980f-4dce-fe80-a33135038e5c"
      },
      "source": [
        "lesson1 = \"I learned about the difference betweent modulo and division operators. \"\n",
        "lesson2 = \"The membership operators are useful in checking whether a value is present in a given string without using a loop. \"\n",
        "preamble = \"Sara, your lesson is very well organized. The exercises are clear. \"\n",
        "\n",
        "preamble + lesson1 + lesson2\n",
        "\n"
      ],
      "execution_count": 57,
      "outputs": [
        {
          "output_type": "execute_result",
          "data": {
            "application/vnd.google.colaboratory.intrinsic+json": {
              "type": "string"
            },
            "text/plain": [
              "'Sara, your lesson is very well organized. The exercises are clear. I learned about the difference betweent modulo and division operators. The membership operators are useful in checking whether a value is present in a given string without using a loop. '"
            ]
          },
          "metadata": {},
          "execution_count": 57
        }
      ]
    },
    {
      "cell_type": "markdown",
      "metadata": {
        "id": "m3N5THK1MXFG"
      },
      "source": [
        "## 9. Try and generate an error by combining non-compatible data types."
      ]
    },
    {
      "cell_type": "code",
      "metadata": {
        "id": "n3m-RLXkMXQA",
        "colab": {
          "base_uri": "https://localhost:8080/",
          "height": 235
        },
        "outputId": "35d36c8b-2d4e-4f3f-a742-3f0f8eb4a2f9"
      },
      "source": [
        "dozen_size = 12\n",
        "dozen_members= \"units\"\n",
        "print(\"A dozen is defined a group of\")\n",
        "dozen_size + dozen_members\n",
        "\n"
      ],
      "execution_count": 66,
      "outputs": [
        {
          "output_type": "stream",
          "name": "stdout",
          "text": [
            "A dozen is defined a group of\n"
          ]
        },
        {
          "output_type": "error",
          "ename": "TypeError",
          "evalue": "ignored",
          "traceback": [
            "\u001b[0;31m---------------------------------------------------------------------------\u001b[0m",
            "\u001b[0;31mTypeError\u001b[0m                                 Traceback (most recent call last)",
            "\u001b[0;32m<ipython-input-66-ef442ea6fea1>\u001b[0m in \u001b[0;36m<module>\u001b[0;34m()\u001b[0m\n\u001b[1;32m      2\u001b[0m \u001b[0mdozen_members\u001b[0m\u001b[0;34m=\u001b[0m \u001b[0;34m\"units\"\u001b[0m\u001b[0;34m\u001b[0m\u001b[0;34m\u001b[0m\u001b[0m\n\u001b[1;32m      3\u001b[0m \u001b[0mprint\u001b[0m\u001b[0;34m(\u001b[0m\u001b[0;34m\"A dozen is defined a group of\"\u001b[0m\u001b[0;34m)\u001b[0m\u001b[0;34m\u001b[0m\u001b[0;34m\u001b[0m\u001b[0m\n\u001b[0;32m----> 4\u001b[0;31m \u001b[0mdozen_size\u001b[0m \u001b[0;34m+\u001b[0m \u001b[0mdozen_members\u001b[0m\u001b[0;34m\u001b[0m\u001b[0;34m\u001b[0m\u001b[0m\n\u001b[0m\u001b[1;32m      5\u001b[0m \u001b[0;34m\u001b[0m\u001b[0m\n",
            "\u001b[0;31mTypeError\u001b[0m: unsupported operand type(s) for +: 'int' and 'str'"
          ]
        }
      ]
    },
    {
      "cell_type": "markdown",
      "metadata": {
        "id": "ffYKCCsiMXbc"
      },
      "source": [
        "## 10. Confirm a number is an integer. "
      ]
    },
    {
      "cell_type": "code",
      "metadata": {
        "id": "HAx_qI5OMXru",
        "colab": {
          "base_uri": "https://localhost:8080/"
        },
        "outputId": "bf7f7264-83cc-4748-9469-87157aaa75a8"
      },
      "source": [
        "variable_a = 100\n",
        "variable_b = 1000 / 10\n",
        "print(\"is Variable A equal to Variable B?\", a==b)\n",
        "print(\"While Variable A is of\", type(a), \"and Variable B is of\", type(b))\n"
      ],
      "execution_count": 73,
      "outputs": [
        {
          "output_type": "stream",
          "name": "stdout",
          "text": [
            "is Variable A equal to Variable B? True\n",
            "while Variable A is of <class 'int'> and Variable B is of <class 'float'>\n"
          ]
        }
      ]
    },
    {
      "cell_type": "markdown",
      "metadata": {
        "id": "IXN9yr_LtSYT"
      },
      "source": [
        "# Thanks, see you in the next unit!"
      ]
    }
  ]
}