{
  "nbformat": 4,
  "nbformat_minor": 0,
  "metadata": {
    "colab": {
      "name": "RafaelV_unit_2_notebook_2a.ipynb",
      "provenance": [],
      "collapsed_sections": [],
      "toc_visible": true,
      "include_colab_link": true
    },
    "kernelspec": {
      "name": "python3",
      "display_name": "Python 3"
    }
  },
  "cells": [
    {
      "cell_type": "markdown",
      "metadata": {
        "id": "view-in-github",
        "colab_type": "text"
      },
      "source": [
        "<a href=\"https://colab.research.google.com/github/RafaelVillasmil/Assignments_BINF690/blob/main/RafaelV_unit_2_notebook_2a.ipynb\" target=\"_parent\"><img src=\"https://colab.research.google.com/assets/colab-badge.svg\" alt=\"Open In Colab\"/></a>"
      ]
    },
    {
      "cell_type": "markdown",
      "metadata": {
        "id": "lwuTCUVlJeY6"
      },
      "source": [
        "# Unit 2 - Instructional DEMO 2a: Python syntax\n",
        " - **Focus:**  Basic python syntax. \n",
        " - **Author(s):** Sara B-C.\n",
        " - **Date Notebook Last Modified:** 08.10.2020\n",
        " - **Quick Description:** Use this notebook to learn python syntax. In the beginning, just hit play at each cell and watch things work. Once you are done, you can download the finished results. **There are some exercises to complete at the end!**\n",
        "\n",
        "---\n",
        "## Code outline\n",
        "  0. Set up file stream (yep, this is in every notebook).\n",
        "  1. Comment versus docstring.\n",
        "  2. One statement versus multiple statements.\n",
        "  3. Indentations matter.   \n",
        "  4. An intro to multiple indents.\n",
        "  5. Parentheses.\n",
        "  6. Brackets.\n",
        "  7. A quick intro to \"dots\" or `.`.\n",
        "  8. Keywords.\n",
        "\n",
        "---\n",
        "## Additional notes\n",
        "*   Lists, dictionaries and tuples can get really confusing early on and will be covered later."
      ]
    },
    {
      "cell_type": "markdown",
      "metadata": {
        "id": "XuUnubnFH9xZ"
      },
      "source": [
        "## 0. Lets set up filestream access\n",
        "Follow the directions on screen as you run the code cell below and then you can access the data stored on your 'My Drive'. For many of you, this is the first python code you will ever execute knowingly, as most google infrastructure is python based (another reason why the language is growing)You did this before, let's go!"
      ]
    },
    {
      "cell_type": "code",
      "metadata": {
        "id": "D2qRSmw3GUNA",
        "colab": {
          "base_uri": "https://localhost:8080/"
        },
        "outputId": "a2c0e283-6247-43ff-a239-ea0728ce6b35"
      },
      "source": [
        "import os\n",
        "from google.colab import drive\n",
        "drive.mount('/content/drive/')\n",
        "os.chdir(\"/content/drive/My Drive/BINF309_Introduction_to_Python/example_data/\")"
      ],
      "execution_count": 2,
      "outputs": [
        {
          "output_type": "stream",
          "name": "stdout",
          "text": [
            "Drive already mounted at /content/drive/; to attempt to forcibly remount, call drive.mount(\"/content/drive/\", force_remount=True).\n"
          ]
        }
      ]
    },
    {
      "cell_type": "markdown",
      "metadata": {
        "id": "mITVzECaO2j6"
      },
      "source": [
        "Above you should now see the output \"Mounted at /content/drive/\". This means your storage is now connected to your notebook and its runtime. A runtime is the computer it will use to execute code and other computations. We'll cover what the above code means once you have learned some more python."
      ]
    },
    {
      "cell_type": "markdown",
      "metadata": {
        "id": "GD8TX9ZoUxd5"
      },
      "source": [
        "## 1. Comment versus docstring.\n"
      ]
    },
    {
      "cell_type": "markdown",
      "metadata": {
        "id": "Kr7a5kT9VeZX"
      },
      "source": [
        "How about 4 cells ...  \n",
        "First a block comment.  \n",
        "Second an inline comment.  \n",
        "Third a multiline string (the precursor to more advanced code like docstrings)."
      ]
    },
    {
      "cell_type": "code",
      "metadata": {
        "id": "RHliNCrvVAkc",
        "colab": {
          "base_uri": "https://localhost:8080/"
        },
        "outputId": "fd8b6ea2-d341-456e-b4cc-c910e168606c"
      },
      "source": [
        "# print(\"Hello class!\")\n",
        "# prints the message hello class\n",
        "print(\"Hello class!\")"
      ],
      "execution_count": 3,
      "outputs": [
        {
          "output_type": "stream",
          "name": "stdout",
          "text": [
            "Hello class!\n"
          ]
        }
      ]
    },
    {
      "cell_type": "code",
      "metadata": {
        "id": "DN_68HD7WEqG",
        "colab": {
          "base_uri": "https://localhost:8080/"
        },
        "outputId": "fbb02e00-6cd2-40f1-a0b1-2ec3946d1a0a"
      },
      "source": [
        "print(\"Hello class!\") # print(\"Hello class!\") prints the message hello class"
      ],
      "execution_count": 4,
      "outputs": [
        {
          "output_type": "stream",
          "name": "stdout",
          "text": [
            "Hello class!\n"
          ]
        }
      ]
    },
    {
      "cell_type": "code",
      "metadata": {
        "id": "hMtpreWQXu0N",
        "colab": {
          "base_uri": "https://localhost:8080/",
          "height": 35
        },
        "outputId": "b6faff0f-f85c-435a-e699-67f189ae1384"
      },
      "source": [
        "\"\"\"Strings are cool.\"\"\""
      ],
      "execution_count": 5,
      "outputs": [
        {
          "output_type": "execute_result",
          "data": {
            "application/vnd.google.colaboratory.intrinsic+json": {
              "type": "string"
            },
            "text/plain": [
              "'Strings are cool.'"
            ]
          },
          "metadata": {},
          "execution_count": 5
        }
      ]
    },
    {
      "cell_type": "code",
      "metadata": {
        "id": "rB-rBs8eWE1U",
        "colab": {
          "base_uri": "https://localhost:8080/",
          "height": 53
        },
        "outputId": "532cc27b-1a01-4aae-bfb5-45284dfc72c8"
      },
      "source": [
        "\"\"\"Sometimes you need a few lines to describe something.\n",
        "Maybe even an empty line.\n",
        "\n",
        "You can end a multiline docstring/string on a new line with quotes like below as per the PEP8 style guide.\n",
        "\"\"\""
      ],
      "execution_count": 6,
      "outputs": [
        {
          "output_type": "execute_result",
          "data": {
            "application/vnd.google.colaboratory.intrinsic+json": {
              "type": "string"
            },
            "text/plain": [
              "'Sometimes you need a few lines to describe something.\\nMaybe even an empty line.\\n\\nYou can end a multiline docstring/string on a new line with quotes like below as per the PEP8 style guide.\\n'"
            ]
          },
          "metadata": {},
          "execution_count": 6
        }
      ]
    },
    {
      "cell_type": "markdown",
      "metadata": {
        "id": "cIO-6lW3aMhn"
      },
      "source": [
        "## 2. One statement versus multiple statements.\n",
        "\n",
        "You have already experienced this but a codeblock can have one line to execute a single command in python, or it can have multiple.  \n",
        "Or you can have one statement spread across multiple lines.\n",
        "The use of whitespace (lack of indents) and returns keeps them separate.  \n",
        "As a note, backslashes, parentheses, brackets and braces can be used to explicitly continue statements across lines. "
      ]
    },
    {
      "cell_type": "code",
      "metadata": {
        "id": "jnT8f_uefYCK",
        "colab": {
          "base_uri": "https://localhost:8080/"
        },
        "outputId": "abf866a8-64be-48e6-ccfb-6aef93ea668a"
      },
      "source": [
        "print(\"This is a single statement\")"
      ],
      "execution_count": 7,
      "outputs": [
        {
          "output_type": "stream",
          "name": "stdout",
          "text": [
            "This is a single statement\n"
          ]
        }
      ]
    },
    {
      "cell_type": "code",
      "metadata": {
        "id": "IWoHPolsYN1b",
        "colab": {
          "base_uri": "https://localhost:8080/"
        },
        "outputId": "fcf8507b-e212-4670-bfbe-6c8a32b4c100"
      },
      "source": [
        "print(\"This is the first statement\")\n",
        "print(\"This is the second statement\")"
      ],
      "execution_count": 8,
      "outputs": [
        {
          "output_type": "stream",
          "name": "stdout",
          "text": [
            "This is the first statement\n",
            "This is the second statement\n"
          ]
        }
      ]
    },
    {
      "cell_type": "code",
      "metadata": {
        "id": "O7knwXReM_Wm",
        "colab": {
          "base_uri": "https://localhost:8080/"
        },
        "outputId": "6d687a85-0342-4b40-d598-3d48a632fe73"
      },
      "source": [
        "print(\"This is the first statement\");print(\"This is the second statement\")"
      ],
      "execution_count": 9,
      "outputs": [
        {
          "output_type": "stream",
          "name": "stdout",
          "text": [
            "This is the first statement\n",
            "This is the second statement\n"
          ]
        }
      ]
    },
    {
      "cell_type": "code",
      "metadata": {
        "id": "72OFYZIxac5R",
        "colab": {
          "base_uri": "https://localhost:8080/"
        },
        "outputId": "96854784-d27e-454b-fc8d-89b624dd4d1b"
      },
      "source": [
        "a = 1 + 2 + 3 + \\\n",
        "2 + 10\n",
        "print(a) # This should equal 18"
      ],
      "execution_count": 10,
      "outputs": [
        {
          "output_type": "stream",
          "name": "stdout",
          "text": [
            "18\n"
          ]
        }
      ]
    },
    {
      "cell_type": "code",
      "metadata": {
        "id": "h3I1C357nHga",
        "colab": {
          "base_uri": "https://localhost:8080/"
        },
        "outputId": "d533b8d6-26a2-4de3-f7ad-27a44f23dde4"
      },
      "source": [
        "a = (1 + 2 + 3 + \n",
        "2 + 10)\n",
        "print(a) # This should equal 18"
      ],
      "execution_count": 11,
      "outputs": [
        {
          "output_type": "stream",
          "name": "stdout",
          "text": [
            "18\n"
          ]
        }
      ]
    },
    {
      "cell_type": "markdown",
      "metadata": {
        "id": "POhPV15zi9ZO"
      },
      "source": [
        "## 3. Indentations matter.\n",
        "A preview of future lessons.  \n",
        "After a `:`, indents denote a new command.  \n",
        "4 spaces are generally preferred to `tab`."
      ]
    },
    {
      "cell_type": "code",
      "metadata": {
        "id": "S87iYItTjMeS",
        "colab": {
          "base_uri": "https://localhost:8080/"
        },
        "outputId": "e90764c0-efd4-422c-a089-4fb95c573283"
      },
      "source": [
        "for i in range(0,11):\n",
        "    print(i)"
      ],
      "execution_count": 12,
      "outputs": [
        {
          "output_type": "stream",
          "name": "stdout",
          "text": [
            "0\n",
            "1\n",
            "2\n",
            "3\n",
            "4\n",
            "5\n",
            "6\n",
            "7\n",
            "8\n",
            "9\n",
            "10\n"
          ]
        }
      ]
    },
    {
      "cell_type": "markdown",
      "metadata": {
        "id": "JCZ1RMiWkW_3"
      },
      "source": [
        "## 4. An intro to multiple indents.\n",
        "This is when things get complicated and proper use of whitespace matters.  \n",
        "Write consistent code.  "
      ]
    },
    {
      "cell_type": "code",
      "metadata": {
        "id": "8JqRitFFcVIV",
        "colab": {
          "base_uri": "https://localhost:8080/"
        },
        "outputId": "c71fd4cd-7184-4c2f-810f-e3598208169e"
      },
      "source": [
        "for i in ['dog', 'cat', 'monkey']:\n",
        "  for j in ['cute', 'nice', 'fun']:\n",
        "    print(i + \" is \" + j)"
      ],
      "execution_count": 13,
      "outputs": [
        {
          "output_type": "stream",
          "name": "stdout",
          "text": [
            "dog is cute\n",
            "dog is nice\n",
            "dog is fun\n",
            "cat is cute\n",
            "cat is nice\n",
            "cat is fun\n",
            "monkey is cute\n",
            "monkey is nice\n",
            "monkey is fun\n"
          ]
        }
      ]
    },
    {
      "cell_type": "markdown",
      "metadata": {
        "id": "dk_AdyrqnhO8"
      },
      "source": [
        "## 5. Parentheses.\n",
        "This is where you specify options and arguments for functions.\n",
        "Great summaries from the[ PEP8 style guide](https://www.python.org/dev/peps/pep-0008/#comments).\n",
        "**Don't bother hitting play in the two cells below, we'll go in more detail when we get to functions**"
      ]
    },
    {
      "cell_type": "code",
      "metadata": {
        "id": "LDXWIAylnvJz",
        "colab": {
          "base_uri": "https://localhost:8080/",
          "height": 235
        },
        "outputId": "cae5a7d1-a3d2-46d0-e326-6976df3481a8"
      },
      "source": [
        "# Correct ways to use parentheses:\n",
        "\n",
        "# Simple\n",
        "foo = long_function_name(var_one, var_two, var_three, var_four)\n",
        "\n",
        "# Aligned with opening delimiter.\n",
        "foo = long_function_name(var_one, var_two,\n",
        "                         var_three, var_four)\n",
        "\n",
        "# Add 8 spaces (an extra level of indentation) to distinguish arguments from the rest.\n",
        "def long_function_name(\n",
        "        var_one, var_two, var_three,\n",
        "        var_four):\n",
        "    print(var_one)\n",
        "\n",
        "# Hanging indents should add a level.\n",
        "foo = long_function_name(\n",
        "    var_one, var_two,\n",
        "    var_three, var_four)"
      ],
      "execution_count": 14,
      "outputs": [
        {
          "output_type": "error",
          "ename": "NameError",
          "evalue": "ignored",
          "traceback": [
            "\u001b[0;31m---------------------------------------------------------------------------\u001b[0m",
            "\u001b[0;31mNameError\u001b[0m                                 Traceback (most recent call last)",
            "\u001b[0;32m<ipython-input-14-112fed569a70>\u001b[0m in \u001b[0;36m<module>\u001b[0;34m()\u001b[0m\n\u001b[1;32m      2\u001b[0m \u001b[0;34m\u001b[0m\u001b[0m\n\u001b[1;32m      3\u001b[0m \u001b[0;31m# Simple\u001b[0m\u001b[0;34m\u001b[0m\u001b[0;34m\u001b[0m\u001b[0;34m\u001b[0m\u001b[0m\n\u001b[0;32m----> 4\u001b[0;31m \u001b[0mfoo\u001b[0m \u001b[0;34m=\u001b[0m \u001b[0mlong_function_name\u001b[0m\u001b[0;34m(\u001b[0m\u001b[0mvar_one\u001b[0m\u001b[0;34m,\u001b[0m \u001b[0mvar_two\u001b[0m\u001b[0;34m,\u001b[0m \u001b[0mvar_three\u001b[0m\u001b[0;34m,\u001b[0m \u001b[0mvar_four\u001b[0m\u001b[0;34m)\u001b[0m\u001b[0;34m\u001b[0m\u001b[0;34m\u001b[0m\u001b[0m\n\u001b[0m\u001b[1;32m      5\u001b[0m \u001b[0;34m\u001b[0m\u001b[0m\n\u001b[1;32m      6\u001b[0m \u001b[0;31m# Aligned with opening delimiter.\u001b[0m\u001b[0;34m\u001b[0m\u001b[0;34m\u001b[0m\u001b[0;34m\u001b[0m\u001b[0m\n",
            "\u001b[0;31mNameError\u001b[0m: name 'long_function_name' is not defined"
          ]
        }
      ]
    },
    {
      "cell_type": "code",
      "metadata": {
        "id": "oiaYNlXFfr0W"
      },
      "source": [
        "# Wrong ways to use parentheses:\n",
        "\n",
        "# Arguments on first line forbidden when not using vertical alignment.\n",
        "foo = long_function_name(var_one, var_two,\n",
        "    var_three, var_four)\n",
        "\n",
        "# Further indentation required as indentation is not distinguishable.\n",
        "def long_function_name(\n",
        "    var_one, var_two, var_three,\n",
        "    var_four):\n",
        "    print(var_one)"
      ],
      "execution_count": null,
      "outputs": []
    },
    {
      "cell_type": "markdown",
      "metadata": {
        "id": "k_CjE9ogKnD3"
      },
      "source": [
        "## 6. Brackets.\n",
        "How else will you make a list?"
      ]
    },
    {
      "cell_type": "code",
      "metadata": {
        "id": "akMTAt0jLN2R",
        "colab": {
          "base_uri": "https://localhost:8080/"
        },
        "outputId": "78224cf5-79c7-4e94-e844-757fd2f8410f"
      },
      "source": [
        "colors = ['red',\n",
        "          'blue',\n",
        "          'green']\n",
        "\n",
        "# Could also be colors = ['red', 'blue', 'green']\n",
        "\n",
        "# Print the elements of the list.\n",
        "print(colors)"
      ],
      "execution_count": 15,
      "outputs": [
        {
          "output_type": "stream",
          "name": "stdout",
          "text": [
            "['red', 'blue', 'green']\n"
          ]
        }
      ]
    },
    {
      "cell_type": "markdown",
      "metadata": {
        "id": "pyawRj9_gxIK"
      },
      "source": [
        "Slightly more advanced example of things to come ... looping through lists."
      ]
    },
    {
      "cell_type": "code",
      "metadata": {
        "id": "v8qAJTZlgwxW",
        "colab": {
          "base_uri": "https://localhost:8080/"
        },
        "outputId": "08d83df4-9bb2-4473-f3e5-b0a9f0fc8957"
      },
      "source": [
        "for i in colors:\n",
        "  print(i)"
      ],
      "execution_count": 16,
      "outputs": [
        {
          "output_type": "stream",
          "name": "stdout",
          "text": [
            "red\n",
            "blue\n",
            "green\n"
          ]
        }
      ]
    },
    {
      "cell_type": "markdown",
      "metadata": {
        "id": "DY3hSrPZiDvV"
      },
      "source": [
        "We'll cover brackets in depth when we get to analyzing data, they are very important for pandas and similar tools."
      ]
    },
    {
      "cell_type": "markdown",
      "metadata": {
        "id": "RvZ1wUpoNnZ-"
      },
      "source": [
        "## 7. A quick intro to \"dots\" or `.`.\n",
        "Dot notation means to tell python look inside that object. Remember python is an object oriented language, so almost any \"word\" is also an object that can contain something useful.  \n",
        "Dots help you access the contents of objects, packages, modules, etc. "
      ]
    },
    {
      "cell_type": "code",
      "metadata": {
        "id": "i7smJIMsN0r_"
      },
      "source": [
        "class Book:\n",
        "    def __init__(self, title, author):\n",
        "        self.title = title\n",
        "        self.author = author\n",
        "\n",
        "awesome_book = Book(title=\"The Stand\", author=\"Stephen King\")"
      ],
      "execution_count": 18,
      "outputs": []
    },
    {
      "cell_type": "markdown",
      "metadata": {
        "id": "0IOCREsulI97"
      },
      "source": [
        "Here we built a class object called `Book` (the concept of class is a bit advanced, but its good that you know it exists). In general, a class is just an object with defined attributes. When defining (`def`) a class you initialize (`__init__`) its attribute values within itself (`self()`). It has the attributes `title` and `author`. Let's use dot to find the content of the `author` attribute using the `.`! "
      ]
    },
    {
      "cell_type": "code",
      "metadata": {
        "id": "btZy1oMxlsac",
        "colab": {
          "base_uri": "https://localhost:8080/",
          "height": 35
        },
        "outputId": "240a490a-4463-4f51-afcb-f54a82337d3f"
      },
      "source": [
        "awesome_book.author"
      ],
      "execution_count": 19,
      "outputs": [
        {
          "output_type": "execute_result",
          "data": {
            "application/vnd.google.colaboratory.intrinsic+json": {
              "type": "string"
            },
            "text/plain": [
              "'Stephen King'"
            ]
          },
          "metadata": {},
          "execution_count": 19
        }
      ]
    },
    {
      "cell_type": "markdown",
      "metadata": {
        "id": "VpSIwc4eTaBb"
      },
      "source": [
        "## 8. Keywords.\n",
        "To put it simply, there are some words that can't be made objects."
      ]
    },
    {
      "cell_type": "code",
      "metadata": {
        "id": "J9JZWaN3TaYO",
        "colab": {
          "base_uri": "https://localhost:8080/"
        },
        "outputId": "c9d1003c-f01e-409b-a502-49acf1bbf3c8"
      },
      "source": [
        "import keyword\n",
        "print(keyword.kwlist)"
      ],
      "execution_count": 20,
      "outputs": [
        {
          "output_type": "stream",
          "name": "stdout",
          "text": [
            "['False', 'None', 'True', 'and', 'as', 'assert', 'async', 'await', 'break', 'class', 'continue', 'def', 'del', 'elif', 'else', 'except', 'finally', 'for', 'from', 'global', 'if', 'import', 'in', 'is', 'lambda', 'nonlocal', 'not', 'or', 'pass', 'raise', 'return', 'try', 'while', 'with', 'yield']\n"
          ]
        }
      ]
    },
    {
      "cell_type": "markdown",
      "metadata": {
        "id": "p_oU-yokpSTX"
      },
      "source": [
        "**Makes sense, now on to some exercises ...**"
      ]
    },
    {
      "cell_type": "markdown",
      "metadata": {
        "id": "GvJ8ZwG7pn0K"
      },
      "source": [
        "# Unit 2: Assignment # 2a\n",
        "***Come here to prove your knowledge.***\n",
        "\n",
        "Text cells will indicate a task.  \n",
        "Write your commands in the empty code cells below them."
      ]
    },
    {
      "cell_type": "markdown",
      "metadata": {
        "id": "wxbBn9dRqUzJ"
      },
      "source": [
        "## 1. Write an inline comment."
      ]
    },
    {
      "cell_type": "code",
      "metadata": {
        "id": "ELzciBM8qVKJ",
        "colab": {
          "base_uri": "https://localhost:8080/"
        },
        "outputId": "a0cb733d-fb34-4510-a8dd-6aaed2f5de6b"
      },
      "source": [
        "y = 1.5 + 2j  # Create a complex number\n",
        "y"
      ],
      "execution_count": 23,
      "outputs": [
        {
          "output_type": "execute_result",
          "data": {
            "text/plain": [
              "(1.5+2j)"
            ]
          },
          "metadata": {},
          "execution_count": 23
        }
      ]
    },
    {
      "cell_type": "markdown",
      "metadata": {
        "id": "2aYrQJ3sqeyY"
      },
      "source": [
        "## 2. Write a docstring"
      ]
    },
    {
      "cell_type": "code",
      "metadata": {
        "id": "9IqnLYX9q1_f"
      },
      "source": [
        "def kos_root():\n",
        "    \"\"\"Return the pathname of the KOS root directory.\"\"\"\n",
        "    global _kos_root\n",
        "    if _kos_root: return _kos_root\n",
        "    "
      ],
      "execution_count": 25,
      "outputs": []
    },
    {
      "cell_type": "markdown",
      "metadata": {
        "id": "8jmiJDlcq2wa"
      },
      "source": [
        "## 3. Tell me something positive in a multiline string."
      ]
    },
    {
      "cell_type": "code",
      "metadata": {
        "id": "FOBJ2pQdrJu-",
        "colab": {
          "base_uri": "https://localhost:8080/",
          "height": 53
        },
        "outputId": "1929c831-0828-4d3f-da49-6b689c857372"
      },
      "source": [
        "s = \"\"\" Thousands of candles can be lighted from a single candle, \n",
        "        and the life of the candle will not be shortened. \n",
        "        Happiness never decreases by being shared.\n",
        "        Buddha\"\"\"\n",
        "s"
      ],
      "execution_count": 27,
      "outputs": [
        {
          "output_type": "execute_result",
          "data": {
            "application/vnd.google.colaboratory.intrinsic+json": {
              "type": "string"
            },
            "text/plain": [
              "' Thousands of candles can be lighted from a single candle, \\n        and the life of the candle will not be shortened. \\n        Happiness never decreases by being shared.\\n        Buddha'"
            ]
          },
          "metadata": {},
          "execution_count": 27
        }
      ]
    },
    {
      "cell_type": "markdown",
      "metadata": {
        "id": "Z1Ma26-wrLhL"
      },
      "source": [
        "## 4. Make a list of your three favorite colors."
      ]
    },
    {
      "cell_type": "code",
      "metadata": {
        "id": "rNgJSh9PsAp0",
        "colab": {
          "base_uri": "https://localhost:8080/"
        },
        "outputId": "112a5b9e-0661-4449-f598-84ba3a9cc17b"
      },
      "source": [
        "rafael_fav_colors = ['blueviolet', 'blue', 'greenyellow']\n",
        "rafael_fav_colors"
      ],
      "execution_count": 36,
      "outputs": [
        {
          "output_type": "execute_result",
          "data": {
            "text/plain": [
              "['blueviolet', 'blue', 'greenyellow']"
            ]
          },
          "metadata": {},
          "execution_count": 36
        }
      ]
    },
    {
      "cell_type": "markdown",
      "metadata": {
        "id": "HK1bZqF5sBSC"
      },
      "source": [
        "## 5. Find the title of `awesome_book` in the dot notation example."
      ]
    },
    {
      "cell_type": "code",
      "metadata": {
        "id": "r8u8qObJsoc1",
        "colab": {
          "base_uri": "https://localhost:8080/",
          "height": 35
        },
        "outputId": "6c153c0b-bddb-48d7-e4a1-d8296aefa0bb"
      },
      "source": [
        "awesome_book.title"
      ],
      "execution_count": 28,
      "outputs": [
        {
          "output_type": "execute_result",
          "data": {
            "application/vnd.google.colaboratory.intrinsic+json": {
              "type": "string"
            },
            "text/plain": [
              "'The Stand'"
            ]
          },
          "metadata": {},
          "execution_count": 28
        }
      ]
    },
    {
      "cell_type": "markdown",
      "metadata": {
        "id": "5nUnT7QHsox6"
      },
      "source": [
        "## 6. Make a \"dummy\" code cell that uses a `:` and `whitespace` correctly.  \n",
        "Concentrate on syntax and not if it actually does anything.  \n",
        "Form over function for today."
      ]
    },
    {
      "cell_type": "code",
      "metadata": {
        "id": "t3PMnYiEtRrk",
        "colab": {
          "base_uri": "https://localhost:8080/"
        },
        "outputId": "b0a9a800-4bb9-4806-a9af-46efde284956"
      },
      "source": [
        "for i in ['blueviolet', 'blue', 'greenyellow']:\n",
        "  for j in ['visible', 'high energy', 'short wavelenght']:\n",
        "    print(i + \" is \" + j)"
      ],
      "execution_count": 54,
      "outputs": [
        {
          "output_type": "stream",
          "name": "stdout",
          "text": [
            "blueviolet is visible\n",
            "blueviolet is high energy\n",
            "blueviolet is short wavelenght\n",
            "blue is visible\n",
            "blue is high energy\n",
            "blue is short wavelenght\n",
            "greenyellow is visible\n",
            "greenyellow is high energy\n",
            "greenyellow is short wavelenght\n"
          ]
        }
      ]
    },
    {
      "cell_type": "markdown",
      "metadata": {
        "id": "v0NnDxMoMUr0"
      },
      "source": [
        "## 7. Similar to above, show a code cell that includes multiple levels of indents.\n",
        "Concentrate on syntax and not if it actually does anything.  \n",
        "Form over function for today."
      ]
    },
    {
      "cell_type": "code",
      "metadata": {
        "id": "l_VTWdHVMT81",
        "colab": {
          "base_uri": "https://localhost:8080/"
        },
        "outputId": "6eed54ee-3a15-490c-ecbd-57e7323d8722"
      },
      "source": [
        "for i in ['blueviolet', 'blue', 'greenyellow']:\n",
        "  print(i)\n",
        "  for j in ['visible', 'high energy', 'short wavelenght']:\n",
        "    print(i + \" is \" + j)\n",
        "  print()"
      ],
      "execution_count": 55,
      "outputs": [
        {
          "output_type": "stream",
          "name": "stdout",
          "text": [
            "blueviolet\n",
            "blueviolet is visible\n",
            "blueviolet is high energy\n",
            "blueviolet is short wavelenght\n",
            "\n",
            "blue\n",
            "blue is visible\n",
            "blue is high energy\n",
            "blue is short wavelenght\n",
            "\n",
            "greenyellow\n",
            "greenyellow is visible\n",
            "greenyellow is high energy\n",
            "greenyellow is short wavelenght\n",
            "\n"
          ]
        }
      ]
    },
    {
      "cell_type": "markdown",
      "metadata": {
        "id": "NT_iFkB-MWan"
      },
      "source": [
        "## 8. Based on the examples above, make a list then print its contents."
      ]
    },
    {
      "cell_type": "code",
      "metadata": {
        "id": "TThV3EfpMWvB",
        "colab": {
          "base_uri": "https://localhost:8080/"
        },
        "outputId": "00154cc7-8503-4f66-8d18-4b619dd3a251"
      },
      "source": [
        "rafael_fav_colors = ['blueviolet', 'blue', 'greenyellow']\n",
        "for i in rafael_fav_colors:\n",
        "  print(i)\n",
        "  for j in ['visible', 'high energy', 'short wavelenght']:\n",
        "    print(i + \" is \" + j)\n",
        "  print()"
      ],
      "execution_count": 51,
      "outputs": [
        {
          "output_type": "stream",
          "name": "stdout",
          "text": [
            "blueviolet\n",
            "blueviolet is visible\n",
            "blueviolet is high energy\n",
            "blueviolet is short wavelenght\n",
            "\n",
            "blue\n",
            "blue is visible\n",
            "blue is high energy\n",
            "blue is short wavelenght\n",
            "\n",
            "greenyellow\n",
            "greenyellow is visible\n",
            "greenyellow is high energy\n",
            "greenyellow is short wavelenght\n",
            "\n"
          ]
        }
      ]
    },
    {
      "cell_type": "markdown",
      "metadata": {
        "id": "m3N5THK1MXFG"
      },
      "source": [
        "## 9. Type five reserved words"
      ]
    },
    {
      "cell_type": "code",
      "metadata": {
        "id": "RtecI070qZI3",
        "colab": {
          "base_uri": "https://localhost:8080/"
        },
        "outputId": "d6e66a2d-10c5-4070-abaf-191ad77e8c73"
      },
      "source": [
        "import keyword\n",
        "list(keyword.kwlist)[:5]\n"
      ],
      "execution_count": 56,
      "outputs": [
        {
          "output_type": "execute_result",
          "data": {
            "text/plain": [
              "['False', 'None', 'True', 'and', 'as']"
            ]
          },
          "metadata": {},
          "execution_count": 56
        }
      ]
    },
    {
      "cell_type": "markdown",
      "metadata": {
        "id": "ffYKCCsiMXbc"
      },
      "source": [
        "## 10. Print the words `python` and `syntax` in the cell below with an empty line between them."
      ]
    },
    {
      "cell_type": "code",
      "metadata": {
        "id": "HAx_qI5OMXru",
        "colab": {
          "base_uri": "https://localhost:8080/"
        },
        "outputId": "fcc84810-8f3b-48cb-c0f4-ab1527228537"
      },
      "source": [
        "print('python')\n",
        "print()\n",
        "print('syntax')\n"
      ],
      "execution_count": 57,
      "outputs": [
        {
          "output_type": "stream",
          "name": "stdout",
          "text": [
            "python\n",
            "\n",
            "syntax\n"
          ]
        }
      ]
    },
    {
      "cell_type": "markdown",
      "metadata": {
        "id": "IXN9yr_LtSYT"
      },
      "source": [
        "# Thanks, see you soon!"
      ]
    }
  ]
}