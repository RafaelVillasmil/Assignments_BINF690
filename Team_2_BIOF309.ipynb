{
  "cells": [
    {
      "cell_type": "markdown",
      "metadata": {
        "id": "view-in-github",
        "colab_type": "text"
      },
      "source": [
        "<a href=\"https://colab.research.google.com/github/RafaelVillasmil/BIOF309_Introduction_to_Python/blob/main/Team_2_BIOF309.ipynb\" target=\"_parent\"><img src=\"https://colab.research.google.com/assets/colab-badge.svg\" alt=\"Open In Colab\"/></a>"
      ]
    },
    {
      "cell_type": "markdown",
      "metadata": {
        "id": "5aWVqLUKJOWo"
      },
      "source": [
        "# Team_2 BIOF309  Spring Term 2022 - Session A\n",
        "- **Focus:**\n",
        "- **Authors:** ['Yonghe Ma', 'Rafael Villasmil', 'Chris Raddatz', 'Sarah Stemann']\n",
        "- **Date Notebook Last Modified:** 03.16.2022\n",
        "- **Quick Description:**"
      ]
    },
    {
      "cell_type": "code",
      "source": [
        "# load packages\n",
        "import pandas as pd\n",
        "import seaborn as sns\n",
        "import matplotlib as plt\n",
        "import numpy as np\n",
        "import scipy.stats\n",
        "import statsmodels.stats.weightstats as sms\n",
        "import statsmodels.formula.api as smf\n",
        "import statsmodels.api as sm"
      ],
      "metadata": {
        "id": "QsCH9mZgN1CO",
        "colab": {
          "base_uri": "https://localhost:8080/"
        },
        "outputId": "51f6f5e1-9c9c-48e6-b984-6e3fdc2a1f04"
      },
      "execution_count": null,
      "outputs": [
        {
          "output_type": "stream",
          "name": "stderr",
          "text": [
            "/usr/local/lib/python3.7/dist-packages/statsmodels/tools/_testing.py:19: FutureWarning: pandas.util.testing is deprecated. Use the functions in the public API at pandas.testing instead.\n",
            "  import pandas.util.testing as tm\n"
          ]
        }
      ]
    },
    {
      "cell_type": "code",
      "execution_count": null,
      "metadata": {
        "colab": {
          "base_uri": "https://localhost:8080/"
        },
        "id": "BAYgqo8Iu_MN",
        "outputId": "956521b7-62d1-49c1-f8da-ed8ce70f2966"
      },
      "outputs": [
        {
          "output_type": "execute_result",
          "data": {
            "text/plain": [
              "(615, 75)"
            ]
          },
          "metadata": {},
          "execution_count": 2
        }
      ],
      "source": [
        "# load Scooby-Doo Complete - Episode List data as SDdata \n",
        "# Data avaialable at https://www.kaggle.com/williamschooleman/scoobydoo-complete\n",
        "\n",
        "SDdata = pd.read_csv('Scooby_Doo_Episode_Data.csv')\n",
        "\n",
        "SDdata.shape"
      ]
    },
    {
      "cell_type": "markdown",
      "source": [
        "## Script 1: Utilize functions for applications in research\n",
        "### Dataset exploration and characterization\n",
        "- Use Numpy to better understand the data"
      ],
      "metadata": {
        "id": "FzlG2OrEPBoC"
      }
    },
    {
      "cell_type": "markdown",
      "source": [
        "## Script 2: Create data visualization plots \n",
        "### Using Pandas, Numpy, Seaborn and Matplotlib\n",
        "- Explanation of the data by placing it in a visual context"
      ],
      "metadata": {
        "id": "pWL3hGneRXZf"
      }
    },
    {
      "cell_type": "markdown",
      "source": [
        "## Script 3: Descriptive statistics analyses\n",
        "### Using statsmodels and scipy \n",
        "- hypothesis testing and regression models"
      ],
      "metadata": {
        "id": "u0uHmCim6K2Y"
      }
    },
    {
      "cell_type": "markdown",
      "source": [
        "### Script : machine learning"
      ],
      "metadata": {
        "id": "bElSTgOE7IHW"
      }
    },
    {
      "cell_type": "markdown",
      "source": [
        "### Script : "
      ],
      "metadata": {
        "id": "0Fsub-t87JKI"
      }
    },
    {
      "cell_type": "markdown",
      "source": [
        "## Script :"
      ],
      "metadata": {
        "id": "cP8yCeTU7Ivb"
      }
    }
  ],
  "metadata": {
    "colab": {
      "collapsed_sections": [],
      "name": "Team_2 BIOF309.ipynb",
      "provenance": [],
      "include_colab_link": true
    },
    "kernelspec": {
      "display_name": "Python 3",
      "name": "python3"
    },
    "language_info": {
      "name": "python"
    }
  },
  "nbformat": 4,
  "nbformat_minor": 0
}