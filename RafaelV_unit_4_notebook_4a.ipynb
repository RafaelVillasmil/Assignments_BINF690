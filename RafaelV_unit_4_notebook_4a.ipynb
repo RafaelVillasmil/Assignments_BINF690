{
  "nbformat": 4,
  "nbformat_minor": 0,
  "metadata": {
    "colab": {
      "name": "RafaelV_unit_4_notebook_4a.ipynb",
      "provenance": [],
      "collapsed_sections": [],
      "toc_visible": true,
      "include_colab_link": true
    },
    "kernelspec": {
      "name": "python3",
      "display_name": "Python 3"
    }
  },
  "cells": [
    {
      "cell_type": "markdown",
      "metadata": {
        "id": "view-in-github",
        "colab_type": "text"
      },
      "source": [
        "<a href=\"https://colab.research.google.com/github/RafaelVillasmil/BIOF309_Introduction_to_Python/blob/main/RafaelV_unit_4_notebook_4a.ipynb\" target=\"_parent\"><img src=\"https://colab.research.google.com/assets/colab-badge.svg\" alt=\"Open In Colab\"/></a>"
      ]
    },
    {
      "cell_type": "markdown",
      "metadata": {
        "id": "lwuTCUVlJeY6"
      },
      "source": [
        "# Unit 4 - Instructional DEMO 4a: Functions\n",
        " - **Focus:** Functions. \n",
        " - **Author(s):** Sara B-C.\n",
        " - **Date Notebook Last Modified:** 08.16.2020\n",
        " - **Quick Description:** Use this notebook to learn about general functions and to a lesser extent learn specifically about lambdas. In the beginning, just hit play at each cell and watch how things work. Once you are done, you can download the finished results. **There are some exercises to complete at the end!**\n",
        "\n",
        "---\n",
        "## Code outline\n",
        "  0. Set up file stream (yep, this is in every notebook).\n",
        "  1. Define a function.\n",
        "  2. Document a function.\n",
        "  3. Call a function.   \n",
        "  4. Loop a function.\n",
        "  5. Lambdas.\n",
        "\n",
        "---\n",
        "## Additional notes\n",
        "*   Functions are the building blocks of quality data analysis and software development.\n",
        "*   Always make an effort to document your functions well! ``help` will be useful in larger projects outside the scope of this course. We will concentrate now on just including docstrings as a best practice.\n",
        "*   A lambda is like a \"short hand\" function. Less used but can save time as it is quite fast."
      ]
    },
    {
      "cell_type": "markdown",
      "metadata": {
        "id": "XuUnubnFH9xZ"
      },
      "source": [
        "## 0. Lets set up filestream access\n",
        "Follow the directions on screen as you run the code cell below and then you can access the data stored on your 'My Drive'. For many of you, this is the first python code you will ever execute knowingly, as most google infrastructure is python based (another reason why the language is growing)... You did this before, let's go!"
      ]
    },
    {
      "cell_type": "code",
      "metadata": {
        "id": "D2qRSmw3GUNA"
      },
      "source": [
        "import os\n",
        "from google.colab import drive\n",
        "drive.mount('/content/drive/')\n",
        "os.chdir(\"/content/drive/My Drive/FAES_BIOF309/\")"
      ],
      "execution_count": null,
      "outputs": []
    },
    {
      "cell_type": "markdown",
      "metadata": {
        "id": "mITVzECaO2j6"
      },
      "source": [
        "Above you should now see the output \"Mounted at /content/drive/\". This means your storage is now connected to your notebook and its runtime. A runtime is the computer it will use to execute code and other computations. We'll cover what the above code means once you have learned some more python."
      ]
    },
    {
      "cell_type": "markdown",
      "metadata": {
        "id": "GD8TX9ZoUxd5"
      },
      "source": [
        "## 1. Define a function.\n",
        "Let's make a simple function that calculates the cost of a genotyping experiment at a local university. To do so, you should consider: N samples (an integer), a cost per sample (float) and an overhead cost (a value 0-1 representing a percent).\n"
      ]
    },
    {
      "cell_type": "code",
      "metadata": {
        "id": "RHliNCrvVAkc"
      },
      "source": [
        "def exp_cost(N, dollars, overhead):\n",
        "  overhead_prop = 1+overhead\n",
        "  cost_estimated = N*dollars*overhead_prop\n",
        "  return cost_estimated # Lets the output be an object you can pipe into further functions"
      ],
      "execution_count": 5,
      "outputs": []
    },
    {
      "cell_type": "markdown",
      "metadata": {
        "id": "cIO-6lW3aMhn"
      },
      "source": [
        "## 2. Document a function.\n",
        "If no one knows how to use your function, then what is the use of writing one? Remember when you learned docstrings and dots earlier?\n",
        "\n"
      ]
    },
    {
      "cell_type": "code",
      "metadata": {
        "id": "jnT8f_uefYCK"
      },
      "source": [
        "def exp_cost(N, dollars, overhead):\n",
        "  '''a simple function that calculates the cost of a genotyping experiment at a local university. \n",
        "  Things to consider are N samples (an integer), \n",
        "  a cost per sample (float) and \n",
        "  an overhead cost (a value 0-1 representing a percent).\n",
        "  '''\n",
        "  overhead_prop = 1+overhead\n",
        "  cost_estimated = N*dollars*overhead_prop\n",
        "  return cost_estimated"
      ],
      "execution_count": 8,
      "outputs": []
    },
    {
      "cell_type": "code",
      "metadata": {
        "id": "TtqXXy7Uck7Y"
      },
      "source": [
        "print(exp_cost.__doc__)"
      ],
      "execution_count": null,
      "outputs": []
    },
    {
      "cell_type": "markdown",
      "metadata": {
        "id": "POhPV15zi9ZO"
      },
      "source": [
        "## 3. Call a function.\n",
        "Positional or explicit argument calls can work the same.\n"
      ]
    },
    {
      "cell_type": "code",
      "metadata": {
        "id": "hBEtaFOZbEi_",
        "colab": {
          "base_uri": "https://localhost:8080/"
        },
        "outputId": "a9e8e319-334d-4d7f-c722-32c3a295f903"
      },
      "source": [
        "exp_cost(20, 100, 0.3)"
      ],
      "execution_count": 9,
      "outputs": [
        {
          "output_type": "execute_result",
          "data": {
            "text/plain": [
              "2600.0"
            ]
          },
          "metadata": {},
          "execution_count": 9
        }
      ]
    },
    {
      "cell_type": "code",
      "metadata": {
        "id": "hZOhV1Mdb_aR",
        "colab": {
          "base_uri": "https://localhost:8080/"
        },
        "outputId": "68b7f027-554c-473e-f3c1-a00f4f563d32"
      },
      "source": [
        "exp_cost(N=20, overhead=0.3, dollars=100)"
      ],
      "execution_count": 10,
      "outputs": [
        {
          "output_type": "execute_result",
          "data": {
            "text/plain": [
              "2600.0"
            ]
          },
          "metadata": {},
          "execution_count": 10
        }
      ]
    },
    {
      "cell_type": "markdown",
      "metadata": {
        "id": "JCZ1RMiWkW_3"
      },
      "source": [
        "## 4. Loop a function.\n"
      ]
    },
    {
      "cell_type": "code",
      "metadata": {
        "id": "mwGA2Gbekj-D",
        "colab": {
          "base_uri": "https://localhost:8080/"
        },
        "outputId": "4ef998e9-20be-4613-dada-0832a53bd137"
      },
      "source": [
        "# A function in a loop with a text output\n",
        "for i in range(1,21):\n",
        "  print(exp_cost(N=i, overhead=0.3, dollars=100))"
      ],
      "execution_count": 13,
      "outputs": [
        {
          "output_type": "stream",
          "name": "stdout",
          "text": [
            "130.0\n",
            "260.0\n",
            "390.0\n",
            "520.0\n",
            "650.0\n",
            "780.0\n",
            "910.0\n",
            "1040.0\n",
            "1170.0\n",
            "1300.0\n",
            "1430.0\n",
            "1560.0\n",
            "1690.0\n",
            "1820.0\n",
            "1950.0\n",
            "2080.0\n",
            "2210.0\n",
            "2340.0\n",
            "2470.0\n",
            "2600.0\n"
          ]
        }
      ]
    },
    {
      "cell_type": "code",
      "metadata": {
        "id": "JMKSW_F3jVOi",
        "colab": {
          "base_uri": "https://localhost:8080/"
        },
        "outputId": "cfb2d833-b70b-43d2-9687-f51fe0765675"
      },
      "source": [
        "# A function in a loop with a list object for the output, in the object creatively called \"out\"\n",
        "out = []\n",
        "for i in range(1,21):\n",
        "  out.append(exp_cost(N=i, overhead=0.3, dollars=100))\n",
        "\n",
        "print(out)"
      ],
      "execution_count": 16,
      "outputs": [
        {
          "output_type": "stream",
          "name": "stdout",
          "text": [
            "[130.0, 260.0, 390.0, 520.0, 650.0, 780.0, 910.0, 1040.0, 1170.0, 1300.0, 1430.0, 1560.0, 1690.0, 1820.0, 1950.0, 2080.0, 2210.0, 2340.0, 2470.0, 2600.0]\n"
          ]
        }
      ]
    },
    {
      "cell_type": "markdown",
      "metadata": {
        "id": "dk_AdyrqnhO8"
      },
      "source": [
        "## 5. Lambdas. \n",
        "Lambas are short functions that can run very basic processes efficiently."
      ]
    },
    {
      "cell_type": "code",
      "metadata": {
        "id": "LDXWIAylnvJz"
      },
      "source": [
        "exp_cost_lambda = lambda N, overhead, dollars: N*(1+overhead)*dollars"
      ],
      "execution_count": 45,
      "outputs": []
    },
    {
      "cell_type": "code",
      "metadata": {
        "id": "ryQWJJ1phwhJ"
      },
      "source": [
        "exp_cost_lambda(20, 0.3, 100)"
      ],
      "execution_count": null,
      "outputs": []
    },
    {
      "cell_type": "markdown",
      "metadata": {
        "id": "p_oU-yokpSTX"
      },
      "source": [
        "**Makes sense, now on to some exercises ...**"
      ]
    },
    {
      "cell_type": "markdown",
      "metadata": {
        "id": "GvJ8ZwG7pn0K"
      },
      "source": [
        "# Unit 4 - Assignment #4a\n",
        "***Come here to prove your knowledge.***\n",
        "\n",
        "Text cells will indicate a task.  \n",
        "Write your commands in the empty code cells below them."
      ]
    },
    {
      "cell_type": "markdown",
      "metadata": {
        "id": "wxbBn9dRqUzJ"
      },
      "source": [
        "## 1. Define a simple function with a docstring showing you how to use it."
      ]
    },
    {
      "cell_type": "code",
      "metadata": {
        "id": "ELzciBM8qVKJ"
      },
      "source": [
        "def fahrenheit_to_celsius(fahrenheit,significant):\n",
        "  celsius = (fahrenheit - 32) * 5/9\n",
        "  celsius = round(celsius, significant)\n",
        "  return celsius # the output temperature in degress celsius"
      ],
      "execution_count": 36,
      "outputs": []
    },
    {
      "cell_type": "markdown",
      "metadata": {
        "id": "2aYrQJ3sqeyY"
      },
      "source": [
        "## 2. Print the docstring from the function."
      ]
    },
    {
      "cell_type": "code",
      "metadata": {
        "id": "9IqnLYX9q1_f"
      },
      "source": [
        "def fahrenheit_to_celsius(fahrenheit,significant):\n",
        "  '''a simple function that calculates the temperature in celcius degrees from \n",
        "  a temperature in fahrenheir rounded to the significant number of decimals\n",
        "  '''\n",
        "  celsius = (fahrenheit - 32) * 5/9\n",
        "  celsius = round(celsius, 2)\n",
        "  return celsius # the output temperature in degress celsius"
      ],
      "execution_count": 37,
      "outputs": []
    },
    {
      "cell_type": "markdown",
      "metadata": {
        "id": "8jmiJDlcq2wa"
      },
      "source": [
        "## 3. Run your function."
      ]
    },
    {
      "cell_type": "code",
      "metadata": {
        "id": "FOBJ2pQdrJu-",
        "colab": {
          "base_uri": "https://localhost:8080/"
        },
        "outputId": "fffb5b29-a94c-411d-c705-5f29ee1147f0"
      },
      "source": [
        "temp = 68\n",
        "print(\"Current temperature is\", temp, \"degrees Fahrenheit\")\n",
        "print(\"Current temperature is\", fahrenheit_to_celsius(temp,2), \n",
        "      \"degrees Celsius\")"
      ],
      "execution_count": 50,
      "outputs": [
        {
          "output_type": "stream",
          "name": "stdout",
          "text": [
            "Current temperature is 68 degrees Fahrenheit\n",
            "Current temperature is 20.0 degrees Celsius\n"
          ]
        }
      ]
    },
    {
      "cell_type": "markdown",
      "metadata": {
        "id": "Z1Ma26-wrLhL"
      },
      "source": [
        "## 4. Loop through one of the arguments in your function."
      ]
    },
    {
      "cell_type": "code",
      "metadata": {
        "id": "rNgJSh9PsAp0",
        "colab": {
          "base_uri": "https://localhost:8080/"
        },
        "outputId": "6ddffb4f-19d3-4a74-c531-4c95fb860f04"
      },
      "source": [
        "for temp in range(66, 78):\n",
        "  if (temp < 68) or (temp > 76):\n",
        "    print(\"WARNING\")\n",
        "  print(\"Current temperature is\", fahrenheit_to_celsius(temp,2), \n",
        "        \"degrees Celsius\")"
      ],
      "execution_count": 51,
      "outputs": [
        {
          "output_type": "stream",
          "name": "stdout",
          "text": [
            "WARNING\n",
            "Current temperature is 18.89 degrees Celsius\n",
            "WARNING\n",
            "Current temperature is 19.44 degrees Celsius\n",
            "Current temperature is 20.0 degrees Celsius\n",
            "Current temperature is 20.56 degrees Celsius\n",
            "Current temperature is 21.11 degrees Celsius\n",
            "Current temperature is 21.67 degrees Celsius\n",
            "Current temperature is 22.22 degrees Celsius\n",
            "Current temperature is 22.78 degrees Celsius\n",
            "Current temperature is 23.33 degrees Celsius\n",
            "Current temperature is 23.89 degrees Celsius\n",
            "Current temperature is 24.44 degrees Celsius\n",
            "WARNING\n",
            "Current temperature is 25.0 degrees Celsius\n"
          ]
        }
      ]
    },
    {
      "cell_type": "markdown",
      "metadata": {
        "id": "HK1bZqF5sBSC"
      },
      "source": [
        "## 5. Make a `lambda` function."
      ]
    },
    {
      "cell_type": "code",
      "metadata": {
        "id": "r8u8qObJsoc1",
        "colab": {
          "base_uri": "https://localhost:8080/"
        },
        "outputId": "60ed7eb0-a906-4006-8f13-e475143fb903"
      },
      "source": [
        "celsius_to_kelvin_lambda = lambda celsius: celsius + 273.15\n",
        "\n",
        "temp = 23\n",
        "print(\"Current temperature is\", temp, \"degrees Celsius\")\n",
        "print(\"Current temperature is\", celsius_to_kelvin_lambda(temp), \n",
        "      \"degrees Kelvin\")"
      ],
      "execution_count": 52,
      "outputs": [
        {
          "output_type": "stream",
          "name": "stdout",
          "text": [
            "Current temperature is 23 degrees Celsius\n",
            "Current temperature is 296.15 degrees Kelvin\n"
          ]
        }
      ]
    },
    {
      "cell_type": "markdown",
      "metadata": {
        "id": "IXN9yr_LtSYT"
      },
      "source": [
        "# Thanks, see you in the next unit!"
      ]
    }
  ]
}