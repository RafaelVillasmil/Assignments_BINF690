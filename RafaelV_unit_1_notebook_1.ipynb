{
  "nbformat": 4,
  "nbformat_minor": 0,
  "metadata": {
    "colab": {
      "name": "RafaelV_unit_1_notebook_1.ipynb",
      "provenance": [],
      "collapsed_sections": [],
      "include_colab_link": true
    },
    "kernelspec": {
      "name": "python3",
      "display_name": "Python 3"
    }
  },
  "cells": [
    {
      "cell_type": "markdown",
      "metadata": {
        "id": "view-in-github",
        "colab_type": "text"
      },
      "source": [
        "<a href=\"https://colab.research.google.com/github/RafaelVillasmil/Assignments_BINF690/blob/main/RafaelV_unit_1_notebook_1.ipynb\" target=\"_parent\"><img src=\"https://colab.research.google.com/assets/colab-badge.svg\" alt=\"Open In Colab\"/></a>"
      ]
    },
    {
      "cell_type": "markdown",
      "metadata": {
        "id": "lwuTCUVlJeY6"
      },
      "source": [
        "# Unit 1 - Instructional DEMO 1: Basic linux commands in a python environment\n",
        " - **Focus:** Basic linux commands, a bash script and some basic python syntax examples. \n",
        " - **Author(s):** Sara B-C.\n",
        " - **Date Notebook Last Modified:** 08.09.2020\n",
        " - **Quick Description:** Use this notebook for your first adventure in programming. In the beginning, just hit play at each cell and watch things work. Once you are done, you can download the finished results. \n",
        "\n",
        "---\n",
        "## Code outline\n",
        "  0. Set up file stream.\n",
        "  1. \"Hello world, welcome to linux\".\n",
        "  2. Move, copy and delete files.   \n",
        "  3. Check out the first few lines and the last few lines of a file. \n",
        "  4. \"I'd like to see a specific column of the file\".\n",
        "  5. Can we smash two files together and count some lines?\n",
        "  6. Filtering rows with `grep`.\n",
        "  7. Sort it out.\n",
        "\n",
        "---\n",
        "## Additional notes\n",
        "*   In notebooks, basic linux commands begin with a '! '.\n",
        "*   The only thing that is really tricky so far will be starting google file stream to access other files on your drive."
      ]
    },
    {
      "cell_type": "markdown",
      "metadata": {
        "id": "XuUnubnFH9xZ"
      },
      "source": [
        "## 0. Lets set up filestream access\n",
        "Follow the directions on screen as you run the code cell below and then you can access the data stored on your 'My Drive'. For many of you, this is the first python code you will ever execute knowingly, as most google infrastructure is python based (another reason why the language is growing)!"
      ]
    },
    {
      "cell_type": "code",
      "metadata": {
        "id": "D2qRSmw3GUNA",
        "colab": {
          "base_uri": "https://localhost:8080/"
        },
        "outputId": "b2ec1d09-00d5-4396-da5a-79d5c5333c2c"
      },
      "source": [
        "import os\n",
        "from google.colab import drive\n",
        "drive.mount('/content/drive/')\n",
        "os.chdir(\"/content/drive/My Drive/BINF309_Introduction_to_Python/example_data/\")"
      ],
      "execution_count": null,
      "outputs": [
        {
          "output_type": "stream",
          "name": "stdout",
          "text": [
            "Drive already mounted at /content/drive/; to attempt to forcibly remount, call drive.mount(\"/content/drive/\", force_remount=True).\n"
          ]
        }
      ]
    },
    {
      "cell_type": "markdown",
      "metadata": {
        "id": "mITVzECaO2j6"
      },
      "source": [
        "Above you should now see the output \"Mounted at /content/drive/\". This means your storage is now connected to your notebook and its runtime. We'll cover what the above code means once you have learned some more python."
      ]
    },
    {
      "cell_type": "markdown",
      "metadata": {
        "id": "K9dJkfNVPHs1"
      },
      "source": [
        "## Exploring directories\n",
        "\n",
        "Here we'll explore some directories you have just mounted.  \n",
        "\n",
        "Remember, all linux shell code needs a `! ` prefix to run in notebooks.  Also remember that a `#` at the beginning of a line of code denotes a comment.\n",
        "\n",
        "`pwd` tells you the directory you are currently working in.  \n",
        "\n",
        "`ls` lets you know what files exist, **lets play around with that for a second**."
      ]
    },
    {
      "cell_type": "code",
      "metadata": {
        "id": "eypHyScrO24J",
        "outputId": "80db5d8c-efd2-43e0-cdad-e9701286eef3",
        "colab": {
          "base_uri": "https://localhost:8080/"
        }
      },
      "source": [
        "# What directory are you in?\n",
        "! pwd\n",
        "\n",
        "# What files are there?\n",
        "! ls\n",
        "\n",
        "# Check out some of the example data and see a list of how big it is, its permissions, who made it and when it was last modified. Also note the \\ preceding the space.\n",
        "! ls -lsth /content/drive/My\\ Drive/BINF309_Introduction_to_Python/example_data"
      ],
      "execution_count": null,
      "outputs": [
        {
          "output_type": "stream",
          "name": "stdout",
          "text": [
            "/content/drive/My Drive/BINF309_Introduction_to_Python/example_data\n",
            "awk_validation_pheno.csv  column1_sed.txt\t    Examples.ipynb\n",
            "column1_cat.txt\t\t  column2_awk.txt\t    paste.bim\n",
            "column1_cut.txt\t\t  column2_cut.txt\t    paste.bin\n",
            "column1_paste.bim\t  continuous\t\t    temp_database.h5\n",
            "column1_paste.bin\t  cut_validation_pheno.csv\n",
            "column1_paste.txt\t  discrete\n",
            "total 1.1M\n",
            "   0 -rw------- 1 root root    0 Feb  6 21:42 paste.bim\n",
            "   0 -rw------- 1 root root    0 Feb  6 21:39 paste.bin\n",
            "1.0K -rw------- 1 root root 1003 Feb  4 20:11 column2_awk.txt\n",
            "1.0K -rw------- 1 root root 1003 Feb  4 20:11 column2_cut.txt\n",
            "   0 -rw------- 1 root root    0 Feb  4 19:58 column1_paste.bim\n",
            "   0 -rw------- 1 root root    0 Feb  4 04:11 cut_validation_pheno.csv\n",
            " 512 -rw------- 1 root root  164 Feb  4 04:06 awk_validation_pheno.csv\n",
            "5.5K -rw------- 1 root root 5.3K Feb  4 03:30 column1_sed.txt\n",
            "3.5K -rw------- 1 root root 3.4K Feb  4 03:27 column1_cut.txt\n",
            "9.0K -rw------- 1 root root 8.6K Feb  4 02:28 column1_paste.txt\n",
            "   0 -rw------- 1 root root    0 Feb  1 21:44 column1_paste.bin\n",
            "9.0K -rw------- 1 root root 8.6K Feb  1 20:59 column1_cat.txt\n",
            "4.0K drwx------ 2 root root 4.0K Feb  1 02:13 continuous\n",
            "4.0K drwx------ 2 root root 4.0K Feb  1 02:13 discrete\n",
            " 19K -rw------- 1 root root  19K Feb  1 01:57 Examples.ipynb\n",
            "1.1M -rw------- 1 root root 1.1M Feb  1 01:55 temp_database.h5\n"
          ]
        }
      ]
    },
    {
      "cell_type": "markdown",
      "metadata": {
        "id": "GD8TX9ZoUxd5"
      },
      "source": [
        "## 1. \"Hello world!\" the first time you and your computer chat.\n",
        "We'll make a simple print to screen command using `echo`. Note, you'll see your first error below!"
      ]
    },
    {
      "cell_type": "code",
      "metadata": {
        "id": "RHliNCrvVAkc",
        "outputId": "649caa47-8e5a-49bc-95fd-e2fa72c6ba6f",
        "colab": {
          "base_uri": "https://localhost:8080/",
          "height": 130
        }
      },
      "source": [
        "# If you just type `Hello world` the computer will think you are trying to run a command called `Hello` that has the `world!` option specificed.\n",
        "Hello world!"
      ],
      "execution_count": null,
      "outputs": [
        {
          "output_type": "error",
          "ename": "SyntaxError",
          "evalue": "ignored",
          "traceback": [
            "\u001b[0;36m  File \u001b[0;32m\"<ipython-input-10-6f2f02e8e608>\"\u001b[0;36m, line \u001b[0;32m2\u001b[0m\n\u001b[0;31m    Hello world!\u001b[0m\n\u001b[0m              ^\u001b[0m\n\u001b[0;31mSyntaxError\u001b[0m\u001b[0;31m:\u001b[0m invalid syntax\n"
          ]
        }
      ]
    },
    {
      "cell_type": "code",
      "metadata": {
        "id": "6GPSrjHIVSpu",
        "outputId": "4c108b39-bd23-4b7c-f4b5-12714d32e4c2",
        "colab": {
          "base_uri": "https://localhost:8080/"
        }
      },
      "source": [
        "# Let's do this right and print it to the screen.\n",
        "! echo \"Hello world!\""
      ],
      "execution_count": null,
      "outputs": [
        {
          "output_type": "stream",
          "name": "stdout",
          "text": [
            "Hello world!\n"
          ]
        }
      ]
    },
    {
      "cell_type": "markdown",
      "metadata": {
        "id": "cIO-6lW3aMhn"
      },
      "source": [
        "## 2. Copy, move, rename and delete files.\n",
        "Lets talk about some file management. We'll also play with directory structures."
      ]
    },
    {
      "cell_type": "markdown",
      "metadata": {
        "id": "toxNFX4nfNMY"
      },
      "source": [
        "Lets make directory to play with using `mkdir`."
      ]
    },
    {
      "cell_type": "code",
      "metadata": {
        "id": "jnT8f_uefYCK"
      },
      "source": [
        "! mkdir /content/drive/My\\ Drive/BINF309_Introduction_to_Python/example_data/temp/"
      ],
      "execution_count": null,
      "outputs": []
    },
    {
      "cell_type": "markdown",
      "metadata": {
        "id": "KhV66J5rhMal"
      },
      "source": [
        "Lets go to the `temp` folder"
      ]
    },
    {
      "cell_type": "code",
      "metadata": {
        "id": "bIWdSUhShIeg"
      },
      "source": [
        "! cd temp"
      ],
      "execution_count": null,
      "outputs": []
    },
    {
      "cell_type": "markdown",
      "metadata": {
        "id": "qIykUdjQhuTT"
      },
      "source": [
        "Lets leave the directory"
      ]
    },
    {
      "cell_type": "code",
      "metadata": {
        "id": "ZZ-wpEVYhs2j"
      },
      "source": [
        "! cd .."
      ],
      "execution_count": null,
      "outputs": []
    },
    {
      "cell_type": "markdown",
      "metadata": {
        "id": "kpO-MmYwgOGL"
      },
      "source": [
        "Make a copy in the new directory with `cp`."
      ]
    },
    {
      "cell_type": "code",
      "metadata": {
        "id": "taUOnaYZdLEu"
      },
      "source": [
        "! cp /content/drive/My\\ Drive/BINF309_Introduction_to_Python/example_data/discrete/example_GWAS.csv /content/drive/My\\ Drive/BINF309_Introduction_to_Python/example_data/temp/"
      ],
      "execution_count": null,
      "outputs": []
    },
    {
      "cell_type": "markdown",
      "metadata": {
        "id": "h4vtlEpGgT2D"
      },
      "source": [
        "Rename the file using `mv`, also note that you can move files using mv... just leave off the file name for the last half of the options. The second line of code conforms the name is now 'GWAS.csv'."
      ]
    },
    {
      "cell_type": "code",
      "metadata": {
        "id": "ofxWjyAxgNqy",
        "outputId": "2fa27a50-ff09-4017-e1a6-a0380b240d3f",
        "colab": {
          "base_uri": "https://localhost:8080/"
        }
      },
      "source": [
        "! mv /content/drive/My\\ Drive/BINF309_Introduction_to_Python/example_data/temp/example_GWAS.csv /content/drive/My\\ Drive/BINF309_Introduction_to_Python/example_data/temp//GWAS.csv \n",
        "! ls /content/drive/My\\ Drive/BINF309_Introduction_to_Python/example_data/temp/"
      ],
      "execution_count": null,
      "outputs": [
        {
          "output_type": "stream",
          "name": "stdout",
          "text": [
            "GWAS.csv\n"
          ]
        }
      ]
    },
    {
      "cell_type": "markdown",
      "metadata": {
        "id": "r3xtk1cWhkNh"
      },
      "source": [
        "Wait, I don't like that file that we just renamed, lets delete it with `rm`! Then check if it is there again with `ls`."
      ]
    },
    {
      "cell_type": "code",
      "metadata": {
        "id": "Lgwxf24Chq-L",
        "colab": {
          "base_uri": "https://localhost:8080/"
        },
        "outputId": "9155c0b2-42f3-4806-c187-e0fff6ce6e35"
      },
      "source": [
        "! rm /content/drive/My\\ Drive/FAES_BIOF309/temp/GWAS.csv \n",
        "! ls /content/drive/My\\ Drive/FAES_BIOF309/temp/"
      ],
      "execution_count": null,
      "outputs": [
        {
          "output_type": "stream",
          "name": "stdout",
          "text": [
            "rm: cannot remove '/content/drive/My Drive/FAES_BIOF309/temp/GWAS.csv': No such file or directory\n",
            "ls: cannot access '/content/drive/My Drive/FAES_BIOF309/temp/': No such file or directory\n"
          ]
        }
      ]
    },
    {
      "cell_type": "markdown",
      "metadata": {
        "id": "00rRPf9qh4Wm"
      },
      "source": [
        "Okay, lets get rid of the entire directory using `rm -r`. THIS IS THE MOST DANGEROUS COMMAND!"
      ]
    },
    {
      "cell_type": "code",
      "metadata": {
        "id": "n2wuUHNMiBTg"
      },
      "source": [
        "  ! rm -r /content/drive/My\\ Drive/BINF309_Introduction_to_Python/example_data/temp/"
      ],
      "execution_count": null,
      "outputs": []
    },
    {
      "cell_type": "markdown",
      "metadata": {
        "id": "m1oPBncgiIBJ"
      },
      "source": [
        "Is the directory still there? If everything worked, the `ls` below should be empty."
      ]
    },
    {
      "cell_type": "code",
      "metadata": {
        "id": "LSla9e1viPho",
        "outputId": "c95294ed-d16d-46bd-bdab-656be8979f93",
        "colab": {
          "base_uri": "https://localhost:8080/"
        }
      },
      "source": [
        "! ls /content/drive/My\\ Drive/BINF309_Introduction_to_Python/"
      ],
      "execution_count": null,
      "outputs": [
        {
          "output_type": "stream",
          "name": "stdout",
          "text": [
            " example_data  'Welcome to BIOF 309.gdoc'\n"
          ]
        }
      ]
    },
    {
      "cell_type": "markdown",
      "metadata": {
        "id": "OGvuB-s1IL-P"
      },
      "source": [
        "What if we just want to list files with a certain extension like `*.bim`?"
      ]
    },
    {
      "cell_type": "code",
      "metadata": {
        "id": "7narwx2_IR9v",
        "outputId": "cd5859b7-bc9c-4472-83f0-0c0e8f01df9f",
        "colab": {
          "base_uri": "https://localhost:8080/"
        }
      },
      "source": [
        "! ls /content/drive/My\\ Drive/BINF309_Introduction_to_Python/example_data/discrete/*.bim"
      ],
      "execution_count": null,
      "outputs": [
        {
          "output_type": "stream",
          "name": "stdout",
          "text": [
            "'/content/drive/My Drive/BINF309_Introduction_to_Python/example_data/discrete/training.bim'\n",
            "'/content/drive/My Drive/BINF309_Introduction_to_Python/example_data/discrete/training_validation_paste.bim'\n",
            "'/content/drive/My Drive/BINF309_Introduction_to_Python/example_data/discrete/validation.bim'\n"
          ]
        }
      ]
    },
    {
      "cell_type": "markdown",
      "metadata": {
        "id": "POhPV15zi9ZO"
      },
      "source": [
        "## 3. Check out the first few lines and the last few lines of a file.\n",
        "This is probably one of the most common things you will do before more detailed data explorations. Easy way to see what is in a huge file without opening it... or to see what is at the end!"
      ]
    },
    {
      "cell_type": "markdown",
      "metadata": {
        "id": "GT1XNFArjM1q"
      },
      "source": [
        "Lets look at the top of the GWAS file from earlier using `head`. This command does the top few lines. It's partner `tail` does the last few lines."
      ]
    },
    {
      "cell_type": "code",
      "metadata": {
        "id": "S87iYItTjMeS",
        "outputId": "218a3351-9887-4b59-e8e3-c9eee576fc8d",
        "colab": {
          "base_uri": "https://localhost:8080/"
        }
      },
      "source": [
        "! head /content/drive/My\\ Drive/BINF309_Introduction_to_Python/example_data/discrete/example_GWAS.csv"
      ],
      "execution_count": null,
      "outputs": [
        {
          "output_type": "stream",
          "name": "stdout",
          "text": [
            "﻿SNP,A1,A2,freq,b,se,p,N\n",
            "snp1,A,G,0.85,-0.08,0.013,1.05E-09,100000\n",
            "snp2,A,G,0.22,0.08,0.0113,1.57E-11,100000\n",
            "snp3,T,C,0.69,0.07,0.0101,3.41E-13,100000\n",
            "snp4,A,G,0.88,0.09,0.0145,2.12E-09,100000\n",
            "snp5,T,G,0.21,0.11,0.0117,6.26E-20,100000\n",
            "snp6,A,C,0.41,-0.06,0.0102,2.61E-10,100000\n",
            "snp7,T,G,0.36,0.15,0.0115,1.47E-37,100000\n",
            "snp8,A,G,0.49,0.06,0.0094,1.77E-10,100000\n",
            "snp9,T,C,0.14,0.14,0.013,1.52E-28,100000\n"
          ]
        }
      ]
    },
    {
      "cell_type": "markdown",
      "metadata": {
        "id": "FeYYqqcEj9Eu"
      },
      "source": [
        "Cool, a tab delimited file with a header, the first column is called \"SNP\"."
      ]
    },
    {
      "cell_type": "code",
      "metadata": {
        "id": "7gAigzrekD62",
        "outputId": "929b3a94-fb96-4675-dac7-a4f63fdb013e",
        "colab": {
          "base_uri": "https://localhost:8080/"
        }
      },
      "source": [
        "! tail /content/drive/My\\ Drive/BINF309_Introduction_to_Python/example_data/discrete/example_GWAS.csv"
      ],
      "execution_count": null,
      "outputs": [
        {
          "output_type": "stream",
          "name": "stdout",
          "text": [
            "snp491,A,T,0.35,-0.01,0.0103,0.4376,100000\n",
            "snp492,A,C,0.87,-0.01,0.0138,0.4936,100000\n",
            "snp493,A,G,0.4,-0.01,0.01,0.5386,100000\n",
            "snp494,A,G,0.94,0.01,0.0194,0.599,100000\n",
            "snp495,T,C,0.59,0.02,0.0095,0.1016,100000\n",
            "snp496,C,G,0.95,0.01,0.0221,0.8152,100000\n",
            "snp497,A,G,0.34,-0.01,0.0099,0.333,100000\n",
            "snp498,T,C,0.08,0,0.017,0.89,100000\n",
            "snp499,T,C,0.56,0.01,0.0096,0.139,100000\n",
            "snp500,C,G,0.89,0,0.0152,0.7627,100000\n"
          ]
        }
      ]
    },
    {
      "cell_type": "markdown",
      "metadata": {
        "id": "JCZ1RMiWkW_3"
      },
      "source": [
        "## 4. \"I'd like to see a specific column of the file\".\n",
        "Linux shell has some great tools for working with delimited text files, particularly tabular data in columns."
      ]
    },
    {
      "cell_type": "markdown",
      "metadata": {
        "id": "pYCwHGkRkk-B"
      },
      "source": [
        "Lets make a file that is only the first column of the GWAS file. `-f` means column 1 in a file delimited `-d` by a comma. Then we check the top few lines of the file to confirm it worked. This can also be done with the more complicated `awk` command, which is almost a language itself for text and tabular data manipulation."
      ]
    },
    {
      "cell_type": "code",
      "metadata": {
        "id": "mwGA2Gbekj-D",
        "outputId": "b81ded6e-1cb1-4b3c-b7fa-9c36503ed4f0",
        "colab": {
          "base_uri": "https://localhost:8080/"
        }
      },
      "source": [
        "! cut -f 1 -d ',' /content/drive/My\\ Drive/BINF309_Introduction_to_Python/example_data/discrete/example_GWAS.csv > column1_cut.txt\n",
        "! head column1_cut.txt"
      ],
      "execution_count": null,
      "outputs": [
        {
          "output_type": "stream",
          "name": "stdout",
          "text": [
            "﻿SNP\n",
            "snp1\n",
            "snp2\n",
            "snp3\n",
            "snp4\n",
            "snp5\n",
            "snp6\n",
            "snp7\n",
            "snp8\n",
            "snp9\n"
          ]
        }
      ]
    },
    {
      "cell_type": "markdown",
      "metadata": {
        "id": "eXP5dXZ3lrp9"
      },
      "source": [
        "Now why not use the mighty stream editor `sed` to change all occurances of the prefix \"snp\" to \"snipped\". Then lets use `head` to see how it worked."
      ]
    },
    {
      "cell_type": "code",
      "metadata": {
        "id": "0HsBCcfSmS88",
        "outputId": "0ecdde11-1221-4c77-fe24-223bcb73cfb3",
        "colab": {
          "base_uri": "https://localhost:8080/"
        }
      },
      "source": [
        "! sed 's/snp/snipped/g' column1_cut.txt > column1_sed.txt\n",
        "! head column1_sed.txt"
      ],
      "execution_count": null,
      "outputs": [
        {
          "output_type": "stream",
          "name": "stdout",
          "text": [
            "﻿SNP\n",
            "snipped1\n",
            "snipped2\n",
            "snipped3\n",
            "snipped4\n",
            "snipped5\n",
            "snipped6\n",
            "snipped7\n",
            "snipped8\n",
            "snipped9\n"
          ]
        }
      ]
    },
    {
      "cell_type": "markdown",
      "metadata": {
        "id": "JUpCFx0EIzqc"
      },
      "source": [
        "This can also be done with `awk`, a command which is almost a programming language in and of itself. Using the code below we can print the first and last columns of the GWAS file and convert the commas to spaces. "
      ]
    },
    {
      "cell_type": "code",
      "metadata": {
        "id": "AQsHFer_I8RV",
        "colab": {
          "base_uri": "https://localhost:8080/"
        },
        "outputId": "0e6a5526-fa4f-437d-fb34-c8bff638c24f"
      },
      "source": [
        "! awk -F ',' '{print $1\" \"$7}' /content/drive/My\\ Drive/BINF309_Introduction_to_Python/example_data/discrete/example_GWAS.csv"
      ],
      "execution_count": null,
      "outputs": [
        {
          "output_type": "stream",
          "name": "stdout",
          "text": [
            "﻿SNP p\n",
            "snp1 1.05E-09\n",
            "snp2 1.57E-11\n",
            "snp3 3.41E-13\n",
            "snp4 2.12E-09\n",
            "snp5 6.26E-20\n",
            "snp6 2.61E-10\n",
            "snp7 1.47E-37\n",
            "snp8 1.77E-10\n",
            "snp9 1.52E-28\n",
            "snp10 3.61E-148\n",
            "snp11 3.96E-08\n",
            "snp12 1.15E-08\n",
            "snp13 1.45E-09\n",
            "snp14 1.66E-16\n",
            "snp15 6.19E-11\n",
            "snp16 6.08E-18\n",
            "snp17 2.76E-11\n",
            "snp18 7.87E-10\n",
            "snp19 5.12E-20\n",
            "snp20 1.29E-12\n",
            "snp21 1.40E-09\n",
            "snp22 1.29E-11\n",
            "snp23 1.01E-08\n",
            "snp24 3.20E-09\n",
            "snp25 1.69E-08\n",
            "snp26 3.80E-23\n",
            "snp27 4.19E-09\n",
            "snp28 1.72E-70\n",
            "snp29 1.59E-22\n",
            "snp30 6.10E-12\n",
            "snp31 4.47E-09\n",
            "snp32 1.11E-29\n",
            "snp33 2.50E-22\n",
            "snp34 1.38E-15\n",
            "snp35 6.84E-17\n",
            "snp36 8.87E-09\n",
            "snp37 8.04E-13\n",
            "snp38 4.55E-14\n",
            "snp39 2.54E-39\n",
            "snp40 9.98E-12\n",
            "snp41 5.01E-10\n",
            "snp42 1.22E-34\n",
            "snp43 5.94E-13\n",
            "snp44 8.09E-12\n",
            "snp45 1.36E-10\n",
            "snp46 9.82E-13\n",
            "snp47 2.06E-28\n",
            "snp48 2.00E-10\n",
            "snp49 2.87E-10\n",
            "snp50 1.17E-09\n",
            "snp51 4.97E-19\n",
            "snp52 5.82E-21\n",
            "snp53 3.89E-154\n",
            "snp54 1.13E-36\n",
            "snp55 1.79E-21\n",
            "snp56 9.98E-70\n",
            "snp57 1.57E-09\n",
            "snp58 7.16E-09\n",
            "snp59 2.52E-23\n",
            "snp60 1.84E-09\n",
            "snp61 5.62E-12\n",
            "snp62 1.62E-08\n",
            "snp63 1.63E-10\n",
            "snp64 5.25E-26\n",
            "snp65 3.99E-16\n",
            "snp66 2.72E-15\n",
            "snp67 1.16E-08\n",
            "snp68 8.72E-18\n",
            "snp69 5.06E-17\n",
            "snp70 6.58E-09\n",
            "snp71 0.1387\n",
            "snp72 0.0005581\n",
            "snp73 0.7423\n",
            "snp74 0.08657\n",
            "snp75 0.5055\n",
            "snp76 0.2882\n",
            "snp77 0.4274\n",
            "snp78 0.8662\n",
            "snp79 0.1676\n",
            "snp80 0.06372\n",
            "snp81 0.07562\n",
            "snp82 0.8764\n",
            "snp83 0.5925\n",
            "snp84 0.6176\n",
            "snp85 0.8184\n",
            "snp86 0.03021\n",
            "snp87 0.703\n",
            "snp88 0.01485\n",
            "snp89 0.02844\n",
            "snp90 0.884\n",
            "snp91 0.589\n",
            "snp92 0.04175\n",
            "snp93 0.7019\n",
            "snp94 0.02443\n",
            "snp95 0.3576\n",
            "snp96 0.08848\n",
            "snp97 0.9621\n",
            "snp98 0.742\n",
            "snp99 0.2447\n",
            "snp100 0.9405\n",
            "snp101 0.568\n",
            "snp102 0.1764\n",
            "snp103 0.01226\n",
            "snp104 0.1763\n",
            "snp105 0.9195\n",
            "snp106 0.2025\n",
            "snp107 0.9692\n",
            "snp108 0.0001082\n",
            "snp109 3.91E-07\n",
            "snp110 0.55\n",
            "snp111 0.9031\n",
            "snp112 0.1255\n",
            "snp113 0.81\n",
            "snp114 0.375\n",
            "snp115 0.317\n",
            "snp116 0.7887\n",
            "snp117 0.8859\n",
            "snp118 0.6801\n",
            "snp119 0.662\n",
            "snp120 0.2822\n",
            "snp121 0.3166\n",
            "snp122 0.6593\n",
            "snp123 0.3909\n",
            "snp124 0.1839\n",
            "snp125 0.2478\n",
            "snp126 0.1408\n",
            "snp127 0.7418\n",
            "snp128 0.998\n",
            "snp129 0.09073\n",
            "snp130 0.2205\n",
            "snp131 0.4818\n",
            "snp132 0.6191\n",
            "snp133 0.5416\n",
            "snp134 0.4759\n",
            "snp135 0.07179\n",
            "snp136 0.7335\n",
            "snp137 0.2368\n",
            "snp138 0.2585\n",
            "snp139 0.0001598\n",
            "snp140 0.2085\n",
            "snp141 0.245\n",
            "snp142 0.07164\n",
            "snp143 0.2263\n",
            "snp144 0.8877\n",
            "snp145 0.003029\n",
            "snp146 0.4188\n",
            "snp147 0.4442\n",
            "snp148 0.01693\n",
            "snp149 0.9058\n",
            "snp150 0.555\n",
            "snp151 0.5487\n",
            "snp152 0.03981\n",
            "snp153 0.835\n",
            "snp154 0.25\n",
            "snp155 0.0002362\n",
            "snp156 0.5967\n",
            "snp157 0.9045\n",
            "snp158 0.8831\n",
            "snp159 0.0126\n",
            "snp160 0.4086\n",
            "snp161 0.4329\n",
            "snp162 0.965\n",
            "snp163 0.927\n",
            "snp164 0.2834\n",
            "snp165 0.7563\n",
            "snp166 0.912\n",
            "snp167 0.8055\n",
            "snp168 0.04984\n",
            "snp169 0.09017\n",
            "snp170 0.5987\n",
            "snp171 4.42E-10\n",
            "snp172 2.66E-11\n",
            "snp173 0.001891\n",
            "snp174 0.9039\n",
            "snp175 0.7619\n",
            "snp176 0.3637\n",
            "snp177 0.0921\n",
            "snp178 0.6981\n",
            "snp179 0.56\n",
            "snp180 0.8163\n",
            "snp181 0.08691\n",
            "snp182 0.5262\n",
            "snp183 0.1166\n",
            "snp184 0.7967\n",
            "snp185 0.06919\n",
            "snp186 0.7452\n",
            "snp187 0.9232\n",
            "snp188 0.8168\n",
            "snp189 0.2849\n",
            "snp190 0.641\n",
            "snp191 0.7509\n",
            "snp192 0.003237\n",
            "snp193 0.4615\n",
            "snp194 0.2937\n",
            "snp195 0.6637\n",
            "snp196 0.5111\n",
            "snp197 0.4651\n",
            "snp198 0.731\n",
            "snp199 0.765\n",
            "snp200 0.679\n",
            "snp201 0.2918\n",
            "snp202 0.9577\n",
            "snp203 0.7745\n",
            "snp204 0.9455\n",
            "snp205 0.2855\n",
            "snp206 0.03379\n",
            "snp207 0.7443\n",
            "snp208 0.1287\n",
            "snp209 8.70E-05\n",
            "snp210 0.8234\n",
            "snp211 0.9095\n",
            "snp212 0.05783\n",
            "snp213 0.09421\n",
            "snp214 7.71E-05\n",
            "snp215 0.2225\n",
            "snp216 5.15E-06\n",
            "snp217 0.5468\n",
            "snp218 0.8063\n",
            "snp219 0.9528\n",
            "snp220 0.6201\n",
            "snp221 0.7173\n",
            "snp222 0.412\n",
            "snp223 0.2911\n",
            "snp224 0.2781\n",
            "snp225 0.4576\n",
            "snp226 0.7938\n",
            "snp227 0.9492\n",
            "snp228 0.02801\n",
            "snp229 0.4978\n",
            "snp230 0.3525\n",
            "snp231 0.05327\n",
            "snp232 0.9709\n",
            "snp233 0.0188\n",
            "snp234 0.9005\n",
            "snp235 0.4486\n",
            "snp236 0.8859\n",
            "snp237 0.7554\n",
            "snp238 0.3727\n",
            "snp239 0.3385\n",
            "snp240 0.4462\n",
            "snp241 0.5413\n",
            "snp242 0.3101\n",
            "snp243 0.002542\n",
            "snp244 0.4257\n",
            "snp245 0.5456\n",
            "snp246 0.2716\n",
            "snp247 0.1903\n",
            "snp248 0.1975\n",
            "snp249 0.159\n",
            "snp250 0.5069\n",
            "snp251 0.3944\n",
            "snp252 0.1494\n",
            "snp253 0.4312\n",
            "snp254 0.003475\n",
            "snp255 0.5266\n",
            "snp256 0.6635\n",
            "snp257 0.4703\n",
            "snp258 0.3468\n",
            "snp259 0.06474\n",
            "snp260 0.9676\n",
            "snp261 0.5134\n",
            "snp262 0.04481\n",
            "snp263 0.7195\n",
            "snp264 0.7111\n",
            "snp265 0.483\n",
            "snp266 0.04207\n",
            "snp267 0.1561\n",
            "snp268 0.1066\n",
            "snp269 0.01294\n",
            "snp270 0.7586\n",
            "snp271 0.7733\n",
            "snp272 0.005558\n",
            "snp273 0.3964\n",
            "snp274 0.3613\n",
            "snp275 0.935\n",
            "snp276 0.08785\n",
            "snp277 0.1266\n",
            "snp278 0.772\n",
            "snp279 0.666\n",
            "snp280 0.3155\n",
            "snp281 0.2962\n",
            "snp282 0.4993\n",
            "snp283 0.4344\n",
            "snp284 0.4028\n",
            "snp285 0.4116\n",
            "snp286 0.00845\n",
            "snp287 0.08196\n",
            "snp288 0.2914\n",
            "snp289 0.01982\n",
            "snp290 0.3206\n",
            "snp291 0.9981\n",
            "snp292 0.2416\n",
            "snp293 0.192\n",
            "snp294 0.9141\n",
            "snp295 0.7947\n",
            "snp296 0.6634\n",
            "snp297 0.4219\n",
            "snp298 0.5836\n",
            "snp299 0.1185\n",
            "snp300 0.2145\n",
            "snp301 8.19E-06\n",
            "snp302 0.2058\n",
            "snp303 0.03953\n",
            "snp304 0.7934\n",
            "snp305 0.9207\n",
            "snp306 0.8254\n",
            "snp307 0.1404\n",
            "snp308 0.7978\n",
            "snp309 0.7627\n",
            "snp310 0.4359\n",
            "snp311 0.9961\n",
            "snp312 0.05685\n",
            "snp313 0.0001328\n",
            "snp314 0.001214\n",
            "snp315 6.03E-09\n",
            "snp316 0.7984\n",
            "snp317 0.552\n",
            "snp318 0.6157\n",
            "snp319 0.4489\n",
            "snp320 0.5195\n",
            "snp321 0.5455\n",
            "snp322 0.5482\n",
            "snp323 0.7783\n",
            "snp324 0.5672\n",
            "snp325 0.7242\n",
            "snp326 0.6339\n",
            "snp327 0.05725\n",
            "snp328 0.6461\n",
            "snp329 0.01546\n",
            "snp330 0.04379\n",
            "snp331 0.7492\n",
            "snp332 0.8567\n",
            "snp333 0.6727\n",
            "snp334 0.1627\n",
            "snp335 0.4308\n",
            "snp336 0.2653\n",
            "snp337 0.8545\n",
            "snp338 0.4914\n",
            "snp339 0.02966\n",
            "snp340 0.04288\n",
            "snp341 0.2781\n",
            "snp342 0.1305\n",
            "snp343 0.007906\n",
            "snp344 0.5281\n",
            "snp345 0.4857\n",
            "snp346 0.1861\n",
            "snp347 0.8577\n",
            "snp348 6.09E-05\n",
            "snp349 0.699\n",
            "snp350 0.201\n",
            "snp351 0.03459\n",
            "snp352 0.5947\n",
            "snp353 0.4806\n",
            "snp354 0.3393\n",
            "snp355 0.2741\n",
            "snp356 0.8644\n",
            "snp357 0.1981\n",
            "snp358 0.06216\n",
            "snp359 0.1647\n",
            "snp360 0.678\n",
            "snp361 0.2072\n",
            "snp362 0.2477\n",
            "snp363 0.09517\n",
            "snp364 0.2734\n",
            "snp365 0.7026\n",
            "snp366 0.04629\n",
            "snp367 0.7003\n",
            "snp368 0.939\n",
            "snp369 0.7523\n",
            "snp370 0.01985\n",
            "snp371 0.7016\n",
            "snp372 0.1333\n",
            "snp373 0.01037\n",
            "snp374 0.7744\n",
            "snp375 0.8129\n",
            "snp376 0.0001044\n",
            "snp377 0.2093\n",
            "snp378 0.7175\n",
            "snp379 0.008365\n",
            "snp380 0.1477\n",
            "snp381 0.09036\n",
            "snp382 0.7554\n",
            "snp383 0.2885\n",
            "snp384 0.5613\n",
            "snp385 0.8536\n",
            "snp386 0.1022\n",
            "snp387 0.4883\n",
            "snp388 0.7156\n",
            "snp389 0.3797\n",
            "snp390 0.2882\n",
            "snp391 0.9644\n",
            "snp392 0.1266\n",
            "snp393 0.08927\n",
            "snp394 0.3736\n",
            "snp395 0.2225\n",
            "snp396 0.7335\n",
            "snp397 0.3741\n",
            "snp398 0.5086\n",
            "snp399 0.06581\n",
            "snp400 0.1009\n",
            "snp401 0.01313\n",
            "snp402 0.2892\n",
            "snp403 0.1324\n",
            "snp404 0.2707\n",
            "snp405 0.9063\n",
            "snp406 0.0001554\n",
            "snp407 0.3607\n",
            "snp408 0.07087\n",
            "snp409 0.4406\n",
            "snp410 0.2052\n",
            "snp411 0.2954\n",
            "snp412 0.6999\n",
            "snp413 0.4831\n",
            "snp414 0.9077\n",
            "snp415 0.5391\n",
            "snp416 0.1097\n",
            "snp417 0.4649\n",
            "snp418 0.5645\n",
            "snp419 0.4791\n",
            "snp420 0.7918\n",
            "snp421 0.4781\n",
            "snp422 0.4972\n",
            "snp423 0.7116\n",
            "snp424 0.8955\n",
            "snp425 0.6445\n",
            "snp426 0.6645\n",
            "snp427 0.5664\n",
            "snp428 0.9821\n",
            "snp429 0.0118\n",
            "snp430 0.2035\n",
            "snp431 0.9187\n",
            "snp432 1.50E-05\n",
            "snp433 0.6833\n",
            "snp434 0.8836\n",
            "snp435 0.5023\n",
            "snp436 0.7049\n",
            "snp437 0.9879\n",
            "snp438 0.7862\n",
            "snp439 0.2497\n",
            "snp440 0.004413\n",
            "snp441 7.33E-09\n",
            "snp442 0.8698\n",
            "snp443 0.5146\n",
            "snp444 0.6609\n",
            "snp445 0.3329\n",
            "snp446 0.0395\n",
            "snp447 0.0565\n",
            "snp448 0.3611\n",
            "snp449 0.1139\n",
            "snp450 0.7272\n",
            "snp451 0.4111\n",
            "snp452 0.02001\n",
            "snp453 0.9888\n",
            "snp454 0.7096\n",
            "snp455 0.8147\n",
            "snp456 0.2415\n",
            "snp457 0.8473\n",
            "snp458 0.4435\n",
            "snp459 0.2587\n",
            "snp460 0.2078\n",
            "snp461 0.01886\n",
            "snp462 0.7845\n",
            "snp463 0.01467\n",
            "snp464 0.8198\n",
            "snp465 0.5869\n",
            "snp466 0.5689\n",
            "snp467 0.213\n",
            "snp468 0.7022\n",
            "snp469 0.2686\n",
            "snp470 0.4535\n",
            "snp471 0.9081\n",
            "snp472 0.0801\n",
            "snp473 0.6605\n",
            "snp474 0.0484\n",
            "snp475 0.7014\n",
            "snp476 0.9395\n",
            "snp477 0.1808\n",
            "snp478 0.4136\n",
            "snp479 0.6998\n",
            "snp480 0.39\n",
            "snp481 0.000965\n",
            "snp482 0.3593\n",
            "snp483 0.3839\n",
            "snp484 0.2859\n",
            "snp485 0.5785\n",
            "snp486 0.7631\n",
            "snp487 0.5308\n",
            "snp488 0.4761\n",
            "snp489 0.2861\n",
            "snp490 0.005128\n",
            "snp491 0.4376\n",
            "snp492 0.4936\n",
            "snp493 0.5386\n",
            "snp494 0.599\n",
            "snp495 0.1016\n",
            "snp496 0.8152\n",
            "snp497 0.333\n",
            "snp498 0.89\n",
            "snp499 0.139\n",
            "snp500 0.7627\n"
          ]
        }
      ]
    },
    {
      "cell_type": "markdown",
      "metadata": {
        "id": "dk_AdyrqnhO8"
      },
      "source": [
        "##   5. Can we smash two files together and count some lines?\n",
        "Remember we can smash files together horizontally and vertically."
      ]
    },
    {
      "cell_type": "markdown",
      "metadata": {
        "id": "W51XmCLRnpAm"
      },
      "source": [
        "We can `cat` to merge vertically."
      ]
    },
    {
      "cell_type": "code",
      "metadata": {
        "id": "LDXWIAylnvJz"
      },
      "source": [
        "! cat column1_cut.txt column1_sed.txt > column1_cat.txt"
      ],
      "execution_count": null,
      "outputs": []
    },
    {
      "cell_type": "markdown",
      "metadata": {
        "id": "DmmQT7gWoDdK"
      },
      "source": [
        "Check the `head` and `tail` to confirm success."
      ]
    },
    {
      "cell_type": "code",
      "metadata": {
        "id": "1wUl4kpNoJqJ",
        "outputId": "d1a93c76-da5a-4801-ebcb-6143b6c06c3a",
        "colab": {
          "base_uri": "https://localhost:8080/"
        }
      },
      "source": [
        "! head column1_cat.txt\n",
        "! tail column1_cat.txt"
      ],
      "execution_count": null,
      "outputs": [
        {
          "output_type": "stream",
          "name": "stdout",
          "text": [
            "﻿SNP\n",
            "snp1\n",
            "snp2\n",
            "snp3\n",
            "snp4\n",
            "snp5\n",
            "snp6\n",
            "snp7\n",
            "snp8\n",
            "snp9\n",
            "snipped491\n",
            "snipped492\n",
            "snipped493\n",
            "snipped494\n",
            "snipped495\n",
            "snipped496\n",
            "snipped497\n",
            "snipped498\n",
            "snipped499\n",
            "snipped500\n"
          ]
        }
      ]
    },
    {
      "cell_type": "markdown",
      "metadata": {
        "id": "bXjLzOMjof1N"
      },
      "source": [
        "To merge files easily along the vertical axis (y) we use `paste`."
      ]
    },
    {
      "cell_type": "code",
      "metadata": {
        "id": "FbwuIL1Uorrl"
      },
      "source": [
        "! paste column1_cut.txt column1_sed.txt > column1_paste.txt"
      ],
      "execution_count": null,
      "outputs": []
    },
    {
      "cell_type": "markdown",
      "metadata": {
        "id": "D98PFonfox2_"
      },
      "source": [
        "Check the head and tail to confirm success.\n",
        "\n"
      ]
    },
    {
      "cell_type": "code",
      "metadata": {
        "id": "6QCUlo24o0Av",
        "colab": {
          "base_uri": "https://localhost:8080/"
        },
        "outputId": "7da72175-1d87-4778-efb4-3ac027748353"
      },
      "source": [
        "! head column1_paste.txt\n",
        "! tail column1_paste.txt"
      ],
      "execution_count": null,
      "outputs": [
        {
          "output_type": "stream",
          "name": "stdout",
          "text": [
            "﻿SNP\t﻿SNP\n",
            "snp1\tsnipped1\n",
            "snp2\tsnipped2\n",
            "snp3\tsnipped3\n",
            "snp4\tsnipped4\n",
            "snp5\tsnipped5\n",
            "snp6\tsnipped6\n",
            "snp7\tsnipped7\n",
            "snp8\tsnipped8\n",
            "snp9\tsnipped9\n",
            "snp491\tsnipped491\n",
            "snp492\tsnipped492\n",
            "snp493\tsnipped493\n",
            "snp494\tsnipped494\n",
            "snp495\tsnipped495\n",
            "snp496\tsnipped496\n",
            "snp497\tsnipped497\n",
            "snp498\tsnipped498\n",
            "snp499\tsnipped499\n",
            "snp500\tsnipped500\n"
          ]
        }
      ]
    },
    {
      "cell_type": "markdown",
      "metadata": {
        "id": "saDrbNhuo_mA"
      },
      "source": [
        "How many lines are in each of these files using `wc -l`?"
      ]
    },
    {
      "cell_type": "code",
      "metadata": {
        "id": "FTpOO2H-pF-t",
        "outputId": "15bd885f-384a-4fb8-9f41-8cc4e73385bc",
        "colab": {
          "base_uri": "https://localhost:8080/"
        }
      },
      "source": [
        "! wc -l column1_paste.txt column1_cat.txt"
      ],
      "execution_count": null,
      "outputs": [
        {
          "output_type": "stream",
          "name": "stdout",
          "text": [
            "  501 column1_paste.txt\n",
            " 1002 column1_cat.txt\n",
            " 1503 total\n"
          ]
        }
      ]
    },
    {
      "cell_type": "markdown",
      "metadata": {
        "id": "k_CjE9ogKnD3"
      },
      "source": [
        "## 6. Filtering lines with `grep` (inclusion and exclusion)."
      ]
    },
    {
      "cell_type": "code",
      "metadata": {
        "id": "akMTAt0jLN2R",
        "colab": {
          "base_uri": "https://localhost:8080/"
        },
        "outputId": "8f60f062-bba3-4468-da43-243cea7a796f"
      },
      "source": [
        "# Remove any variant in the GWAS file that isn't in scientific notation by filtering out lines that do not contain \"E-\".\n",
        "! grep \"E-\" /content/drive/My\\ Drive/BINF309_Introduction_to_Python/example_data/discrete/example_GWAS.csv "
      ],
      "execution_count": null,
      "outputs": [
        {
          "output_type": "stream",
          "name": "stdout",
          "text": [
            "snp1,A,G,0.85,-0.08,0.013,1.05E-09,100000\n",
            "snp2,A,G,0.22,0.08,0.0113,1.57E-11,100000\n",
            "snp3,T,C,0.69,0.07,0.0101,3.41E-13,100000\n",
            "snp4,A,G,0.88,0.09,0.0145,2.12E-09,100000\n",
            "snp5,T,G,0.21,0.11,0.0117,6.26E-20,100000\n",
            "snp6,A,C,0.41,-0.06,0.0102,2.61E-10,100000\n",
            "snp7,T,G,0.36,0.15,0.0115,1.47E-37,100000\n",
            "snp8,A,G,0.49,0.06,0.0094,1.77E-10,100000\n",
            "snp9,T,C,0.14,0.14,0.013,1.52E-28,100000\n",
            "snp10,A,G,0,2.43,0.0937,3.61E-148,100000\n",
            "snp11,T,C,0.4,-0.05,0.0098,3.96E-08,100000\n",
            "snp12,T,C,0.74,0.06,0.0108,1.15E-08,100000\n",
            "snp13,T,C,0.23,0.07,0.0112,1.45E-09,100000\n",
            "snp14,T,C,0.32,-0.08,0.0102,1.66E-16,100000\n",
            "snp15,T,G,0.44,0.06,0.0093,6.19E-11,100000\n",
            "snp16,T,C,0.14,-0.12,0.0137,6.08E-18,100000\n",
            "snp17,A,T,0.45,0.06,0.0095,2.76E-11,100000\n",
            "snp18,C,G,0.31,-0.07,0.0106,7.87E-10,100000\n",
            "snp19,A,G,0.64,0.09,0.0099,5.12E-20,100000\n",
            "snp20,A,C,0.43,0.07,0.0094,1.29E-12,100000\n",
            "snp21,T,C,0.73,0.06,0.0106,1.40E-09,100000\n",
            "snp22,A,G,0.61,-0.07,0.0105,1.29E-11,100000\n",
            "snp23,A,C,0.65,-0.06,0.0099,1.01E-08,100000\n",
            "snp24,A,T,0.83,0.08,0.0128,3.20E-09,100000\n",
            "snp25,T,G,0.5,0.05,0.0094,1.69E-08,100000\n",
            "snp26,A,G,0.68,-0.1,0.0099,3.80E-23,100000\n",
            "snp27,C,G,0.01,0.28,0.0478,4.19E-09,100000\n",
            "snp28,A,G,0.02,0.61,0.0342,1.72E-70,100000\n",
            "snp29,T,C,1,-0.75,0.0765,1.59E-22,100000\n",
            "snp30,C,G,0.5,0.07,0.0094,6.10E-12,100000\n",
            "snp31,T,C,0.19,-0.07,0.012,4.47E-09,100000\n",
            "snp32,T,C,0.57,0.11,0.0094,1.11E-29,100000\n",
            "snp33,A,G,0.14,0.13,0.0135,2.50E-22,100000\n",
            "snp34,T,C,0.72,0.08,0.0104,1.38E-15,100000\n",
            "snp35,T,C,0.14,0.11,0.0133,6.84E-17,100000\n",
            "snp36,T,C,0.13,0.08,0.0139,8.87E-09,100000\n",
            "snp37,A,T,0.34,0.07,0.0098,8.04E-13,100000\n",
            "snp38,A,G,0.72,0.08,0.0107,4.55E-14,100000\n",
            "snp39,T,C,0.13,0.18,0.0137,2.54E-39,100000\n",
            "snp40,T,C,0.17,0.09,0.0126,9.98E-12,100000\n",
            "snp41,A,G,0.67,-0.06,0.0099,5.01E-10,100000\n",
            "snp42,T,G,0.81,0.15,0.0121,1.22E-34,100000\n",
            "snp43,A,C,0.96,-0.17,0.0235,5.94E-13,100000\n",
            "snp44,T,C,0.38,0.07,0.0096,8.09E-12,100000\n",
            "snp45,T,G,0.65,0.06,0.0099,1.36E-10,100000\n",
            "snp46,T,C,0.17,0.09,0.0123,9.82E-13,100000\n",
            "snp47,A,G,0.55,0.1,0.0094,2.06E-28,100000\n",
            "snp48,A,G,0.33,-0.06,0.01,2.00E-10,100000\n",
            "snp49,A,T,0.16,-0.08,0.0133,2.87E-10,100000\n",
            "snp50,C,G,0.69,0.06,0.0102,1.17E-09,100000\n",
            "snp51,A,G,0.71,-0.09,0.0102,4.97E-19,100000\n",
            "snp52,T,C,0.36,-0.09,0.0097,5.82E-21,100000\n",
            "snp53,A,G,0.63,-0.28,0.0105,3.89E-154,100000\n",
            "snp54,A,G,0.68,-0.16,0.0124,1.13E-36,100000\n",
            "snp55,T,C,0.1,-0.17,0.0182,1.79E-21,100000\n",
            "snp56,T,C,0.81,-0.21,0.012,9.98E-70,100000\n",
            "snp57,C,G,0.7,0.06,0.0103,1.57E-09,100000\n",
            "snp58,A,C,0.1,-0.09,0.0158,7.16E-09,100000\n",
            "snp59,A,G,0.9,-0.16,0.0156,2.52E-23,100000\n",
            "snp60,A,G,0.8,0.07,0.0119,1.84E-09,100000\n",
            "snp61,A,G,0.21,0.08,0.0121,5.62E-12,100000\n",
            "snp62,T,C,0.25,-0.06,0.0112,1.62E-08,100000\n",
            "snp63,T,C,0.28,0.07,0.0103,1.63E-10,100000\n",
            "snp64,A,C,0.59,0.1,0.0096,5.25E-26,100000\n",
            "snp65,A,C,0.74,0.09,0.0114,3.99E-16,100000\n",
            "snp66,T,G,0.27,-0.09,0.0108,2.72E-15,100000\n",
            "snp67,T,C,0.36,0.06,0.0098,1.16E-08,100000\n",
            "snp68,T,G,0.34,-0.09,0.01,8.72E-18,100000\n",
            "snp69,A,G,0.77,-0.09,0.011,5.06E-17,100000\n",
            "snp70,T,C,0.73,-0.06,0.0106,6.58E-09,100000\n",
            "snp109,T,G,0.84,-0.06,0.0127,3.91E-07,100000\n",
            "snp171,A,G,0.92,-0.1,0.0168,4.42E-10,100000\n",
            "snp172,A,T,0.87,0.1,0.0154,2.66E-11,100000\n",
            "snp209,T,C,0.55,-0.04,0.0094,8.70E-05,100000\n",
            "snp214,C,G,0.56,-0.04,0.0099,7.71E-05,100000\n",
            "snp216,T,C,0.08,0.08,0.0177,5.15E-06,100000\n",
            "snp301,T,C,0.95,-0.11,0.0243,8.19E-06,100000\n",
            "snp315,T,C,0.9,0.09,0.016,6.03E-09,100000\n",
            "snp348,T,C,0.07,0.08,0.02,6.09E-05,100000\n",
            "snp432,A,G,0.61,0.04,0.0096,1.50E-05,100000\n",
            "snp441,T,C,0.17,0.07,0.0125,7.33E-09,100000\n"
          ]
        }
      ]
    },
    {
      "cell_type": "code",
      "metadata": {
        "id": "FZPa9WpPL4ga",
        "colab": {
          "base_uri": "https://localhost:8080/"
        },
        "outputId": "7096006a-d48f-49d4-a661-5ac76bb6e1fe"
      },
      "source": [
        "# Lets do the opposite and now exclude those lines by simply adding the `-v` option.\n",
        "! grep -v \"E-\" /content/drive/My\\ Drive/BINF309_Introduction_to_Python/example_data/discrete/example_GWAS.csv "
      ],
      "execution_count": null,
      "outputs": [
        {
          "output_type": "stream",
          "name": "stdout",
          "text": [
            "﻿SNP,A1,A2,freq,b,se,p,N\n",
            "snp71,A,G,0.15,0.02,0.0136,0.1387,100000\n",
            "snp72,A,G,0.6,0.03,0.0098,0.0005581,100000\n",
            "snp73,C,G,0.52,0,0.0095,0.7423,100000\n",
            "snp74,T,C,0.03,-0.05,0.0316,0.08657,100000\n",
            "snp75,T,G,0.95,0.02,0.0278,0.5055,100000\n",
            "snp76,A,G,0.26,-0.01,0.0106,0.2882,100000\n",
            "snp77,T,C,0.96,-0.02,0.0233,0.4274,100000\n",
            "snp78,C,G,0.51,0,0.0093,0.8662,100000\n",
            "snp79,C,G,0.61,0.01,0.0097,0.1676,100000\n",
            "snp80,A,G,0.67,-0.02,0.0101,0.06372,100000\n",
            "snp81,A,G,0.5,-0.02,0.0094,0.07562,100000\n",
            "snp82,A,C,0.78,0,0.0113,0.8764,100000\n",
            "snp83,A,G,0.61,-0.01,0.0096,0.5925,100000\n",
            "snp84,T,C,0.9,-0.01,0.0157,0.6176,100000\n",
            "snp85,A,G,0.07,0,0.018,0.8184,100000\n",
            "snp86,A,G,0.94,0.06,0.0264,0.03021,100000\n",
            "snp87,T,C,0.63,0,0.0098,0.703,100000\n",
            "snp88,C,G,0.04,0.07,0.0292,0.01485,100000\n",
            "snp89,A,G,0.91,0.04,0.0169,0.02844,100000\n",
            "snp90,T,C,0.04,0,0.024,0.884,100000\n",
            "snp91,T,G,0.5,0.01,0.0093,0.589,100000\n",
            "snp92,T,G,0.22,0.02,0.0114,0.04175,100000\n",
            "snp93,T,C,0.89,-0.01,0.0161,0.7019,100000\n",
            "snp94,T,C,0.02,0.1,0.0426,0.02443,100000\n",
            "snp95,A,C,0.12,-0.01,0.0147,0.3576,100000\n",
            "snp96,A,C,0.43,0.02,0.0104,0.08848,100000\n",
            "snp97,T,C,0.28,0,0.0107,0.9621,100000\n",
            "snp98,T,C,0.11,-0.01,0.0151,0.742,100000\n",
            "snp99,A,G,0.02,-0.04,0.0333,0.2447,100000\n",
            "snp100,A,G,0.3,0,0.0102,0.9405,100000\n",
            "snp101,A,C,0.26,0.01,0.0109,0.568,100000\n",
            "snp102,T,C,0.35,0.01,0.0098,0.1764,100000\n",
            "snp103,T,G,0.71,0.03,0.0104,0.01226,100000\n",
            "snp104,A,G,0.23,-0.02,0.0114,0.1763,100000\n",
            "snp105,A,G,0.34,0,0.0098,0.9195,100000\n",
            "snp106,T,C,0.02,-0.04,0.0325,0.2025,100000\n",
            "snp107,A,G,0.02,0,0.0343,0.9692,100000\n",
            "snp108,A,T,0.52,0.04,0.0096,0.0001082,100000\n",
            "snp110,A,C,0.39,0.01,0.0096,0.55,100000\n",
            "snp111,C,G,0.01,-0.01,0.0428,0.9031,100000\n",
            "snp112,A,G,0.82,0.02,0.0123,0.1255,100000\n",
            "snp113,A,C,0.33,0,0.01,0.81,100000\n",
            "snp114,T,C,0.49,0.01,0.0094,0.375,100000\n",
            "snp115,T,C,0.88,-0.01,0.0144,0.317,100000\n",
            "snp116,A,G,0.97,-0.01,0.029,0.7887,100000\n",
            "snp117,A,G,0.11,0,0.0153,0.8859,100000\n",
            "snp118,A,G,0.09,0.01,0.0162,0.6801,100000\n",
            "snp119,T,G,0.1,0.01,0.0199,0.662,100000\n",
            "snp120,A,G,0.57,0.01,0.0097,0.2822,100000\n",
            "snp121,T,C,0.36,-0.01,0.0101,0.3166,100000\n",
            "snp122,A,G,0.02,-0.02,0.038,0.6593,100000\n",
            "snp123,A,G,0.76,0.01,0.0112,0.3909,100000\n",
            "snp124,T,C,0.69,-0.01,0.0101,0.1839,100000\n",
            "snp125,A,G,0.06,-0.02,0.0203,0.2478,100000\n",
            "snp126,T,G,0.54,-0.01,0.0095,0.1408,100000\n",
            "snp127,T,C,0.01,-0.02,0.047,0.7418,100000\n",
            "snp128,A,T,0.68,0,0.0101,0.998,100000\n",
            "snp129,T,C,0.03,-0.05,0.0315,0.09073,100000\n",
            "snp130,A,G,0.92,0.02,0.0176,0.2205,100000\n",
            "snp131,T,C,0.01,-0.04,0.0574,0.4818,100000\n",
            "snp132,A,C,0.35,0,0.0099,0.6191,100000\n",
            "snp133,C,G,0.58,-0.01,0.0095,0.5416,100000\n",
            "snp134,T,C,0.07,-0.01,0.0195,0.4759,100000\n",
            "snp135,C,G,0.13,0.03,0.0141,0.07179,100000\n",
            "snp136,A,C,0.08,-0.01,0.0175,0.7335,100000\n",
            "snp137,T,C,0.78,-0.01,0.0117,0.2368,100000\n",
            "snp138,T,C,0.32,-0.01,0.01,0.2585,100000\n",
            "snp139,T,C,0.45,-0.04,0.0095,0.0001598,100000\n",
            "snp140,T,C,0.12,0.02,0.0182,0.2085,100000\n",
            "snp141,A,G,0.42,0.01,0.0095,0.245,100000\n",
            "snp142,A,C,0.33,0.02,0.0102,0.07164,100000\n",
            "snp143,A,C,0.96,0.03,0.0236,0.2263,100000\n",
            "snp144,T,C,0.48,0,0.0094,0.8877,100000\n",
            "snp145,A,G,0.88,-0.05,0.0155,0.003029,100000\n",
            "snp146,A,G,0.72,0.01,0.0129,0.4188,100000\n",
            "snp147,A,C,0.21,0.01,0.0117,0.4442,100000\n",
            "snp148,C,G,0.95,0.05,0.0223,0.01693,100000\n",
            "snp149,T,C,0.72,0,0.0105,0.9058,100000\n",
            "snp150,A,G,0.43,0.01,0.0097,0.555,100000\n",
            "snp151,T,C,0.23,0.01,0.011,0.5487,100000\n",
            "snp152,A,C,0.26,0.02,0.0107,0.03981,100000\n",
            "snp153,T,G,0.1,0,0.0155,0.835,100000\n",
            "snp154,A,G,0.55,0.01,0.0095,0.25,100000\n",
            "snp155,T,C,0.94,-0.07,0.0201,0.0002362,100000\n",
            "snp156,A,T,0.05,-0.01,0.0232,0.5967,100000\n",
            "snp157,A,G,0.11,0,0.0155,0.9045,100000\n",
            "snp158,A,T,0.71,0,0.0103,0.8831,100000\n",
            "snp159,A,G,0.76,-0.03,0.0109,0.0126,100000\n",
            "snp160,A,G,0.74,-0.01,0.0106,0.4086,100000\n",
            "snp161,A,G,0.8,-0.01,0.0119,0.4329,100000\n",
            "snp162,A,G,0.99,0,0.0525,0.965,100000\n",
            "snp163,A,G,0.05,0,0.0233,0.927,100000\n",
            "snp164,T,C,0.53,0.01,0.0093,0.2834,100000\n",
            "snp165,T,C,0.14,0,0.0134,0.7563,100000\n",
            "snp166,T,G,0.84,0,0.0128,0.912,100000\n",
            "snp167,C,G,0.32,0,0.0102,0.8055,100000\n",
            "snp168,A,G,0.31,-0.02,0.0101,0.04984,100000\n",
            "snp169,A,G,0.04,-0.04,0.0255,0.09017,100000\n",
            "snp170,A,G,0.03,0.01,0.0262,0.5987,100000\n",
            "snp173,A,T,0.19,-0.04,0.012,0.001891,100000\n",
            "snp174,A,G,0.61,0,0.0096,0.9039,100000\n",
            "snp175,A,C,0.22,0,0.0114,0.7619,100000\n",
            "snp176,C,G,0.87,-0.01,0.0138,0.3637,100000\n",
            "snp177,T,C,0.4,0.02,0.0097,0.0921,100000\n",
            "snp178,T,G,0.02,-0.01,0.0329,0.6981,100000\n",
            "snp179,T,C,0.06,-0.01,0.02,0.56,100000\n",
            "snp180,A,T,0.29,0,0.0105,0.8163,100000\n",
            "snp181,T,C,0.52,-0.02,0.0093,0.08691,100000\n",
            "snp182,A,C,0.05,0.01,0.0222,0.5262,100000\n",
            "snp183,T,C,0.08,-0.03,0.0179,0.1166,100000\n",
            "snp184,T,G,0.97,-0.01,0.0302,0.7967,100000\n",
            "snp185,T,G,0.98,-0.07,0.0365,0.06919,100000\n",
            "snp186,A,G,0.95,-0.01,0.0236,0.7452,100000\n",
            "snp187,T,C,0.58,0,0.0096,0.9232,100000\n",
            "snp188,A,G,0.13,0,0.0139,0.8168,100000\n",
            "snp189,T,C,0.02,0.04,0.0352,0.2849,100000\n",
            "snp190,A,C,0.14,0.01,0.0136,0.641,100000\n",
            "snp191,C,G,0.67,0,0.0101,0.7509,100000\n",
            "snp192,A,G,0.01,0.15,0.051,0.003237,100000\n",
            "snp193,A,G,0.6,-0.01,0.0096,0.4615,100000\n",
            "snp194,A,G,0.05,0.02,0.0219,0.2937,100000\n",
            "snp195,A,G,0.33,0,0.0101,0.6637,100000\n",
            "snp196,A,G,0.93,-0.01,0.0178,0.5111,100000\n",
            "snp197,C,G,0.03,0.02,0.0284,0.4651,100000\n",
            "snp198,A,G,0.95,0.01,0.0223,0.731,100000\n",
            "snp199,A,G,0.99,0.01,0.0474,0.765,100000\n",
            "snp200,T,C,0.46,0,0.0094,0.679,100000\n",
            "snp201,C,G,0.79,0.01,0.0142,0.2918,100000\n",
            "snp202,A,G,0.99,0,0.048,0.9577,100000\n",
            "snp203,T,C,0.64,0,0.0099,0.7745,100000\n",
            "snp204,A,G,0.2,0,0.0118,0.9455,100000\n",
            "snp205,T,C,0.13,-0.02,0.0141,0.2855,100000\n",
            "snp206,T,C,0.43,-0.03,0.0118,0.03379,100000\n",
            "snp207,T,C,0.19,0,0.0118,0.7443,100000\n",
            "snp208,A,C,0.34,0.02,0.0099,0.1287,100000\n",
            "snp210,A,G,0.15,0,0.0132,0.8234,100000\n",
            "snp211,A,G,0.96,0,0.029,0.9095,100000\n",
            "snp212,T,C,0.76,0.03,0.0142,0.05783,100000\n",
            "snp213,T,C,0.66,-0.02,0.0099,0.09421,100000\n",
            "snp215,A,G,0.77,0.01,0.0112,0.2225,100000\n",
            "snp217,C,G,0.85,0.01,0.0133,0.5468,100000\n",
            "snp218,A,C,0.27,0,0.0105,0.8063,100000\n",
            "snp219,T,C,0.94,0,0.0197,0.9528,100000\n",
            "snp220,A,G,0.98,-0.02,0.0402,0.6201,100000\n",
            "snp221,A,G,0.12,-0.01,0.0144,0.7173,100000\n",
            "snp222,T,C,0.79,-0.01,0.0116,0.412,100000\n",
            "snp223,T,C,0.26,-0.01,0.0106,0.2911,100000\n",
            "snp224,A,C,0.68,0.01,0.0103,0.2781,100000\n",
            "snp225,T,G,0.72,-0.01,0.0106,0.4576,100000\n",
            "snp226,A,G,0.31,0,0.0105,0.7938,100000\n",
            "snp227,T,C,0.18,0,0.0123,0.9492,100000\n",
            "snp228,A,G,0.21,0.03,0.0129,0.02801,100000\n",
            "snp229,A,G,0.02,-0.03,0.0467,0.4978,100000\n",
            "snp230,A,T,0.48,0.01,0.0094,0.3525,100000\n",
            "snp231,T,C,0.14,0.03,0.0135,0.05327,100000\n",
            "snp232,A,G,0.52,0,0.0094,0.9709,100000\n",
            "snp233,A,C,0.99,0.13,0.0568,0.0188,100000\n",
            "snp234,A,T,0.35,0,0.0121,0.9005,100000\n",
            "snp235,T,C,0.52,-0.01,0.0097,0.4486,100000\n",
            "snp236,A,G,0.91,0,0.0168,0.8859,100000\n",
            "snp237,T,C,0.02,0.01,0.0388,0.7554,100000\n",
            "snp238,T,G,0.02,0.03,0.0365,0.3727,100000\n",
            "snp239,A,G,0.72,0.01,0.0105,0.3385,100000\n",
            "snp240,T,C,0.37,-0.01,0.0097,0.4462,100000\n",
            "snp241,T,C,0.49,0.01,0.0094,0.5413,100000\n",
            "snp242,T,C,0.03,-0.03,0.0275,0.3101,100000\n",
            "snp243,T,C,0.15,0.04,0.013,0.002542,100000\n",
            "snp244,A,C,0.14,0.01,0.0135,0.4257,100000\n",
            "snp245,A,C,0.86,-0.01,0.0135,0.5456,100000\n",
            "snp246,T,C,0.26,-0.01,0.0107,0.2716,100000\n",
            "snp247,T,C,0.27,0.02,0.0136,0.1903,100000\n",
            "snp248,T,C,0.78,-0.02,0.014,0.1975,100000\n",
            "snp249,C,G,0.8,-0.02,0.0116,0.159,100000\n",
            "snp250,A,G,0.02,0.03,0.038,0.5069,100000\n",
            "snp251,A,G,0.97,0.03,0.0334,0.3944,100000\n",
            "snp252,A,G,0.34,0.01,0.0099,0.1494,100000\n",
            "snp253,T,G,0.7,-0.01,0.0108,0.4312,100000\n",
            "snp254,T,C,0.32,-0.03,0.01,0.003475,100000\n",
            "snp255,T,C,0.01,-0.03,0.0513,0.5266,100000\n",
            "snp256,T,C,0.06,0.01,0.0197,0.6635,100000\n",
            "snp257,C,G,0.19,0.01,0.012,0.4703,100000\n",
            "snp258,T,C,0.85,-0.01,0.0132,0.3468,100000\n",
            "snp259,A,G,0.51,-0.02,0.0094,0.06474,100000\n",
            "snp260,C,G,0.78,0,0.0115,0.9676,100000\n",
            "snp261,T,C,0.15,0.01,0.0134,0.5134,100000\n",
            "snp262,T,C,0.99,0.12,0.058,0.04481,100000\n",
            "snp263,C,G,0.96,-0.01,0.024,0.7195,100000\n",
            "snp264,C,G,0.72,0,0.0105,0.7111,100000\n",
            "snp265,T,C,0.77,-0.01,0.0113,0.483,100000\n",
            "snp266,T,G,0.35,0.02,0.0098,0.04207,100000\n",
            "snp267,T,C,0.92,-0.02,0.0174,0.1561,100000\n",
            "snp268,C,G,0.06,0.03,0.0212,0.1066,100000\n",
            "snp269,T,G,0.61,-0.02,0.0097,0.01294,100000\n",
            "snp270,T,G,0.44,0,0.0096,0.7586,100000\n",
            "snp271,T,C,0.94,-0.01,0.0215,0.7733,100000\n",
            "snp272,A,G,0.74,-0.03,0.0106,0.005558,100000\n",
            "snp273,A,G,0.16,0.01,0.0125,0.3964,100000\n",
            "snp274,A,T,0.13,-0.01,0.0142,0.3613,100000\n",
            "snp275,T,C,0.17,0,0.0131,0.935,100000\n",
            "snp276,T,C,0.13,0.03,0.0163,0.08785,100000\n",
            "snp277,A,G,0.74,-0.02,0.0107,0.1266,100000\n",
            "snp278,T,C,0.06,0.01,0.0207,0.772,100000\n",
            "snp279,T,C,0.06,-0.01,0.0213,0.666,100000\n",
            "snp280,T,C,0.82,0.01,0.0123,0.3155,100000\n",
            "snp281,T,C,0.17,-0.01,0.0126,0.2962,100000\n",
            "snp282,T,C,0.98,-0.02,0.0344,0.4993,100000\n",
            "snp283,A,T,0.99,0.03,0.0431,0.4344,100000\n",
            "snp284,A,G,0.4,-0.01,0.0095,0.4028,100000\n",
            "snp285,T,C,0.1,-0.01,0.0175,0.4116,100000\n",
            "snp286,A,G,0.32,-0.03,0.0101,0.00845,100000\n",
            "snp287,C,G,0.98,0.08,0.0437,0.08196,100000\n",
            "snp288,T,C,0.86,0.01,0.0136,0.2914,100000\n",
            "snp289,A,C,0.22,0.03,0.0113,0.01982,100000\n",
            "snp290,T,G,0.9,0.02,0.016,0.3206,100000\n",
            "snp291,C,G,0.46,0,0.0097,0.9981,100000\n",
            "snp292,A,G,0.13,0.02,0.0138,0.2416,100000\n",
            "snp293,A,G,0.77,0.01,0.0112,0.192,100000\n",
            "snp294,C,G,0.36,0,0.0098,0.9141,100000\n",
            "snp295,A,G,0.69,0,0.0101,0.7947,100000\n",
            "snp296,T,C,0.78,0,0.0114,0.6634,100000\n",
            "snp297,A,G,0.6,0.01,0.0097,0.4219,100000\n",
            "snp298,T,C,0.42,0.01,0.0095,0.5836,100000\n",
            "snp299,A,G,0.32,-0.02,0.0101,0.1185,100000\n",
            "snp300,T,C,0.43,0.01,0.0098,0.2145,100000\n",
            "snp302,T,C,0.12,0.02,0.0145,0.2058,100000\n",
            "snp303,T,C,0.16,0.03,0.0128,0.03953,100000\n",
            "snp304,T,C,0.87,0,0.0149,0.7934,100000\n",
            "snp305,T,C,0.4,0,0.0098,0.9207,100000\n",
            "snp306,A,G,0.99,0.01,0.0528,0.8254,100000\n",
            "snp307,A,G,0.99,0.06,0.0416,0.1404,100000\n",
            "snp308,A,G,0.6,0,0.0096,0.7978,100000\n",
            "snp309,T,G,0.05,-0.01,0.0219,0.7627,100000\n",
            "snp310,C,G,0.98,-0.04,0.0452,0.4359,100000\n",
            "snp311,A,C,0.84,0,0.0131,0.9961,100000\n",
            "snp312,T,C,0.6,0.02,0.0095,0.05685,100000\n",
            "snp313,A,G,0.1,0.06,0.0153,0.0001328,100000\n",
            "snp314,A,G,0.36,0.03,0.0101,0.001214,100000\n",
            "snp316,C,G,0.23,0,0.0111,0.7984,100000\n",
            "snp317,A,G,0.96,-0.02,0.0254,0.552,100000\n",
            "snp318,T,C,0.26,0.01,0.011,0.6157,100000\n",
            "snp319,C,G,0.66,-0.01,0.01,0.4489,100000\n",
            "snp320,C,G,0.44,-0.01,0.0095,0.5195,100000\n",
            "snp321,A,G,0.45,-0.01,0.0095,0.5455,100000\n",
            "snp322,C,G,0.72,0.01,0.0105,0.5482,100000\n",
            "snp323,A,G,0.2,0,0.012,0.7783,100000\n",
            "snp324,A,G,0.99,0.03,0.0453,0.5672,100000\n",
            "snp325,A,G,0.5,0,0.0095,0.7242,100000\n",
            "snp326,A,G,0.18,-0.01,0.0124,0.6339,100000\n",
            "snp327,T,C,0.39,-0.02,0.0096,0.05725,100000\n",
            "snp328,T,C,0.14,0.01,0.0134,0.6461,100000\n",
            "snp329,A,C,0.77,0.03,0.0112,0.01546,100000\n",
            "snp330,C,G,0.88,0.03,0.0144,0.04379,100000\n",
            "snp331,T,C,0.26,0,0.0109,0.7492,100000\n",
            "snp332,A,G,0.3,0,0.0103,0.8567,100000\n",
            "snp333,T,C,0.03,-0.01,0.0292,0.6727,100000\n",
            "snp334,T,G,0.34,-0.01,0.0101,0.1627,100000\n",
            "snp335,A,C,0.07,0.01,0.0182,0.4308,100000\n",
            "snp336,A,G,0.36,-0.01,0.0099,0.2653,100000\n",
            "snp337,A,G,0.22,0,0.0114,0.8545,100000\n",
            "snp338,A,G,0.79,-0.01,0.0118,0.4914,100000\n",
            "snp339,C,G,0.07,-0.04,0.0188,0.02966,100000\n",
            "snp340,T,C,0.25,0.02,0.0111,0.04288,100000\n",
            "snp341,T,C,0.14,0.02,0.0139,0.2781,100000\n",
            "snp342,C,G,0.49,0.01,0.0093,0.1305,100000\n",
            "snp343,A,G,0.03,0.08,0.0305,0.007906,100000\n",
            "snp344,A,G,0.05,-0.01,0.0232,0.5281,100000\n",
            "snp345,A,G,0.24,-0.01,0.011,0.4857,100000\n",
            "snp346,T,C,0.01,0.08,0.0568,0.1861,100000\n",
            "snp347,A,G,0.35,0,0.0105,0.8577,100000\n",
            "snp349,A,G,0.5,0,0.0096,0.699,100000\n",
            "snp350,T,C,0.43,-0.01,0.0094,0.201,100000\n",
            "snp351,T,C,0.17,0.03,0.0124,0.03459,100000\n",
            "snp352,T,G,0.98,-0.02,0.0393,0.5947,100000\n",
            "snp353,T,C,0.6,-0.01,0.0095,0.4806,100000\n",
            "snp354,T,C,0.71,-0.01,0.0106,0.3393,100000\n",
            "snp355,T,G,0.06,-0.02,0.02,0.2741,100000\n",
            "snp356,T,C,0.06,0,0.02,0.8644,100000\n",
            "snp357,T,C,0.02,-0.05,0.0379,0.1981,100000\n",
            "snp358,A,G,0.04,0.04,0.0236,0.06216,100000\n",
            "snp359,C,G,0.05,0.03,0.0219,0.1647,100000\n",
            "snp360,A,G,0.11,-0.01,0.0151,0.678,100000\n",
            "snp361,T,G,0.71,0.01,0.0109,0.2072,100000\n",
            "snp362,T,C,0.97,-0.03,0.0295,0.2477,100000\n",
            "snp363,T,G,0.23,0.02,0.0111,0.09517,100000\n",
            "snp364,A,T,0.02,-0.06,0.0512,0.2734,100000\n",
            "snp365,T,C,0.09,-0.01,0.0168,0.7026,100000\n",
            "snp366,A,G,0.02,-0.08,0.0406,0.04629,100000\n",
            "snp367,A,T,0.06,0.01,0.0241,0.7003,100000\n",
            "snp368,A,G,0.87,0,0.0136,0.939,100000\n",
            "snp369,A,G,0.33,0,0.0101,0.7523,100000\n",
            "snp370,A,G,0.35,0.02,0.0099,0.01985,100000\n",
            "snp371,T,G,0.41,0,0.0096,0.7016,100000\n",
            "snp372,C,G,0.11,-0.02,0.0153,0.1333,100000\n",
            "snp373,A,G,0.4,-0.02,0.0095,0.01037,100000\n",
            "snp374,T,C,0.74,0,0.0106,0.7744,100000\n",
            "snp375,A,G,0.1,0,0.0159,0.8129,100000\n",
            "snp376,A,C,0.27,-0.04,0.0106,0.0001044,100000\n",
            "snp377,A,G,0.73,0.01,0.0106,0.2093,100000\n",
            "snp378,T,C,0.77,0,0.0111,0.7175,100000\n",
            "snp379,A,G,0.69,-0.03,0.01,0.008365,100000\n",
            "snp380,A,G,0.9,-0.02,0.0156,0.1477,100000\n",
            "snp381,T,G,0.07,-0.03,0.019,0.09036,100000\n",
            "snp382,A,T,0.98,-0.01,0.0311,0.7554,100000\n",
            "snp383,A,G,0.45,0.01,0.0095,0.2885,100000\n",
            "snp384,A,G,0.26,0.01,0.0109,0.5613,100000\n",
            "snp385,T,C,0.47,0,0.0116,0.8536,100000\n",
            "snp386,T,C,0.59,0.02,0.0096,0.1022,100000\n",
            "snp387,C,G,0.06,-0.01,0.0202,0.4883,100000\n",
            "snp388,A,G,0.6,0,0.0095,0.7156,100000\n",
            "snp389,T,C,0.33,0.01,0.0104,0.3797,100000\n",
            "snp390,T,C,0.94,0.02,0.0202,0.2882,100000\n",
            "snp391,A,G,0.92,0,0.0188,0.9644,100000\n",
            "snp392,A,G,0.91,-0.03,0.0173,0.1266,100000\n",
            "snp393,T,G,0.23,0.02,0.0114,0.08927,100000\n",
            "snp394,T,C,0.36,-0.01,0.0101,0.3736,100000\n",
            "snp395,A,G,0.05,-0.03,0.0223,0.2225,100000\n",
            "snp396,C,G,0.56,0,0.0094,0.7335,100000\n",
            "snp397,T,C,0.96,-0.02,0.0262,0.3741,100000\n",
            "snp398,T,C,0.06,-0.01,0.0204,0.5086,100000\n",
            "snp399,A,G,0.22,0.02,0.0114,0.06581,100000\n",
            "snp400,A,C,0.91,-0.03,0.0198,0.1009,100000\n",
            "snp401,T,C,0.35,-0.02,0.0098,0.01313,100000\n",
            "snp402,T,C,0.33,-0.01,0.0099,0.2892,100000\n",
            "snp403,T,C,0.06,-0.03,0.0203,0.1324,100000\n",
            "snp404,A,C,0.9,-0.02,0.016,0.2707,100000\n",
            "snp405,A,G,0.19,0,0.0122,0.9063,100000\n",
            "snp406,T,C,0.12,-0.05,0.0144,0.0001554,100000\n",
            "snp407,T,C,0.43,0.01,0.0095,0.3607,100000\n",
            "snp408,A,G,0.9,0.03,0.0155,0.07087,100000\n",
            "snp409,T,C,0.01,0.03,0.0428,0.4406,100000\n",
            "snp410,T,C,0.43,0.01,0.0094,0.2052,100000\n",
            "snp411,T,C,0.03,0.03,0.0261,0.2954,100000\n",
            "snp412,A,G,0.06,-0.01,0.0208,0.6999,100000\n",
            "snp413,T,C,0.08,-0.02,0.0214,0.4831,100000\n",
            "snp414,C,G,0.29,0,0.0104,0.9077,100000\n",
            "snp415,A,G,0.86,0.01,0.0145,0.5391,100000\n",
            "snp416,A,G,0.96,0.04,0.0266,0.1097,100000\n",
            "snp417,A,G,0.13,0.01,0.0138,0.4649,100000\n",
            "snp418,T,C,0.27,0.01,0.0111,0.5645,100000\n",
            "snp419,T,G,0.61,0.01,0.0097,0.4791,100000\n",
            "snp420,A,G,0.97,0.01,0.0287,0.7918,100000\n",
            "snp421,A,G,0.33,0.01,0.0101,0.4781,100000\n",
            "snp422,T,C,0.56,0.01,0.0098,0.4972,100000\n",
            "snp423,A,C,0.92,-0.01,0.0173,0.7116,100000\n",
            "snp424,A,G,0.49,0,0.0097,0.8955,100000\n",
            "snp425,T,C,0.04,-0.01,0.024,0.6445,100000\n",
            "snp426,C,G,0.5,0,0.0096,0.6645,100000\n",
            "snp427,T,C,0.8,0.01,0.0119,0.5664,100000\n",
            "snp428,A,G,0.07,0,0.0194,0.9821,100000\n",
            "snp429,A,G,0.83,0.03,0.0126,0.0118,100000\n",
            "snp430,T,C,0.76,-0.01,0.011,0.2035,100000\n",
            "snp431,C,G,0.95,0,0.0218,0.9187,100000\n",
            "snp433,A,G,0.59,0,0.0096,0.6833,100000\n",
            "snp434,A,G,0.64,0,0.0097,0.8836,100000\n",
            "snp435,T,C,0.92,0.01,0.0174,0.5023,100000\n",
            "snp436,A,G,0.22,0,0.0113,0.7049,100000\n",
            "snp437,A,G,0.69,0,0.0101,0.9879,100000\n",
            "snp438,A,G,0.16,0,0.013,0.7862,100000\n",
            "snp439,C,G,0.9,0.02,0.0158,0.2497,100000\n",
            "snp440,T,C,0.3,0.03,0.0108,0.004413,100000\n",
            "snp442,A,G,0.25,0,0.0111,0.8698,100000\n",
            "snp443,A,G,0.09,0.01,0.0159,0.5146,100000\n",
            "snp444,T,C,0.16,-0.01,0.0128,0.6609,100000\n",
            "snp445,A,G,0.25,-0.01,0.0109,0.3329,100000\n",
            "snp446,T,C,0.61,-0.02,0.0096,0.0395,100000\n",
            "snp447,T,C,0.05,0.04,0.021,0.0565,100000\n",
            "snp448,T,C,0.26,0.01,0.0108,0.3611,100000\n",
            "snp449,A,G,0.6,0.02,0.0096,0.1139,100000\n",
            "snp450,A,T,0.26,0,0.0107,0.7272,100000\n",
            "snp451,A,C,0.59,0.01,0.0095,0.4111,100000\n",
            "snp452,C,G,0.09,0.04,0.0163,0.02001,100000\n",
            "snp453,A,T,0.65,0,0.0097,0.9888,100000\n",
            "snp454,T,C,0.13,-0.01,0.014,0.7096,100000\n",
            "snp455,T,C,0.51,0,0.0098,0.8147,100000\n",
            "snp456,A,C,0.97,-0.03,0.0266,0.2415,100000\n",
            "snp457,C,G,0.27,0,0.0116,0.8473,100000\n",
            "snp458,T,G,0.88,0.01,0.0161,0.4435,100000\n",
            "snp459,T,C,0.13,0.02,0.0139,0.2587,100000\n",
            "snp460,T,C,0.54,0.01,0.0096,0.2078,100000\n",
            "snp461,T,C,0.9,-0.04,0.0166,0.01886,100000\n",
            "snp462,T,C,0.27,0,0.0106,0.7845,100000\n",
            "snp463,T,G,0.98,-0.09,0.0388,0.01467,100000\n",
            "snp464,A,G,0.01,0.01,0.0425,0.8198,100000\n",
            "snp465,T,C,0.03,-0.02,0.0299,0.5869,100000\n",
            "snp466,C,G,0.24,0.01,0.0109,0.5689,100000\n",
            "snp467,A,G,0.98,0.04,0.0333,0.213,100000\n",
            "snp468,T,C,0.38,0,0.0101,0.7022,100000\n",
            "snp469,T,C,0.01,0.05,0.0458,0.2686,100000\n",
            "snp470,A,G,0.82,-0.01,0.0122,0.4535,100000\n",
            "snp471,T,C,0.04,0,0.0258,0.9081,100000\n",
            "snp472,A,C,0.11,-0.03,0.015,0.0801,100000\n",
            "snp473,T,C,0.48,0,0.0094,0.6605,100000\n",
            "snp474,A,G,0.26,-0.02,0.0113,0.0484,100000\n",
            "snp475,T,G,0.11,0.01,0.015,0.7014,100000\n",
            "snp476,T,C,0.2,0,0.0118,0.9395,100000\n",
            "snp477,A,G,0.1,0.02,0.016,0.1808,100000\n",
            "snp478,A,G,0.51,-0.01,0.0094,0.4136,100000\n",
            "snp479,A,G,0.54,0,0.0096,0.6998,100000\n",
            "snp480,C,G,0.15,0.01,0.0135,0.39,100000\n",
            "snp481,A,G,0.9,-0.05,0.0154,0.000965,100000\n",
            "snp482,C,G,0.65,-0.01,0.0099,0.3593,100000\n",
            "snp483,T,C,0.48,0.01,0.0094,0.3839,100000\n",
            "snp484,A,G,0.21,-0.01,0.0117,0.2859,100000\n",
            "snp485,C,G,0.53,-0.01,0.0094,0.5785,100000\n",
            "snp486,T,G,0.03,0.01,0.0296,0.7631,100000\n",
            "snp487,A,G,0.55,-0.01,0.0095,0.5308,100000\n",
            "snp488,A,C,0.98,-0.03,0.0396,0.4761,100000\n",
            "snp489,C,G,0.43,-0.01,0.0095,0.2861,100000\n",
            "snp490,T,C,0.4,0.03,0.0095,0.005128,100000\n",
            "snp491,A,T,0.35,-0.01,0.0103,0.4376,100000\n",
            "snp492,A,C,0.87,-0.01,0.0138,0.4936,100000\n",
            "snp493,A,G,0.4,-0.01,0.01,0.5386,100000\n",
            "snp494,A,G,0.94,0.01,0.0194,0.599,100000\n",
            "snp495,T,C,0.59,0.02,0.0095,0.1016,100000\n",
            "snp496,C,G,0.95,0.01,0.0221,0.8152,100000\n",
            "snp497,A,G,0.34,-0.01,0.0099,0.333,100000\n",
            "snp498,T,C,0.08,0,0.017,0.89,100000\n",
            "snp499,T,C,0.56,0.01,0.0096,0.139,100000\n",
            "snp500,C,G,0.89,0,0.0152,0.7627,100000\n"
          ]
        }
      ]
    },
    {
      "cell_type": "markdown",
      "metadata": {
        "id": "RvZ1wUpoNnZ-"
      },
      "source": [
        "## 7. Sort the GWAS file by p-value and show the top few lines.\n",
        "Second-to-last column is p-value and we are interested in smallest to largest.\n",
        "`| head` is a pipe, you can add `|` to chain commands together. "
      ]
    },
    {
      "cell_type": "code",
      "metadata": {
        "id": "i7smJIMsN0r_",
        "colab": {
          "base_uri": "https://localhost:8080/"
        },
        "outputId": "afeac60d-bf45-48ab-9d2d-851a83d1776a"
      },
      "source": [
        "! sort --field-separator=',' -k 7,7 /content/drive/My\\ Drive/BINF309_Introduction_to_Python/example_data/discrete/example_GWAS.csv | head"
      ],
      "execution_count": null,
      "outputs": [
        {
          "output_type": "stream",
          "name": "stdout",
          "text": [
            "snp376,A,C,0.27,-0.04,0.0106,0.0001044,100000\n",
            "snp108,A,T,0.52,0.04,0.0096,0.0001082,100000\n",
            "snp313,A,G,0.1,0.06,0.0153,0.0001328,100000\n",
            "snp406,T,C,0.12,-0.05,0.0144,0.0001554,100000\n",
            "snp139,T,C,0.45,-0.04,0.0095,0.0001598,100000\n",
            "snp155,T,C,0.94,-0.07,0.0201,0.0002362,100000\n",
            "snp72,A,G,0.6,0.03,0.0098,0.0005581,100000\n",
            "snp481,A,G,0.9,-0.05,0.0154,0.000965,100000\n",
            "snp314,A,G,0.36,0.03,0.0101,0.001214,100000\n",
            "snp173,A,T,0.19,-0.04,0.012,0.001891,100000\n"
          ]
        }
      ]
    },
    {
      "cell_type": "markdown",
      "metadata": {
        "id": "p_oU-yokpSTX"
      },
      "source": [
        "**Makes sense, now on to some exercises ...**"
      ]
    },
    {
      "cell_type": "markdown",
      "metadata": {
        "id": "GvJ8ZwG7pn0K"
      },
      "source": [
        "# Unit 1: Assignment # 1\n",
        "***Come here to prove your knowledge.***\n",
        "\n",
        "Text cells will indicate a task.  \n",
        "Write your commands in the empty code cells below them."
      ]
    },
    {
      "cell_type": "markdown",
      "metadata": {
        "id": "wxbBn9dRqUzJ"
      },
      "source": [
        "## 1. Print a positive message to the screen, something nice."
      ]
    },
    {
      "cell_type": "code",
      "metadata": {
        "id": "ELzciBM8qVKJ",
        "outputId": "14a35c44-dc06-45d3-d9ca-5242894d896a",
        "colab": {
          "base_uri": "https://localhost:8080/"
        }
      },
      "source": [
        "! echo \"En la vida algunas veces se gana, otras veces se aprende (John Maxwell)\"\n",
        "\n"
      ],
      "execution_count": null,
      "outputs": [
        {
          "output_type": "stream",
          "name": "stdout",
          "text": [
            "En la vida algunas veces se gana, otras veces se aprende (John Maxwell)\n"
          ]
        }
      ]
    },
    {
      "cell_type": "markdown",
      "metadata": {
        "id": "2aYrQJ3sqeyY"
      },
      "source": [
        "## 2. What files are in `/content/drive/My\\ Drive/BINF309_Introduction_to_Python/example_data/discrete` and how large are these files?"
      ]
    },
    {
      "cell_type": "code",
      "metadata": {
        "id": "9IqnLYX9q1_f",
        "outputId": "7066ce55-a743-45e5-f273-380e758e8afb",
        "colab": {
          "base_uri": "https://localhost:8080/"
        }
      },
      "source": [
        "! ls -l /content/drive/My\\ Drive/BINF309_Introduction_to_Python/example_data/discrete "
      ],
      "execution_count": null,
      "outputs": [
        {
          "output_type": "stream",
          "name": "stdout",
          "text": [
            "total 204\n",
            "-rw------- 1 root root 24450 Feb  1 01:56 bim_paste.txt\n",
            "-rw------- 1 root root 20900 Feb  1 01:56 example_GWAS.csv\n",
            "-rw------- 1 root root  9910 Feb  1 01:56 training_addit.csv\n",
            "-rw------- 1 root root 62503 Feb  1 01:56 training.bed\n",
            "-rw------- 1 root root 12225 Feb  1 01:56 training.bim\n",
            "-rw------- 1 root root 13784 Feb  1 01:56 training.fam\n",
            "-rw------- 1 root root  5901 Feb  1 01:56 training_pheno.csv\n",
            "-rw------- 1 root root 24450 Feb  1 01:56 training_validation_paste.bim\n",
            "-rw------- 1 root root  2327 Feb  1 01:56 validation_addit.csv\n",
            "-rw------- 1 root root 12503 Feb  1 01:56 validation.bed\n",
            "-rw------- 1 root root 12225 Feb  1 01:56 validation.bim\n",
            "-rw------- 1 root root  3384 Feb  1 01:56 validation.fam\n",
            "-rw------- 1 root root  1504 Feb  1 01:56 validation_pheno.csv\n"
          ]
        }
      ]
    },
    {
      "cell_type": "markdown",
      "metadata": {
        "id": "8jmiJDlcq2wa"
      },
      "source": [
        "## 3. Show the top and bottom lines of any file CSV in the directory you just looked at above."
      ]
    },
    {
      "cell_type": "code",
      "metadata": {
        "id": "FOBJ2pQdrJu-",
        "outputId": "1f1f9460-406c-4d34-ead3-00cf737fb235",
        "colab": {
          "base_uri": "https://localhost:8080/"
        }
      },
      "source": [
        "! echo \"Top Lines\" \n",
        "! head /content/drive/My\\ Drive/BINF309_Introduction_to_Python/example_data/discrete/training_addit.csv\n",
        "\n",
        "print()\n",
        "\n",
        "! echo \"Bottom Lines\" \n",
        "! tail /content/drive/My\\ Drive/BINF309_Introduction_to_Python/example_data/discrete/training_addit.csv"
      ],
      "execution_count": null,
      "outputs": [
        {
          "output_type": "stream",
          "name": "stdout",
          "text": [
            "Top Lines\n",
            "﻿ID,SEX_COV,AGE,UPSIT,FAMILY_HISTORY\n",
            "sample1,1,63,33,0\n",
            "sample2,0,75,32,0\n",
            "sample3,0,59,15,0\n",
            "sample4,0,58,36,1\n",
            "sample5,0,57,32,0\n",
            "sample6,1,63,31,0\n",
            "sample7,1,69,28,0\n",
            "sample8,1,58,37,0\n",
            "sample9,0,74,22,0\n",
            "\n",
            "Bottom Lines\n",
            "sample491,1,53,34,0\n",
            "sample492,0,66,20,0\n",
            "sample493,0,58,26,0\n",
            "sample494,1,64,19,0\n",
            "sample495,1,56,25,0\n",
            "sample496,0,70,12,0\n",
            "sample497,0,77,35,0\n",
            "sample498,0,50,29,0\n",
            "sample499,0,72,35,0\n",
            "sample500,0,67,24,0\n"
          ]
        }
      ]
    },
    {
      "cell_type": "markdown",
      "metadata": {
        "id": "Z1Ma26-wrLhL"
      },
      "source": [
        "## 4. In the file `/content/drive/My\\Drive BINF309_Introduction_to_Python/example_data/discrete/training_pheno.csv', show me the top few lines of the last column only. "
      ]
    },
    {
      "cell_type": "code",
      "metadata": {
        "id": "rNgJSh9PsAp0",
        "colab": {
          "base_uri": "https://localhost:8080/"
        },
        "outputId": "751134b2-f6a0-4f1a-a60c-8977349ec0de"
      },
      "source": [
        "! cut -f 2 -d ',' /content/drive/My\\ Drive/BINF309_Introduction_to_Python/example_data/discrete/training_pheno.csv | head\n"
      ],
      "execution_count": null,
      "outputs": [
        {
          "output_type": "stream",
          "name": "stdout",
          "text": [
            "PHENO\n",
            "1\n",
            "1\n",
            "1\n",
            "0\n",
            "0\n",
            "1\n",
            "1\n",
            "1\n",
            "1\n"
          ]
        }
      ]
    },
    {
      "cell_type": "markdown",
      "metadata": {
        "id": "HK1bZqF5sBSC"
      },
      "source": [
        "## 5. There are 2 files called `*.bim` in the directory referenced in the cell above. Use `paste` to merge them and show the top and bottom of the file. "
      ]
    },
    {
      "cell_type": "code",
      "metadata": {
        "id": "r8u8qObJsoc1",
        "colab": {
          "base_uri": "https://localhost:8080/"
        },
        "outputId": "824474b1-d29f-4b41-ecb0-d69f7457576b"
      },
      "source": [
        "! echo \"trying paste with the full path does not produce a file nor feedback\"\n",
        "! paste /content/drive/My\\ Drive/BINF309_Introduction_to_Python/example_data/discrete/training.bim /content/drive/My\\ Drive/BINF309_Introduction_to_Python/example_data/discrete/validation.bim > paste.bim\n",
        "\n",
        "print()\n",
        "\n",
        "! echo \"Changing directory takes us to the folder but paste does not work\"\n",
        "! cd /content/drive/My\\ Drive/BINF309_Introduction_to_Python/example_data/discrete \n",
        "! ls -l\n",
        "! paste training.bim validation.bim > paste.bim\n",
        "\n",
        "! head paste.bim\n",
        "! tail paste.bim"
      ],
      "execution_count": null,
      "outputs": [
        {
          "output_type": "stream",
          "name": "stdout",
          "text": [
            "trying paste with the full path does not produce a file nor feedback\n",
            "\n",
            "Changing directory takes us to the folder but paste does not work\n",
            "total 1140\n",
            "-rw------- 1 root root     164 Feb  4 04:06 awk_validation_pheno.csv\n",
            "-rw------- 1 root root    8798 Feb  6 22:00 column1_cat.txt\n",
            "-rw------- 1 root root    3399 Feb  6 22:00 column1_cut.txt\n",
            "-rw------- 1 root root       0 Feb  4 19:58 column1_paste.bim\n",
            "-rw------- 1 root root       0 Feb  1 21:44 column1_paste.bin\n",
            "-rw------- 1 root root    8798 Feb  6 22:00 column1_paste.txt\n",
            "-rw------- 1 root root    5399 Feb  6 22:00 column1_sed.txt\n",
            "-rw------- 1 root root    1003 Feb  6 21:52 column2_awk.txt\n",
            "-rw------- 1 root root    1003 Feb  6 21:52 column2_cut.txt\n",
            "drwx------ 2 root root    4096 Feb  1 02:13 continuous\n",
            "-rw------- 1 root root       0 Feb  4 04:11 cut_validation_pheno.csv\n",
            "drwx------ 2 root root    4096 Feb  1 02:13 discrete\n",
            "-rw------- 1 root root   18464 Feb  1 01:57 Examples.ipynb\n",
            "-rw------- 1 root root   24450 Feb  6 22:01 paste.bim\n",
            "-rw------- 1 root root       0 Feb  6 21:39 paste.bin\n",
            "-rw------- 1 root root 1084528 Feb  1 01:55 temp_database.h5\n",
            "paste: training.bim: No such file or directory\n"
          ]
        }
      ]
    },
    {
      "cell_type": "markdown",
      "metadata": {
        "id": "5nUnT7QHsox6"
      },
      "source": [
        "## 6. Clean up any useless files we generated in the current directory during our exercises, these begin with \"column1\". Use `ls` to confirm."
      ]
    },
    {
      "cell_type": "code",
      "metadata": {
        "id": "TxjxGRGWU2CJ",
        "colab": {
          "base_uri": "https://localhost:8080/"
        },
        "outputId": "2c881fcf-8ca8-4e83-921f-1a93075f2c8a"
      },
      "source": [
        "! ls -l /content/drive/My\\ Drive/BINF309_Introduction_to_Python/example_data/discrete \n",
        "! rm /content/drive/My\\ Drive/BINF309_Introduction_to_Python/example_data/discrete/column1*\n",
        "! ls -l /content/drive/My\\ Drive/BINF309_Introduction_to_Python/example_data/discrete \n"
      ],
      "execution_count": null,
      "outputs": [
        {
          "output_type": "stream",
          "name": "stdout",
          "text": [
            "total 204\n",
            "-rw------- 1 root root 24450 Feb  1 01:56 bim_paste.txt\n",
            "-rw------- 1 root root 20900 Feb  1 01:56 example_GWAS.csv\n",
            "-rw------- 1 root root  9910 Feb  1 01:56 training_addit.csv\n",
            "-rw------- 1 root root 62503 Feb  1 01:56 training.bed\n",
            "-rw------- 1 root root 12225 Feb  1 01:56 training.bim\n",
            "-rw------- 1 root root 13784 Feb  1 01:56 training.fam\n",
            "-rw------- 1 root root  5901 Feb  1 01:56 training_pheno.csv\n",
            "-rw------- 1 root root 24450 Feb  1 01:56 training_validation_paste.bim\n",
            "-rw------- 1 root root  2327 Feb  1 01:56 validation_addit.csv\n",
            "-rw------- 1 root root 12503 Feb  1 01:56 validation.bed\n",
            "-rw------- 1 root root 12225 Feb  1 01:56 validation.bim\n",
            "-rw------- 1 root root  3384 Feb  1 01:56 validation.fam\n",
            "-rw------- 1 root root  1504 Feb  1 01:56 validation_pheno.csv\n",
            "rm: cannot remove '/content/drive/My Drive/BINF309_Introduction_to_Python/example_data/discrete/column1*': No such file or directory\n",
            "total 204\n",
            "-rw------- 1 root root 24450 Feb  1 01:56 bim_paste.txt\n",
            "-rw------- 1 root root 20900 Feb  1 01:56 example_GWAS.csv\n",
            "-rw------- 1 root root  9910 Feb  1 01:56 training_addit.csv\n",
            "-rw------- 1 root root 62503 Feb  1 01:56 training.bed\n",
            "-rw------- 1 root root 12225 Feb  1 01:56 training.bim\n",
            "-rw------- 1 root root 13784 Feb  1 01:56 training.fam\n",
            "-rw------- 1 root root  5901 Feb  1 01:56 training_pheno.csv\n",
            "-rw------- 1 root root 24450 Feb  1 01:56 training_validation_paste.bim\n",
            "-rw------- 1 root root  2327 Feb  1 01:56 validation_addit.csv\n",
            "-rw------- 1 root root 12503 Feb  1 01:56 validation.bed\n",
            "-rw------- 1 root root 12225 Feb  1 01:56 validation.bim\n",
            "-rw------- 1 root root  3384 Feb  1 01:56 validation.fam\n",
            "-rw------- 1 root root  1504 Feb  1 01:56 validation_pheno.csv\n"
          ]
        }
      ]
    },
    {
      "cell_type": "markdown",
      "metadata": {
        "id": "v0NnDxMoMUr0"
      },
      "source": [
        "## 7. Sort one of the `*.bim` files by the 4th column (numerically) and show the top few lines."
      ]
    },
    {
      "cell_type": "code",
      "metadata": {
        "id": "l_VTWdHVMT81",
        "colab": {
          "base_uri": "https://localhost:8080/"
        },
        "outputId": "3c233ca4-84f7-48ad-b2e0-f2695b56f4d2"
      },
      "source": [
        "! echo \"Original Lines\"\n",
        "! head /content/drive/My\\ Drive/BINF309_Introduction_to_Python/example_data/discrete/training.bim\n",
        "\n",
        "print()\n",
        "! echo \"Head of the file sorted by the 4th column as numeric values\"\n",
        "! sort -k 4n /content/drive/My\\ Drive/BINF309_Introduction_to_Python/example_data/discrete/training.bim | head"
      ],
      "execution_count": null,
      "outputs": [
        {
          "output_type": "stream",
          "name": "stdout",
          "text": [
            "Original Lines\n",
            "1\tsnp410\t0\t10638604\tT\tC\n",
            "1\tsnp403\t0\t12013215\tT\tC\n",
            "1\tsnp164\t0\t15857302\tC\tT\n",
            "1\tsnp363\t0\t15903085\tT\tG\n",
            "1\tsnp439\t0\t16306012\tG\tC\n",
            "1\tsnp370\t0\t16326935\tA\tG\n",
            "1\tsnp389\t0\t24192750\tT\tC\n",
            "1\tsnp475\t0\t26574432\tT\tG\n",
            "1\tsnp399\t0\t26840826\tA\tG\n",
            "1\tsnp87\t0\t31765968\tC\tT\n",
            "\n",
            "Head of the file sorted by the 4th column as numeric values\n",
            "2\tsnp429\t0\t107140\tG\tA\n",
            "6\tsnp310\t0\t382573\tG\tC\n",
            "11\tsnp71\t0\t547899\tA\tG\n",
            "4\tsnp55\t0\t925376\tT\tC\n",
            "4\tsnp56\t0\t951947\tC\tT\n",
            "20\tsnp466\t0\t1516617\tC\tG\n",
            "17\tsnp347\t0\t1665424\tA\tG\n",
            "7\tsnp361\t0\t2808732\tG\tT\n",
            "19\tsnp414\t0\t4256524\tC\tG\n",
            "16\tsnp129\t0\t4733538\tT\tC\n"
          ]
        }
      ]
    },
    {
      "cell_type": "markdown",
      "metadata": {
        "id": "NT_iFkB-MWan"
      },
      "source": [
        "## 8. Filter some lines from a file using `grep`."
      ]
    },
    {
      "cell_type": "code",
      "metadata": {
        "id": "TThV3EfpMWvB",
        "colab": {
          "base_uri": "https://localhost:8080/"
        },
        "outputId": "0ef92bef-913f-437b-a7e3-7bc0090a444a"
      },
      "source": [
        "! echo \"Original Lines\"\n",
        "! head /content/drive/My\\ Drive/BINF309_Introduction_to_Python/example_data/discrete/training.bim\n",
        "\n",
        "print()\n",
        "\n",
        "! echo \"FILTERED for lines including A\"\n",
        "! grep \"A\" /content/drive/My\\ Drive/BINF309_Introduction_to_Python/example_data/discrete/training.bim | head"
      ],
      "execution_count": null,
      "outputs": [
        {
          "output_type": "stream",
          "name": "stdout",
          "text": [
            "Original Lines\n",
            "1\tsnp410\t0\t10638604\tT\tC\n",
            "1\tsnp403\t0\t12013215\tT\tC\n",
            "1\tsnp164\t0\t15857302\tC\tT\n",
            "1\tsnp363\t0\t15903085\tT\tG\n",
            "1\tsnp439\t0\t16306012\tG\tC\n",
            "1\tsnp370\t0\t16326935\tA\tG\n",
            "1\tsnp389\t0\t24192750\tT\tC\n",
            "1\tsnp475\t0\t26574432\tT\tG\n",
            "1\tsnp399\t0\t26840826\tA\tG\n",
            "1\tsnp87\t0\t31765968\tC\tT\n",
            "\n",
            "FILTERED for lines including A\n",
            "1\tsnp370\t0\t16326935\tA\tG\n",
            "1\tsnp399\t0\t26840826\tA\tG\n",
            "1\tsnp308\t0\t43623111\tG\tA\n",
            "1\tsnp420\t0\t76303720\tG\tA\n",
            "1\tsnp344\t0\t76328894\tA\tG\n",
            "1\tsnp379\t0\t100358200\tG\tA\n",
            "1\tsnp445\t0\t107216557\tA\tG\n",
            "1\tsnp360\t0\t109384512\tA\tG\n",
            "1\tsnp432\t0\t155120012\tG\tA\n",
            "1\tsnp28\t0\t155135036\tA\tG\n"
          ]
        }
      ]
    },
    {
      "cell_type": "markdown",
      "metadata": {
        "id": "m3N5THK1MXFG"
      },
      "source": [
        "## 9. Pipe two commands together using `|`."
      ]
    },
    {
      "cell_type": "code",
      "metadata": {
        "id": "n3m-RLXkMXQA",
        "colab": {
          "base_uri": "https://localhost:8080/"
        },
        "outputId": "186bd488-8520-4a38-e029-dae53a6b1130"
      },
      "source": [
        "! echo \"Original Lines\"\n",
        "! head /content/drive/My\\ Drive/BINF309_Introduction_to_Python/example_data/discrete/training.bim\n",
        "\n",
        "print()\n",
        "\n",
        "! echo \"Substitute snp with snipped\"\n",
        "! sed 's/snp/snipped/g' /content/drive/My\\ Drive/BINF309_Introduction_to_Python/example_data/discrete/training.bim | head"
      ],
      "execution_count": null,
      "outputs": [
        {
          "output_type": "stream",
          "name": "stdout",
          "text": [
            "Original Lines\n",
            "1\tsnp410\t0\t10638604\tT\tC\n",
            "1\tsnp403\t0\t12013215\tT\tC\n",
            "1\tsnp164\t0\t15857302\tC\tT\n",
            "1\tsnp363\t0\t15903085\tT\tG\n",
            "1\tsnp439\t0\t16306012\tG\tC\n",
            "1\tsnp370\t0\t16326935\tA\tG\n",
            "1\tsnp389\t0\t24192750\tT\tC\n",
            "1\tsnp475\t0\t26574432\tT\tG\n",
            "1\tsnp399\t0\t26840826\tA\tG\n",
            "1\tsnp87\t0\t31765968\tC\tT\n",
            "\n",
            "Substitute snp with snipped\n",
            "1\tsnipped410\t0\t10638604\tT\tC\n",
            "1\tsnipped403\t0\t12013215\tT\tC\n",
            "1\tsnipped164\t0\t15857302\tC\tT\n",
            "1\tsnipped363\t0\t15903085\tT\tG\n",
            "1\tsnipped439\t0\t16306012\tG\tC\n",
            "1\tsnipped370\t0\t16326935\tA\tG\n",
            "1\tsnipped389\t0\t24192750\tT\tC\n",
            "1\tsnipped475\t0\t26574432\tT\tG\n",
            "1\tsnipped399\t0\t26840826\tA\tG\n",
            "1\tsnipped87\t0\t31765968\tC\tT\n"
          ]
        }
      ]
    },
    {
      "cell_type": "markdown",
      "metadata": {
        "id": "ffYKCCsiMXbc"
      },
      "source": [
        "## 10. Write an equivalent `awk` and `cut` command. Two commands with near identical results."
      ]
    },
    {
      "cell_type": "code",
      "metadata": {
        "id": "HAx_qI5OMXru",
        "colab": {
          "base_uri": "https://localhost:8080/"
        },
        "outputId": "5273212e-ef79-41e1-9f44-7120f59a9fee"
      },
      "source": [
        "! echo \"CUT result\"\n",
        "! cut -f 2 -d ',' /content/drive/My\\ Drive/BINF309_Introduction_to_Python/example_data/discrete/example_GWAS.csv > column2_cut.txt\n",
        "! head column2_cut.txt\n",
        "\n",
        "print()\n",
        "\n",
        "! echo \"AWK result\"\n",
        "! awk -F ',' '{print $2}' /content/drive/My\\ Drive/BINF309_Introduction_to_Python/example_data/discrete/example_GWAS.csv > column2_awk.txt\n",
        "! head column2_awk.txt"
      ],
      "execution_count": null,
      "outputs": [
        {
          "output_type": "stream",
          "name": "stdout",
          "text": [
            "CUT result\n",
            "A1\n",
            "A\n",
            "A\n",
            "T\n",
            "A\n",
            "T\n",
            "A\n",
            "T\n",
            "A\n",
            "T\n",
            "\n",
            "AWK result\n",
            "A1\n",
            "A\n",
            "A\n",
            "T\n",
            "A\n",
            "T\n",
            "A\n",
            "T\n",
            "A\n",
            "T\n"
          ]
        }
      ]
    },
    {
      "cell_type": "markdown",
      "metadata": {
        "id": "IXN9yr_LtSYT"
      },
      "source": [
        "# Thanks, see you in the next unit!"
      ]
    }
  ]
}