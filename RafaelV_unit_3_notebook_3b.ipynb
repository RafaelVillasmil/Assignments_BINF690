{
  "nbformat": 4,
  "nbformat_minor": 0,
  "metadata": {
    "colab": {
      "name": "RafaelV_unit_3_notebook_3b.ipynb",
      "provenance": [],
      "collapsed_sections": [],
      "toc_visible": true,
      "include_colab_link": true
    },
    "kernelspec": {
      "name": "python3",
      "display_name": "Python 3"
    }
  },
  "cells": [
    {
      "cell_type": "markdown",
      "metadata": {
        "id": "view-in-github",
        "colab_type": "text"
      },
      "source": [
        "<a href=\"https://colab.research.google.com/github/RafaelVillasmil/BIOF309_Introduction_to_Python/blob/main/RafaelV_unit_3_notebook_3b.ipynb\" target=\"_parent\"><img src=\"https://colab.research.google.com/assets/colab-badge.svg\" alt=\"Open In Colab\"/></a>"
      ]
    },
    {
      "cell_type": "markdown",
      "metadata": {
        "id": "lwuTCUVlJeY6"
      },
      "source": [
        "# Unit 3 - Instructional DEMO 3b: Operational structures - Conditional statements.\n",
        " - **Focus:** Conditional statements. \n",
        " - **Author(s):** Sara B-C.\n",
        " - **Date Notebook Last Modified:** 08.16.2020\n",
        " - **Quick Description:** Use this notebook to learn conditional statements and nested conditional statements. In the beginning, just hit play at each cell and watch how things work. Once you are done, you can download the finished results. **There are some exercises to complete at the end!**\n",
        "\n",
        "---\n",
        "## Code outline\n",
        "  0. Set up file stream (yep, this is in every notebook).\n",
        "  1. If.\n",
        "  2. Else.\n",
        "  3. Elif.   \n",
        "  4. If + elif + else.\n",
        "  5. Prepping for loops (an appetizer for the next module!).\n",
        "\n",
        "---\n",
        "## Additional notes\n",
        "*   Conditional statements will be very useful in your scientific career, particularly when dealing with dirty data and prepping for loops."
      ]
    },
    {
      "cell_type": "markdown",
      "metadata": {
        "id": "XuUnubnFH9xZ"
      },
      "source": [
        "## 0. Lets set up filestream access\n",
        "Follow the directions on screen as you run the code cell below and then you can access the data stored on your 'My Drive'. For many of you, this is the first python code you will ever execute knowingly, as most google infrastructure is python based (another reason why the language is growing)... You did this before, let's go!"
      ]
    },
    {
      "cell_type": "code",
      "metadata": {
        "id": "D2qRSmw3GUNA",
        "colab": {
          "base_uri": "https://localhost:8080/",
          "height": 0
        },
        "outputId": "5e17c971-3bd8-44e1-87fe-c022a1181069"
      },
      "source": [
        "import os\n",
        "from google.colab import drive\n",
        "drive.mount('/content/drive/')\n",
        "os.chdir(\"/content/drive/My Drive/BINF309_Introduction_to_Python/example_data/\")"
      ],
      "execution_count": 2,
      "outputs": [
        {
          "output_type": "stream",
          "name": "stdout",
          "text": [
            "Drive already mounted at /content/drive/; to attempt to forcibly remount, call drive.mount(\"/content/drive/\", force_remount=True).\n"
          ]
        }
      ]
    },
    {
      "cell_type": "markdown",
      "metadata": {
        "id": "mITVzECaO2j6"
      },
      "source": [
        "Above you should now see the output \"Mounted at /content/drive/\". This means your storage is now connected to your notebook and its runtime. A runtime is the computer it will use to execute code and other computations. We'll cover what the above code means once you have learned some more python."
      ]
    },
    {
      "cell_type": "markdown",
      "metadata": {
        "id": "GD8TX9ZoUxd5"
      },
      "source": [
        "## 1. The If statement\n"
      ]
    },
    {
      "cell_type": "code",
      "metadata": {
        "id": "RHliNCrvVAkc",
        "colab": {
          "base_uri": "https://localhost:8080/",
          "height": 0
        },
        "outputId": "4603a0a2-6b0c-481e-c429-fcff4db879c8"
      },
      "source": [
        "# An example of an if statement\n",
        "jersey = 23\n",
        "\n",
        "if jersey == 23:\n",
        "  print(jersey, \"is Michael Jordan.\")"
      ],
      "execution_count": 3,
      "outputs": [
        {
          "output_type": "stream",
          "name": "stdout",
          "text": [
            "23 is Michael Jordan.\n"
          ]
        }
      ]
    },
    {
      "cell_type": "markdown",
      "metadata": {
        "id": "cIO-6lW3aMhn"
      },
      "source": [
        "## 2. The Else statement\n",
        "\n"
      ]
    },
    {
      "cell_type": "code",
      "metadata": {
        "id": "jnT8f_uefYCK"
      },
      "source": [
        "# What if the jersey number doesn't equal 23 using the same if statement\n",
        "jersey = 91\n",
        "\n",
        "if jersey == 23:\n",
        "  print(jersey, \"is Michael Jordan.\") # you get nothing"
      ],
      "execution_count": 3,
      "outputs": []
    },
    {
      "cell_type": "code",
      "metadata": {
        "id": "DXljF7sJhiij",
        "colab": {
          "base_uri": "https://localhost:8080/",
          "height": 0
        },
        "outputId": "83ee062c-d429-4458-c73f-0a4a71027a80"
      },
      "source": [
        "# We can change this \"get nothing result by adding an else\"\n",
        "jersey = 91\n",
        "\n",
        "if jersey == 23:\n",
        "  print(jersey, \"is Michael Jordan.\")\n",
        "else:\n",
        "  print(jersey, \"is somebody else on the '95 Chicago .\")"
      ],
      "execution_count": 4,
      "outputs": [
        {
          "output_type": "stream",
          "name": "stdout",
          "text": [
            "91 is somebody else on the '95 Chicago .\n"
          ]
        }
      ]
    },
    {
      "cell_type": "markdown",
      "metadata": {
        "id": "POhPV15zi9ZO"
      },
      "source": [
        "## 3. The Elif statement\n"
      ]
    },
    {
      "cell_type": "code",
      "metadata": {
        "id": "S87iYItTjMeS",
        "colab": {
          "base_uri": "https://localhost:8080/",
          "height": 0
        },
        "outputId": "54d4b35c-38c8-428a-c9f9-3947447e50cb"
      },
      "source": [
        "# Let's take the conditional statement above and add some more criteria to it using elif\n",
        "jersey = 91\n",
        "\n",
        "if jersey == 23:\n",
        "  print(jersey, \"is Michael Jordan.\")\n",
        "elif jersey == 91:\n",
        "  print(jersey, \"is Dennis Rodman, thats pretty cool too.\")"
      ],
      "execution_count": 5,
      "outputs": [
        {
          "output_type": "stream",
          "name": "stdout",
          "text": [
            "91 is Dennis Rodman, thats pretty cool too.\n"
          ]
        }
      ]
    },
    {
      "cell_type": "code",
      "metadata": {
        "id": "5-nDo6kojAUc",
        "colab": {
          "base_uri": "https://localhost:8080/",
          "height": 0
        },
        "outputId": "f7f90d66-da4b-4b4e-a211-a572e4d084b9"
      },
      "source": [
        "jersey = 23\n",
        "\n",
        "if jersey == 23:\n",
        "  print(jersey, \"is Michael Jordan.\")\n",
        "elif jersey == 91:\n",
        "  print(jersey, \"is Dennis Rodman, thats pretty cool too.\")"
      ],
      "execution_count": 6,
      "outputs": [
        {
          "output_type": "stream",
          "name": "stdout",
          "text": [
            "23 is Michael Jordan.\n"
          ]
        }
      ]
    },
    {
      "cell_type": "code",
      "metadata": {
        "id": "As1VuWhOjD9E"
      },
      "source": [
        "jersey = 33\n",
        "\n",
        "if jersey == 23:\n",
        "  print(jersey, \"is Michael Jordan.\")\n",
        "elif jersey == 91:\n",
        "  print(jersey, \"is Dennis Rodman, thats pretty cool too.\")\n",
        "# This returns nothing"
      ],
      "execution_count": 7,
      "outputs": []
    },
    {
      "cell_type": "markdown",
      "metadata": {
        "id": "JCZ1RMiWkW_3"
      },
      "source": [
        "## 4. If + elif + else.\n"
      ]
    },
    {
      "cell_type": "code",
      "metadata": {
        "id": "mwGA2Gbekj-D",
        "colab": {
          "base_uri": "https://localhost:8080/",
          "height": 0
        },
        "outputId": "3d2891f0-b3cc-4ca6-98a9-55eb0b30ef92"
      },
      "source": [
        "jersey = 33\n",
        "\n",
        "if jersey == 23:\n",
        "  print(jersey, \"is Michael Jordan.\")\n",
        "elif jersey == 91:\n",
        "  print(jersey, \"is Dennis Rodman, thats pretty cool too.\")\n",
        "elif jersey == 33:\n",
        "  print(jersey, \"is Scottie Pippen, he deserved a better contract\")\n",
        "else:\n",
        "  print(jersey, \"is somebody else on the '95 Chicago Bulls.\")"
      ],
      "execution_count": 8,
      "outputs": [
        {
          "output_type": "stream",
          "name": "stdout",
          "text": [
            "33 is Scottie Pippen, he deserved a better contract\n"
          ]
        }
      ]
    },
    {
      "cell_type": "markdown",
      "metadata": {
        "id": "dk_AdyrqnhO8"
      },
      "source": [
        "## 5. Prepping for loops (an appetizer for the next module!).\n"
      ]
    },
    {
      "cell_type": "code",
      "metadata": {
        "id": "LDXWIAylnvJz",
        "colab": {
          "base_uri": "https://localhost:8080/",
          "height": 0
        },
        "outputId": "d79bf471-4341-4cc1-b6ac-d6ea9d921fce"
      },
      "source": [
        "example_list = ['Jordan','Rodman','Pippen','Grant']\n",
        "for i in example_list:\n",
        "  if i != 'Grant':\n",
        "    print(i, \"is cool!\")\n",
        "  else:\n",
        "    print(i, \", hmmm?\")"
      ],
      "execution_count": 4,
      "outputs": [
        {
          "output_type": "stream",
          "name": "stdout",
          "text": [
            "Jordan is cool!\n",
            "Rodman is cool!\n",
            "Pippen is cool!\n",
            "Grant , hmmm?\n"
          ]
        }
      ]
    },
    {
      "cell_type": "markdown",
      "metadata": {
        "id": "p_oU-yokpSTX"
      },
      "source": [
        "**Makes sense, now on to some exercises ...**"
      ]
    },
    {
      "cell_type": "markdown",
      "metadata": {
        "id": "GvJ8ZwG7pn0K"
      },
      "source": [
        "# Unit 3 - Assignment # 3b\n",
        "***Come here to prove your knowledge.***\n",
        "\n",
        "Text cells will indicate a task.  \n",
        "Write your commands in the empty code cells below them."
      ]
    },
    {
      "cell_type": "markdown",
      "metadata": {
        "id": "wxbBn9dRqUzJ"
      },
      "source": [
        "## 1. Make an `if` statement that prints a positive message."
      ]
    },
    {
      "cell_type": "code",
      "metadata": {
        "id": "ELzciBM8qVKJ",
        "colab": {
          "base_uri": "https://localhost:8080/",
          "height": 0
        },
        "outputId": "310550fa-57d8-4b21-c1f0-f9de056de2b6"
      },
      "source": [
        "motivated = False\n",
        "if motivated == False:\n",
        "  print(\"Nothing is impossible. The word itself says 'I’m possible'! — Audrey Hepburn\")\n"
      ],
      "execution_count": 10,
      "outputs": [
        {
          "output_type": "stream",
          "name": "stdout",
          "text": [
            "Nothing is impossible. The word itself says 'I’m possible'! — Audrey Hepburn\n"
          ]
        }
      ]
    },
    {
      "cell_type": "markdown",
      "metadata": {
        "id": "2aYrQJ3sqeyY"
      },
      "source": [
        "## 2. Add an `else` to the statement above."
      ]
    },
    {
      "cell_type": "code",
      "metadata": {
        "id": "9IqnLYX9q1_f",
        "colab": {
          "base_uri": "https://localhost:8080/",
          "height": 0
        },
        "outputId": "2b3a7353-05b8-4654-ffa0-9d021b2eb52e"
      },
      "source": [
        "motivated = True\n",
        "if motivated == False:\n",
        "  print(\"Nothing is impossible. The word itself says 'I’m possible'!— Audrey Hepburn\")\n",
        "else:\n",
        "  print(\"The secret of getting ahead is getting started. – Mark Twain\")"
      ],
      "execution_count": 15,
      "outputs": [
        {
          "output_type": "stream",
          "name": "stdout",
          "text": [
            "The secret of getting ahead is getting started. – Mark Twain\n"
          ]
        }
      ]
    },
    {
      "cell_type": "markdown",
      "metadata": {
        "id": "8jmiJDlcq2wa"
      },
      "source": [
        "## 3. Now put an `elif` in between the `if` and `else` above."
      ]
    },
    {
      "cell_type": "code",
      "metadata": {
        "id": "FOBJ2pQdrJu-",
        "colab": {
          "base_uri": "https://localhost:8080/",
          "height": 0
        },
        "outputId": "565a9acc-c2b9-4ce1-fb1f-7d63502c46a3"
      },
      "source": [
        "motivated = []\n",
        "if motivated == False:\n",
        "  print(\"Nothing is impossible. The word itself says 'I’m possible'!— Audrey Hepburn\")\n",
        "elif motivated == True:\n",
        "  print(\"The secret of getting ahead is getting started. – Mark Twain\")\n",
        "else:\n",
        "  print(\"Even nice things don't make you happy when you're tired. – Jo Brand\")"
      ],
      "execution_count": 16,
      "outputs": [
        {
          "output_type": "stream",
          "name": "stdout",
          "text": [
            "Even nice things don't make you happy when you're tired. – Jo Brand\n"
          ]
        }
      ]
    },
    {
      "cell_type": "markdown",
      "metadata": {
        "id": "Z1Ma26-wrLhL"
      },
      "source": [
        "## 4. Write an `if` statement using numbers instead of strings."
      ]
    },
    {
      "cell_type": "code",
      "metadata": {
        "id": "rNgJSh9PsAp0",
        "colab": {
          "base_uri": "https://localhost:8080/",
          "height": 0
        },
        "outputId": "ba59ad00-10d3-47e7-f0bd-499ed098995f"
      },
      "source": [
        "temperature = 64\n",
        "if temperature <= 65:\n",
        "  print(\"Room temperature is:\", temperature, \"Fahrenheit\")\n",
        "  print(\"Check thermostate\")\n"
      ],
      "execution_count": 22,
      "outputs": [
        {
          "output_type": "stream",
          "name": "stdout",
          "text": [
            "Room temperature is: 64 Fahrenheit\n",
            "Check thermostate\n"
          ]
        }
      ]
    },
    {
      "cell_type": "markdown",
      "metadata": {
        "id": "HK1bZqF5sBSC"
      },
      "source": [
        "## 5. Add an `else` to that statement above. Extra kudos if you use `>` or `<` in the statements."
      ]
    },
    {
      "cell_type": "code",
      "metadata": {
        "id": "r8u8qObJsoc1",
        "colab": {
          "base_uri": "https://localhost:8080/"
        },
        "outputId": "a1ef1363-4cd9-4c71-d6f6-4ece5c32c218"
      },
      "source": [
        "temperature = 78\n",
        "low_temp_limit = 70\n",
        "high_temp_limit = 73\n",
        "\n",
        "if temperature <= low_temp_limit:\n",
        "  print(\"Room temperature is:\", temperature, \"Fahrenheit\")\n",
        "  print(\"Check thermostat and set to\", low_temp_limit)\n",
        "elif temperature > high_temp_limit:\n",
        "  print(\"Room temperature is:\", temperature, \"Fahrenheit\")\n",
        "  print(\"Check thermostat and set to\", low_temp_limit)\n",
        "else:\n",
        "  print(\"Room temperature is:\", temperature, \"Fahrenheit\")"
      ],
      "execution_count": 29,
      "outputs": [
        {
          "output_type": "stream",
          "name": "stdout",
          "text": [
            "Room temperature is: 78 Fahrenheit\n",
            "Check thermostat and set to 70\n"
          ]
        }
      ]
    },
    {
      "cell_type": "markdown",
      "metadata": {
        "id": "IXN9yr_LtSYT"
      },
      "source": [
        "# Thanks, see you in the next unit!"
      ]
    }
  ]
}