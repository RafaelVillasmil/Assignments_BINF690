{
  "nbformat": 4,
  "nbformat_minor": 0,
  "metadata": {
    "colab": {
      "name": "RafaelV_unit_3_notebook_3c.ipynb",
      "provenance": [],
      "collapsed_sections": [],
      "toc_visible": true,
      "include_colab_link": true
    },
    "kernelspec": {
      "name": "python3",
      "display_name": "Python 3"
    }
  },
  "cells": [
    {
      "cell_type": "markdown",
      "metadata": {
        "id": "view-in-github",
        "colab_type": "text"
      },
      "source": [
        "<a href=\"https://colab.research.google.com/github/RafaelVillasmil/BIOF309_Introduction_to_Python/blob/main/RafaelV_unit_3_notebook_3c.ipynb\" target=\"_parent\"><img src=\"https://colab.research.google.com/assets/colab-badge.svg\" alt=\"Open In Colab\"/></a>"
      ]
    },
    {
      "cell_type": "markdown",
      "metadata": {
        "id": "lwuTCUVlJeY6"
      },
      "source": [
        "# Unit 3 - Instructional DEMO 3c: Operational structures - Loops\n",
        " - **Focus:** Loops. \n",
        " - **Author(s):** Sara B-C.\n",
        " - **Date Notebook Last Modified:** 08.16.2020\n",
        " - **Quick Description:** Use this notebook to learn loops, this is where the fun begins! Why manually do repeated tasks after all? In the beginning, just hit play at each cell and watch how things work. Once you are done, you can download the finished results. **There are some exercises to complete at the end!**\n",
        "\n",
        "---\n",
        "## Code outline\n",
        "  0. Set up file stream (yep, this is in every notebook).\n",
        "  1. For loops.\n",
        "  2. While loops.\n",
        "  3. Combined loops \n",
        "  4. Controlling loops\n",
        "  5. Iterators.\n",
        "\n",
        "---\n",
        "## Additional notes\n",
        "*   Loops rely on much of what we have covered previously and can be considered a synthesis of previous learning modules."
      ]
    },
    {
      "cell_type": "markdown",
      "metadata": {
        "id": "XuUnubnFH9xZ"
      },
      "source": [
        "## 0. Lets set up filestream access\n",
        "Follow the directions on screen as you run the code cell below and then you can access the data stored on your 'My Drive'. For many of you, this is the first python code you will ever execute knowingly, as most google infrastructure is python based (another reason why the language is growing)... You did this before, let's go!"
      ]
    },
    {
      "cell_type": "code",
      "metadata": {
        "id": "D2qRSmw3GUNA",
        "colab": {
          "base_uri": "https://localhost:8080/"
        },
        "outputId": "e5fd92e8-f272-4f61-ce03-0d6b8f1ffdb5"
      },
      "source": [
        "import os\n",
        "from google.colab import drive\n",
        "drive.mount('/content/drive/')\n",
        "os.chdir(\"/content/drive/My Drive/BINF309_Introduction_to_Python/example_data/\")"
      ],
      "execution_count": 2,
      "outputs": [
        {
          "output_type": "stream",
          "name": "stdout",
          "text": [
            "Drive already mounted at /content/drive/; to attempt to forcibly remount, call drive.mount(\"/content/drive/\", force_remount=True).\n"
          ]
        }
      ]
    },
    {
      "cell_type": "markdown",
      "metadata": {
        "id": "mITVzECaO2j6"
      },
      "source": [
        "Above you should now see the output \"Mounted at /content/drive/\". This means your storage is now connected to your notebook and its runtime. A runtime is the computer it will use to execute code and other computations. We'll cover what the above code means once you have learned some more python."
      ]
    },
    {
      "cell_type": "markdown",
      "metadata": {
        "id": "cIO-6lW3aMhn"
      },
      "source": [
        "## 1. For loops\n",
        "This is likely what you will use the most in biomedical research.\n"
      ]
    },
    {
      "cell_type": "code",
      "metadata": {
        "id": "jnT8f_uefYCK",
        "colab": {
          "base_uri": "https://localhost:8080/"
        },
        "outputId": "d83eb816-98a4-4d6d-81c8-51a58a821120"
      },
      "source": [
        "modalities = ['GWAS', 'single cell RNA', 'clinical', 'demographic', 'cell line screen'] # make a list of common data modalities\n",
        "\n",
        "for modality in modalities:\n",
        "  print(modality, 'is in this report.')"
      ],
      "execution_count": 3,
      "outputs": [
        {
          "output_type": "stream",
          "name": "stdout",
          "text": [
            "GWAS is in this report.\n",
            "single cell RNA is in this report.\n",
            "clinical is in this report.\n",
            "demographic is in this report.\n",
            "cell line screen is in this report.\n"
          ]
        }
      ]
    },
    {
      "cell_type": "markdown",
      "metadata": {
        "id": "GD8TX9ZoUxd5"
      },
      "source": [
        "## 2. While loops.\n",
        "In simplest terms, `while` starts somewhere and ends somewhere else specified by the statements. Its companion concept `for` iterates through a set a pre-defined parameters."
      ]
    },
    {
      "cell_type": "code",
      "metadata": {
        "id": "RHliNCrvVAkc",
        "colab": {
          "base_uri": "https://localhost:8080/"
        },
        "outputId": "fb77d8ba-b8d8-464b-edaa-f9a26ef6c385"
      },
      "source": [
        "this_number = 0\n",
        "while (this_number < 13):\n",
        "   print('The current number is:', this_number)\n",
        "   this_number = this_number + 1\n",
        "\n",
        "print(\"Lucky number 13, we are out of here!\")"
      ],
      "execution_count": 4,
      "outputs": [
        {
          "output_type": "stream",
          "name": "stdout",
          "text": [
            "The current number is: 0\n",
            "The current number is: 1\n",
            "The current number is: 2\n",
            "The current number is: 3\n",
            "The current number is: 4\n",
            "The current number is: 5\n",
            "The current number is: 6\n",
            "The current number is: 7\n",
            "The current number is: 8\n",
            "The current number is: 9\n",
            "The current number is: 10\n",
            "The current number is: 11\n",
            "The current number is: 12\n",
            "Lucky number 13, we are out of here!\n"
          ]
        }
      ]
    },
    {
      "cell_type": "markdown",
      "metadata": {
        "id": "POhPV15zi9ZO"
      },
      "source": [
        "## 3. Combined loops\n",
        "Maybe you don't have any single cell RNA data in your report?"
      ]
    },
    {
      "cell_type": "code",
      "metadata": {
        "id": "S87iYItTjMeS",
        "colab": {
          "base_uri": "https://localhost:8080/"
        },
        "outputId": "c88e347d-90bc-44ba-9b84-12121e98ec68"
      },
      "source": [
        "modalities = ['GWAS', 'single cell RNA', 'clinical', 'demographic', 'cell line screen'] # make a list of common data modalities\n",
        "\n",
        "for modality in modalities:\n",
        "  if modality != 'single cell RNA':\n",
        "    print(modality, '... check!')\n",
        "  if modality == 'single cell RNA':\n",
        "    print(\"Sorry the lab ran out of $ before the fiscal year, no single cell RNA is available.\")"
      ],
      "execution_count": 5,
      "outputs": [
        {
          "output_type": "stream",
          "name": "stdout",
          "text": [
            "GWAS ... check!\n",
            "Sorry the lab ran out of $ before the fiscal year, no single cell RNA is available.\n",
            "clinical ... check!\n",
            "demographic ... check!\n",
            "cell line screen ... check!\n"
          ]
        }
      ]
    },
    {
      "cell_type": "markdown",
      "metadata": {
        "id": "JCZ1RMiWkW_3"
      },
      "source": [
        "## 4. Controlling loops: continue + break.\n"
      ]
    },
    {
      "cell_type": "code",
      "metadata": {
        "id": "mwGA2Gbekj-D",
        "colab": {
          "base_uri": "https://localhost:8080/"
        },
        "outputId": "2ee6e31e-e55a-46d1-e709-a5d3a25bbe2b"
      },
      "source": [
        "# Lets say that the modalities were run in sequence above and we ran out of money at the GWAS.\n",
        "modalities = ['GWAS', 'single cell RNA', 'clinical', 'demographic', 'cell line screen'] # make a list of common data modalities\n",
        "\n",
        "for modality in modalities:\n",
        "  if modality == 'single cell RNA':\n",
        "    break\n",
        "  print(modality, '... check!')\n",
        "\n",
        "print(\"Then we ran out of money for other modalities.\") # Note how `break` is sequentially related to the list."
      ],
      "execution_count": 6,
      "outputs": [
        {
          "output_type": "stream",
          "name": "stdout",
          "text": [
            "GWAS ... check!\n",
            "Then we ran out of money for other modalities.\n"
          ]
        }
      ]
    },
    {
      "cell_type": "code",
      "metadata": {
        "id": "LKj7KRRcxvkU",
        "colab": {
          "base_uri": "https://localhost:8080/"
        },
        "outputId": "4b27799f-1327-4199-9183-3e4a9c6fc63b"
      },
      "source": [
        "# Lets say that the modalities were run in concurrently above and we still ran out of money to complete the single cell RNA work.\n",
        "modalities = ['GWAS', 'single cell RNA', 'clinical', 'demographic', 'cell line screen'] # make a list of common data modalities\n",
        "\n",
        "for modality in modalities:\n",
        "  if modality == 'single cell RNA':\n",
        "    continue\n",
        "  print(modality, '... check!')\n",
        "\n",
        "print(\"Then we ran out of money for other modalities.\")"
      ],
      "execution_count": 7,
      "outputs": [
        {
          "output_type": "stream",
          "name": "stdout",
          "text": [
            "GWAS ... check!\n",
            "clinical ... check!\n",
            "demographic ... check!\n",
            "cell line screen ... check!\n",
            "Then we ran out of money for other modalities.\n"
          ]
        }
      ]
    },
    {
      "cell_type": "markdown",
      "metadata": {
        "id": "dk_AdyrqnhO8"
      },
      "source": [
        "## 5. Iterators\n"
      ]
    },
    {
      "cell_type": "code",
      "metadata": {
        "id": "LDXWIAylnvJz",
        "colab": {
          "base_uri": "https://localhost:8080/"
        },
        "outputId": "82b256bb-70e0-4900-e933-8985d06a36ac"
      },
      "source": [
        "# You can also make a loop that is similar to a list via iterators and its built-in `next`.\n",
        "I = iter([1, 3, 5, 7, 9]) # Iterators are simpler but slower than `for` generally, we like speed.\n",
        "print(next(I))\n",
        "print(next(I))\n",
        "print(next(I))\n",
        "print(next(I))\n",
        "print(next(I))"
      ],
      "execution_count": 8,
      "outputs": [
        {
          "output_type": "stream",
          "name": "stdout",
          "text": [
            "1\n",
            "3\n",
            "5\n",
            "7\n",
            "9\n"
          ]
        }
      ]
    },
    {
      "cell_type": "code",
      "metadata": {
        "id": "G3sBP8S802tF",
        "colab": {
          "base_uri": "https://localhost:8080/"
        },
        "outputId": "0641bb26-0064-49b9-b2a9-14d65d5e4767"
      },
      "source": [
        "# Range is like a shorthand for numeric list components.\n",
        "for i in range(1,14):\n",
        "  print(i)\n",
        "\n",
        "print(\"Remember, you start at the floor but stop before the ceiling.\")"
      ],
      "execution_count": 9,
      "outputs": [
        {
          "output_type": "stream",
          "name": "stdout",
          "text": [
            "1\n",
            "2\n",
            "3\n",
            "4\n",
            "5\n",
            "6\n",
            "7\n",
            "8\n",
            "9\n",
            "10\n",
            "11\n",
            "12\n",
            "13\n",
            "Remember, you start at the floor but stop before the ceiling.\n"
          ]
        }
      ]
    },
    {
      "cell_type": "code",
      "metadata": {
        "id": "Om_3VJu91x4V",
        "colab": {
          "base_uri": "https://localhost:8080/"
        },
        "outputId": "dabaca14-0f82-4f64-f66f-950c24934f53"
      },
      "source": [
        "for i in range(14):\n",
        "  print(i)\n",
        "\n",
        "print(\"Remember, if not specified, we start at 0.\")"
      ],
      "execution_count": 10,
      "outputs": [
        {
          "output_type": "stream",
          "name": "stdout",
          "text": [
            "0\n",
            "1\n",
            "2\n",
            "3\n",
            "4\n",
            "5\n",
            "6\n",
            "7\n",
            "8\n",
            "9\n",
            "10\n",
            "11\n",
            "12\n",
            "13\n",
            "Remember, if not specified, we start at 0.\n"
          ]
        }
      ]
    },
    {
      "cell_type": "markdown",
      "metadata": {
        "id": "p_oU-yokpSTX"
      },
      "source": [
        "**Makes sense, now on to some exercises ...**"
      ]
    },
    {
      "cell_type": "markdown",
      "metadata": {
        "id": "GvJ8ZwG7pn0K"
      },
      "source": [
        "# Unit 3 - Assignment #3c\n",
        "***Come here to prove your knowledge.***\n",
        "\n",
        "Text cells will indicate a task.  \n",
        "Write your commands in the empty code cells below them."
      ]
    },
    {
      "cell_type": "markdown",
      "metadata": {
        "id": "wxbBn9dRqUzJ"
      },
      "source": [
        "## 1. Write a simple `while` loop."
      ]
    },
    {
      "cell_type": "code",
      "metadata": {
        "id": "ELzciBM8qVKJ",
        "colab": {
          "base_uri": "https://localhost:8080/"
        },
        "outputId": "932e06fc-8807-4ac4-dec6-978874b222fc"
      },
      "source": [
        "# code finds a random value by sheer luck\n",
        "\n",
        "from random import seed\n",
        "from random import randint\n",
        "seed(1)\n",
        "lowest_value = 0\n",
        "highest_value = 1000\n",
        "value = randint(lowest_value, highest_value)\n",
        "guess = randint(lowest_value, highest_value)\n",
        "\n",
        "counter = 0\n",
        "while value != guess:                             # while loop check guesses\n",
        "  counter += 1\n",
        "  guess = randint(lowest_value, highest_value)\n",
        "\n",
        "print(\"After\", counter, \"tries. \", \"The value was found to be: \", value)\n",
        "\n",
        "\n",
        "\n",
        "\n"
      ],
      "execution_count": 58,
      "outputs": [
        {
          "output_type": "stream",
          "name": "stdout",
          "text": [
            "After 1572 tries.  The value was found to be:  137\n"
          ]
        }
      ]
    },
    {
      "cell_type": "markdown",
      "metadata": {
        "id": "2aYrQJ3sqeyY"
      },
      "source": [
        "## 2. Write a simple `for` loop."
      ]
    },
    {
      "cell_type": "code",
      "metadata": {
        "id": "9IqnLYX9q1_f",
        "colab": {
          "base_uri": "https://localhost:8080/"
        },
        "outputId": "a0c2c73a-e213-4f0b-843e-f015314a33eb"
      },
      "source": [
        "# code to combine bases into a DNA sequence \n",
        "\n",
        "# List of bases\n",
        "bases = [\"A\",\"G\",\"G\",\"C\",\"G\",\"T\",\"A\",\"G\",\"A\",\"C\"]\n",
        "\n",
        "# variable to store the sequence\n",
        "sequence = \"\"\n",
        "\n",
        "# iterate over the list\n",
        "for val in bases:                                    # for loop adds bases\n",
        "    sequence = sequence + str(val)\n",
        "\n",
        "print(\"The sequence is\", sequence)"
      ],
      "execution_count": 34,
      "outputs": [
        {
          "output_type": "stream",
          "name": "stdout",
          "text": [
            "The sequence is AGGCGTAGAC\n"
          ]
        }
      ]
    },
    {
      "cell_type": "markdown",
      "metadata": {
        "id": "8jmiJDlcq2wa"
      },
      "source": [
        "## 3. Add a condition to the `for` loop above."
      ]
    },
    {
      "cell_type": "code",
      "metadata": {
        "id": "FOBJ2pQdrJu-",
        "colab": {
          "base_uri": "https://localhost:8080/"
        },
        "outputId": "fe134b66-791b-4f14-ec1f-b5fb4352aac6"
      },
      "source": [
        "# code to combine bases in to DNA sequence and mRNA\n",
        "\n",
        "# List of bases\n",
        "bases = [\"A\",\"T\",\"G\",\"C\",\"G\",\"T\",\"A\",\"G\",\"A\",\"C\"]\n",
        "\n",
        "# variable to store the sequence\n",
        "DNA_sequence = \"\"\n",
        "RNA_sequence = \"\"\n",
        "\n",
        "\n",
        "# iterate over the list\n",
        "for val in bases:\n",
        "    DNA_sequence = DNA_sequence + str(val)\n",
        "    if val is not \"T\":                        # condtition to substitue T for U\n",
        "      RNA_sequence = RNA_sequence + str(val)\n",
        "    else:  RNA_sequence = RNA_sequence + \"U\"\n",
        "\n",
        "print(\"The DNA sequence is\", DNA_sequence)\n",
        "print(\"The RNA sequence is\", RNA_sequence)"
      ],
      "execution_count": 59,
      "outputs": [
        {
          "output_type": "stream",
          "name": "stdout",
          "text": [
            "The DNA sequence is ATGCGTAGAC\n",
            "The RNA sequence is AUGCGUAGAC\n"
          ]
        }
      ]
    },
    {
      "cell_type": "markdown",
      "metadata": {
        "id": "Z1Ma26-wrLhL"
      },
      "source": [
        "## 4. Add a `break` or `continue` to the loop above."
      ]
    },
    {
      "cell_type": "code",
      "metadata": {
        "id": "rNgJSh9PsAp0",
        "colab": {
          "base_uri": "https://localhost:8080/"
        },
        "outputId": "791034ba-26d5-4f68-ba7b-91bcf04ffedf"
      },
      "source": [
        "# code to combine bases in to DNA and RNA sequences\n",
        "# sequence would be terminated if base is not in list of allowed bases\n",
        "\n",
        "# List of bases\n",
        "bases = [\"A\",\"T\",\"G\",\"C\",\"G\",\"T\",\"A\",\"G\",\"X\",\"C\"]\n",
        "\n",
        "# list of allowed bases\n",
        "allowed_bases = [\"A\",\"C\",\"G\",\"T\"]\n",
        "\n",
        "# variable to store the sequence\n",
        "DNA_sequence = \"\"\n",
        "RNA_sequence = \"\"\n",
        "\n",
        "\n",
        "# iterate over the list\n",
        "for val in bases:\n",
        "  if val not in allowed_bases:\n",
        "    print(\"Sequence terminated due to unknown base.\")\n",
        "\n",
        "    break                                         # break in case unallowed base\n",
        "    \n",
        "  DNA_sequence = DNA_sequence + str(val)\n",
        "  if val is not \"T\":\n",
        "    RNA_sequence = RNA_sequence + str(val)\n",
        "  else:  RNA_sequence = RNA_sequence + \"U\"\n",
        "\n",
        "print(\"The DNA sequence is\", DNA_sequence)\n",
        "print(\"The RNA sequence is\", RNA_sequence)"
      ],
      "execution_count": 47,
      "outputs": [
        {
          "output_type": "stream",
          "name": "stdout",
          "text": [
            "Sequence terminated due to unknown base.\n",
            "The DNA sequence is ATGCGTAG\n",
            "The RNA sequence is AUGCGUAG\n"
          ]
        }
      ]
    },
    {
      "cell_type": "markdown",
      "metadata": {
        "id": "HK1bZqF5sBSC"
      },
      "source": [
        "## 5. Demonstrate a loop including an `iterator or range`."
      ]
    },
    {
      "cell_type": "code",
      "metadata": {
        "id": "r8u8qObJsoc1",
        "colab": {
          "base_uri": "https://localhost:8080/"
        },
        "outputId": "9539052e-6aa9-4a3c-ec16-0040c05f52b5"
      },
      "source": [
        "from random import seed\n",
        "from random import randint\n",
        "seed(1)\n",
        "lowest_value = 0\n",
        "highest_value = 1000\n",
        "value = randint(lowest_value, highest_value)\n",
        "\n",
        "counter = 0\n",
        "for i in range(lowest_value,highest_value):         # Range used in iterator \n",
        "  counter += 1\n",
        "  if i == value:\n",
        "    print(\"After\", counter, \"tries. \", \"The value was found to be: \", i)\n",
        "    break"
      ],
      "execution_count": 56,
      "outputs": [
        {
          "output_type": "stream",
          "name": "stdout",
          "text": [
            "After 138 tries.  The value was found to be:  137\n"
          ]
        }
      ]
    },
    {
      "cell_type": "markdown",
      "metadata": {
        "id": "IXN9yr_LtSYT"
      },
      "source": [
        "# Thanks, see you in the next unit!"
      ]
    }
  ]
}